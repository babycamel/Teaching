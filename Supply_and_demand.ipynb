{
  "nbformat": 4,
  "nbformat_minor": 0,
  "metadata": {
    "colab": {
      "provenance": [],
      "authorship_tag": "ABX9TyNc1mxgG34yU0NfC5OHbONp",
      "include_colab_link": true
    },
    "kernelspec": {
      "name": "python3",
      "display_name": "Python 3"
    },
    "language_info": {
      "name": "python"
    }
  },
  "cells": [
    {
      "cell_type": "markdown",
      "metadata": {
        "id": "view-in-github",
        "colab_type": "text"
      },
      "source": [
        "<a href=\"https://colab.research.google.com/github/babycamel/Teaching/blob/master/Supply_and_demand.ipynb\" target=\"_parent\"><img src=\"https://colab.research.google.com/assets/colab-badge.svg\" alt=\"Open In Colab\"/></a>"
      ]
    },
    {
      "cell_type": "markdown",
      "source": [
        "# Solving and plotting simple equations\n",
        "\n",
        "Let's say we have  supply and demand equations:\n",
        "\n",
        "Supply: $Q_S = 5 p$\n",
        "\n",
        "Demand: $Q_D = 10 - 2 p$\n",
        "\n",
        "How can we find the equilibrium price and quantity? How can we plot supply and demand.\n",
        "\n",
        "First we need to import [SymPy](https://docs.sympy.org/latest/index.html) the tool we will use for this."
      ],
      "metadata": {
        "id": "RAhIUw4ifFbY"
      }
    },
    {
      "cell_type": "code",
      "source": [
        "#Import everything you need at the beginning\n",
        "\n",
        "from sympy.solvers import solve #This lets us solve equations\n",
        "from sympy import symbols #This lets us defien symbols\n",
        "from sympy.plotting import plot #This lets us plot graphs"
      ],
      "metadata": {
        "id": "iBEzp_nygZRu"
      },
      "execution_count": null,
      "outputs": []
    },
    {
      "cell_type": "markdown",
      "source": [
        "Now we define our symbols these are $Q$ and $p$."
      ],
      "metadata": {
        "id": "tvMABJesgnlk"
      }
    },
    {
      "cell_type": "code",
      "source": [
        "# Define symbols\n",
        "Q, p = symbols('Q, p')"
      ],
      "metadata": {
        "id": "igP01l0Fg0_N"
      },
      "execution_count": null,
      "outputs": []
    },
    {
      "cell_type": "code",
      "source": [
        "p #check"
      ],
      "metadata": {
        "colab": {
          "base_uri": "https://localhost:8080/",
          "height": 39
        },
        "id": "-QUOQgZRm2PC",
        "outputId": "16739a25-659d-4659-8b83-1ff17b8525e0"
      },
      "execution_count": null,
      "outputs": [
        {
          "output_type": "execute_result",
          "data": {
            "text/plain": [
              "p"
            ],
            "text/latex": "$\\displaystyle p$"
          },
          "metadata": {},
          "execution_count": 3
        }
      ]
    },
    {
      "cell_type": "markdown",
      "source": [
        "Now we define our system of equations\n",
        "\n",
        "Supply: $Q_S = 5 p$\n",
        "\n",
        "Demand: $Q_D = 10 - 2 p$\n",
        "\n",
        "The easiest way to do this is ignore the $Q_S$ and $Q_D$.\n"
      ],
      "metadata": {
        "id": "s758q-MUjLwI"
      }
    },
    {
      "cell_type": "code",
      "source": [
        "system = [10 - 2*p - 5*p] # Q_D - Q_S = 0 we use one equation here because the solve command doesn't liek solving two equations for one unknown\n",
        "#it would be fine with solving two equations for two unknowns\n",
        "sol = solve(system,p)\n",
        "sol #This gives the solution as a dictionary\n",
        "sol[p] #This gives the content of the dictionary entry p it will be a fraction\n",
        "sol[p].n() #this converts the fraction to decimal"
      ],
      "metadata": {
        "colab": {
          "base_uri": "https://localhost:8080/",
          "height": 37
        },
        "id": "vQg7JY7ujTj-",
        "outputId": "0de8cfb3-337f-42ca-c8d3-0f6773dd7a33"
      },
      "execution_count": null,
      "outputs": [
        {
          "output_type": "execute_result",
          "data": {
            "text/plain": [
              "1.42857142857143"
            ],
            "text/latex": "$\\displaystyle 1.42857142857143$"
          },
          "metadata": {},
          "execution_count": 4
        }
      ]
    },
    {
      "cell_type": "markdown",
      "source": [
        "Now let us plot the supply and demand functions.\n",
        "\n",
        "- First rearrange supply and demand to plot p againt Q\n",
        "- Then plot against Q\n"
      ],
      "metadata": {
        "id": "9h4qEL0ItAen"
      }
    },
    {
      "cell_type": "code",
      "source": [
        "p1 = solve(Q - 5*p, p)\n",
        "p2 = solve(Q - (10 -2*p),p)"
      ],
      "metadata": {
        "id": "4uBdMRJCuMmn"
      },
      "execution_count": null,
      "outputs": []
    },
    {
      "cell_type": "code",
      "source": [
        "print('p = ',p1[0]) #inverse supply function\n",
        "print('p = ',p2[0]) #inverse demand function"
      ],
      "metadata": {
        "colab": {
          "base_uri": "https://localhost:8080/"
        },
        "id": "W2Zy1w6ixezQ",
        "outputId": "aeac9d00-c80f-446f-fb1c-e1d9f1e04e30"
      },
      "execution_count": null,
      "outputs": [
        {
          "output_type": "stream",
          "name": "stdout",
          "text": [
            "p =  Q/5\n",
            "p =  5 - Q/2\n"
          ]
        }
      ]
    },
    {
      "cell_type": "code",
      "source": [
        "plot(p1, p2, (Q,0,10),ylabel ='p',legend = True, label = ['Supply','Demand'] ) # I added a legend with text labels"
      ],
      "metadata": {
        "colab": {
          "base_uri": "https://localhost:8080/",
          "height": 502
        },
        "id": "C5CPOnoeu74o",
        "outputId": "b73bfcff-d360-48c6-8895-62a88999fd03"
      },
      "execution_count": null,
      "outputs": [
        {
          "output_type": "display_data",
          "data": {
            "text/plain": [
              "<Figure size 640x480 with 1 Axes>"
            ],
            "image/png": "[encoded data removed]"
          },
          "metadata": {}
        },
        {
          "output_type": "execute_result",
          "data": {
            "text/plain": [
              "<sympy.plotting.backends.matplotlibbackend.matplotlib.MatplotlibBackend at 0x7ac5611824d0>"
            ]
          },
          "metadata": {},
          "execution_count": 7
        }
      ]
    },
    {
      "cell_type": "markdown",
      "source": [
        "Right click on image to copy or save it and paste to brightspace or Word document"
      ],
      "metadata": {
        "id": "zUZHHRS4vyHL"
      }
    },
    {
      "cell_type": "markdown",
      "source": [
        "# Doing this in a spreadsheet\n",
        "\n",
        "This can easily be done in a spreadsheet as well.\n",
        "\n",
        "So for example in Google Sheets [Example](https://docs.google.com/spreadsheets/d/14c0x9H3gGEULOUE40ifN7cSez1JLC-Z2-hPgcv07Fmk/edit?usp=sharing)\n",
        "\n",
        "In Excel you would do it the same way. Although cutomizing the chart is slightly different in Excel.\n",
        "\n",
        "No matter what tool you use the thought process is going to be the same. The supply and demand diagram from the spreadsheet can be seen below:\n",
        "\n",
        "![Inverse demand and Inverse supply.png](data:image/png;base64,iVBORw0KGgoAAAANSUhEUgAAAlgAAAFzCAYAAADi5Xe0AAA+nElEQVR4Xu3dCZAc9Xn/fyopEgguO6kkRRynclAOJC6XAzYGgcACLCQLEAiwDBh+xljAzySYP+YSl0GAwZjDFmBkgxGHsTl+cjgE4hK3MEKI+5KEhC4kIbT3vavZneev54t6mO2Z2Z3peXb2mZn3q6pLu709PbP70Xfnsz3d39lGAAAAYGqb+AoAAACUh4IFAABgjIIFAABgjIIFAABgjIIFAABgjIIFAABgjIIFAABgjIIFAABgjIIFAABgjIIFAABgjIIFAABgjIIFAABgjIIFAABgjIIFAABgjIIFAABgjIIFAABgjIIFAABgjIIFAABgjIIFAABgjIIFAABgjIIFAABgjIIFAABgbEQK1tlnnx0WFKeefl5ev9dSHlcp28IXsgNQKRQsB+rp5+X1ey3lcZWyLXwhOwCVQsFyoJ5+Xl6/11IeVynbwheyA1ApFCwH6unn5fV7LeVxlbItfCE7AJVSsYIVrdu0aZPccsstcv7558uMGTPkoYcekv7+fvn444/D16+66qpBt4tceeWVmdsrvc38+fPD+nPPPVeuuOIKefTRRyWVSg26XXS/LS0tMnPmzHC/t99+e+brCxculOuuu04uvPBCueCCC+SGG26QxYsXZ+3hE8Xe31D6+vpk7ty58tOf/jTc39133x3W5ft5FXt/0W0HBgbCvi+++GK55JJL5Kmnngpf7+npCffzk5/8JNyv/rzj+3jrrbfkN7/5TdhG7+vyyy+XBx98MDy2bMNlmK2U77UQr48r37bDPYZ6+P9dzH3l+9nlWx99ro/rj3/8Y/g/cNlll8n9998f/k9nS7Ltxo0bw7/6/abT6UHbqMbGxvD1n/3sZ/EvAUBRKl6w9Bdf9HG0PPHEE2Eb/eWsn2/YsGHQbdeuXRvW6y9spb8QZ8+enbMfXW6++eZBvzCz1+u/55xzjtx3333hay+88ELO7aPl+eefz+yjlPsrRAvQr371q5zb33rrrZmPI6XcX7Rev6f4tq+99prceOONOesff/zxzO31STX+9ex9ZovWD5WhKuV7LcTr41L5ti3mMdTy/+9i7ytaFxdfH33+v//7vzn7u/7660OW5Wyrfv3rX4ePlyxZkvl6ZMGCBeFr8+bNi38JAIpS8YJ17bXXyrp166SzszMcjdB1+lekin5JP/bYY4Nuq0cBdL3+haxeeeWV8Lk+YemT0+bNm8M+9QlK1y9atChz2+z7bWhoyKxXl156afiaFhHdhx7JePHFF8M6/Qs+Usr9FfLSSy+FbfXo0rJly8Jf1m+//bZcdNFFOT+vUu4vuu3Pf/5z+fDDD6W3tzfz89KjCFdffXVYr99bVMJ020h0//p96zb6uPTol67To2HZovsaKkNVyvdaiNfHpfJtW8xjqOX/38XeV/R44+Lro8/1aNirr74asnr33XdD9rpesyxnW/XGG2+Ej/WIY9xvf/vb8DUdOwCQRMUL1ooVKzLr2trawjp9SULpk5J+nP0yiv71rC/nnHfeedLd3R3W3XTTTeF20cspkeiwvv5lGonu97333sva8hNaQPRrwz2BlHJ/hUT7ePnllwet1/uO/7xKub983197e3tm/fvvv59Z39XVFdZFP+9C9GUh3U6PhmSL9jlUhqqU77UUXh5Xvm2LeQy1/P+72PvK97PLtz76/Jlnnvl0I/nkZUhdr485kmRbpUe29Iij/n/KLqdaEDWP7GIIAKWqeMHSIywR/QUX3/a2224Ln0cvo3zwwQfh8z/84Q+ZbaK/TAst2Uc4onX65BY3Z86czNf1r9iVK1eGv1jj552Ucn+F6Pk4um1ra+ug9dGTsC6RUu4vWqflKaJP2tH67HNQstfH6fetf+nrUS496pVvu2jdcBmW8r0Ox+PjyrdtsY+hVv9/F3tf0TZx8fXR501NTVlbSTjXTNdrlpEk20b05Vv9XI82RrSs6rqHH344sw4ASlXxghUXX68v2ejn0cso0cta+pJOZPr06Znb5Vv065FoXb7zSPQvVT3hWV9ayL69/kJevXp1ZrtS7q8QPXKh28afcPTE3Gg/kVLuL1oX//7i+yy0XstFvvOS4tupfOvyrS/ley3E6+NS+bbNty7f+lr9/13sfUXrs+Ur/tHn8ayio5jZRyaTbBvR/2f6/emJ8dHFE3pyvG6jL5cCQFLuCpY+2elfzPoyih4B0F/Q+hJK9hOI/jLU2+hLYcOJ7z8f/cX65ptvyj333BPOz9Ht9YqsSCn3V0i0X/2rOpseTYk/xlLuL37bUtf/7ne/C5/r1VJ6LpCejxNd8aZLvhOq4+LrS/leC/H6uFS+bfOty7e+Vv9/R4a7r+jxZp94rkdZ499H9Hn8aGNzc3NYry/tRZJsmy36v6ZXPGoO+tIgLw8CKJe7gqWiv+r1L2L995FHHhn09ejKuPi5NPnk2/9QOjo6wvZ6DkaklPsrJDpp9k9/+tOg9fpLPf4YS7m/+G1LXR+dO6N/yUfWrFmT2S77qED8toXWl/K9FuL1cal82+ZbV2h9Lf7/zifffUVHEfVrET1PMP59RJ/Hp3mILhTInooiybbZ9Lw5Xafnmr3++uvhYy31AFAOlwUr+4lUl/jJt/oEqev1SIC+5KJ/NesJuXrOhK7XS84j+fYfueaaa8LX9GonPXdG9/Pcc8+FdXpVVqSU+ytEr67SbfWKNd2H/tW+dOnSzF/52Y+xlPuL37bU9dF5SXr1lZYWPXdG/3qPtssuOPHbFlpfyvdaiNfHpfJtm29dofW1+P+72PuK5vvSqUJ0Oz0XLbpt9vcRfa7ZaEbxKz7143K2jdPHoCe7RwVQMwKAcrgsWEpfQtH10dxA2fTlhWgOm/iiv1Q/+uijzLaF9q/0yTt++2jRS7gjpdxfIfrSg578G7+9vpQSfRwp5f7ity11ffbJyfkWvdy90G0LrS/ley3E6+NS+bbNt26o9bX2/7vY+9LJS+Nf1yNM0ceR6PN887jdcccdme2SbhsXlUxddELbfOe0AUAp3BasJ598MqyP5gaK05Nq9URhPUdH/+rU8yz0SiydoTlbof1H9CUBfZLTJxKdBVs/fuedd+KbFX1/Q9EjMfoEo7/A9SWwu+66K+w332Ms9v7y3baU9frX/r333huOGOnPQE8s1ydEveRdt9OX1Qrddqj1pXyv+Xh9XCrftvnWDbW+Fv9/F3Nfeg6aHhnTXPWEeC1XegVk/PuIPterY3Ub3Z8e/Xr66acHnb+VdNu47KlN9KVbACjXiBQsAChHoSKUTynbFhKde6UvE65fvz7+ZQAoGQULgDullKZSto3To146f1Z0Hlj8ggMASIqCBcCdUkpTKdvGRbfV5Ze//GXOm4MDQFIULADulFKaStk2Ts/V0nO29ErJ+DxaAFAOChYAAIAxChYAAIAxChYAAIAxChYAAIAxChYAAIAxChYAAIAxChYAAIAxChYAAIAxChYAAIAxChYAAIAxChYAAIAxChYAAIAxChYAAIAxChYAAIAxChYAAIAxChZQpn/8x3+Mr6oanh87j6068bMBPkHBAspUzU8onh87j6068bMBPkHBQl35qDVd0lKM7CcU/fjmm2+WMWPGyD//8z/Lo48+Gtbvvffesnr16vCx/rvvvvuGj9vb2+XEE0+UXXbZRX7wgx9IR0fHoH3NnDlTJkyYED5/5JFHwj7/7d/+TQ4++GB56aWXMtsOtZ9sTU1NMnXq1LDdXXfdNeixD7UP3e7ee++VL3/5y2F5/PHH5ZlnnpFdd9110PepXnvtNZk8ebJ88YtfDF+fM2fOoP3k+/mooR5bOfo/2lDSUoxqynyofcR/xvHva+7cuWH/hx9+uDQ0NBT9NaXfb/T9r1q1SsaNG5fZBqgHFCzUlQMu7yxpKUb8SemCCy6Qrq4umTdvXnhiUxdddJHccccd4ePf/e53ctlll2XWL1myRHp7e+X+++/PrI/2pbdpa2sLn+u+9PP+/n55+OGHwxN4ZKj9ZDvzzDPltttuC0/O+nH2Yx9qH7rd6aefHp7E9b61AFx77bXS2dk56PtU+kSq2+h+7r777lDIsveT7+ejhnps5dj0za+XtBSjmjIfah/xn3H8+zrttNNCHlogzzjjjKK/pn7605/KLbfcEj6ePXu2zJgxI7MNUA8oWKgr8QI13FKM+JNSvr/mn3vuuXCUQelRh0WLFoWP99hjD0mlUuHjgYEB2WuvvT65oeTu6+ijjw63XbBggXR3d2fWq6H2k02PKEVP3mvWrBn02IfaR/Zj0W3085aWlkFfzyfaNhL/nrK/NtRjK0e8QA23FKOY78lL5kPtI/4zjn9feuRJadaaT7FfU4sXLw73rY477jh5/vnnM9sA9YCChboSL1DDLcWIPylliz7fvHmz7LbbbtLX1ydjx44NT4jqX//1X8M20fIv//Ivg26bTn/6MmVjY6McccQRYRt9+e3NN9/MfG2o/WTToxl6JEPpY8p+vEPtI/5YCn2fqrm5ObzMpU/q+rJZ9teGut1Qj60c8QI13FKMYr4nL5kPtY9Cjz36WL8HpUUu+2jjcF9T+v3uvvvu4f6/8pWvhJ8DUE8oWKgr3/1VV0lLMeJPStmyP9ejGT//+c/DS22Rr371q5mjEHHxfUX0JaE//OEPg44aDLWfbLqdFiC1fv36Qfcx1D7ij2Woz6dMmRJePnzqqafCS1jF/nyGemzlaDr20JKWYhT7PXnIPJJvH9n3p+fAxb+vjz76KHysuWhZKvZrkbPOOksuvPBC+f73v59ZB9QLChZQpviTUrbsz/XJTT/Xk44j55xzjrz77rvhr/s777wznBweie9rv/32CycW65NqdOJyZKj9ZDvvvPNk1qxZ4dyZc889d9B9DLWP+GMZ6nM98VmPkujLfXpuTrE/n6EemzfFfk8eMh9qH/qxrtOXDnV/8e/r/PPPD+fd/eY3vwlFqdivRebPnx/uQ89BA+oNBQsoU/xJKVv25xs3bpSddtopnAwd0fNXTjjhBPn3f/93mThxoixbtizztfi+Xn31VRk/fnx4woqeGCND7Seblpdjjz02HMXQqwKz72OofcQfy1Cf64nUegWZHmHRE6CL/fkM9di8KfZ78pD5UPuITsr/z//8z1CC4t/XTTfdFPav96P5FPu1iK7Xzz/88MPMOqBeULAAADniZS/bUF/Lpif6H3jggfHVQF2gYAEAcgxVoob6WrYvfelL8sQTT8RXA3WBggUAAGCMggUAAGCMggUAAGCMggUAAGCMggUAAGCMggUAAGCMggUAAGCMggUAAGCMggUAAGCMggUAAGCMggUAAGCMggUAAGCMggUAAGCMggUAAGCMggUAAGCMgrXVhg0bZJttthm0AAAAJEGL2Gru3Lly6KGHxlcDAACUjIK11cUXXyyXXHJJfDUAAEDJKFhbHXLIITJmzBj53Oc+J2PHjpU1a9bENwEAACgKBWurz3/+8/LYY49JKpWShQsXyuTJk+ObAAAAFIWClcfAwIB89rOfja/OeOihh+SAyzvl4Kva5eLfr5XHnn9TXnnlFRYWFhYWFpYqXpYtWxZ/yk+MgpWHHsX6+7//+/jqjK997Wty2h09oWTp8s0ty7n39MjC5f2Sjm+MitCBAV/IxBfy8IdM/LHMhIK11c477xxeGtRy9cILL8hJJ50U3yRDC5ZavnFArpnXK5N+/knR0uXYG7vk/720Wdq7qVqVZDkoYINMfCEPf8jEH8tMKFhbabn6yle+In/5l38pkyZNkubm5vgmGVHBirT3pEOp0nIVFS0tXVq+tIRh5FkOCtggE1/Iwx8y8ccyEwpWAvGCFdFjVvoy4Xn39ISXDaOy9aM7euTpd1OSomuNGMtBARtk4gt5+EMm/lhmQsFKoFDByraueUBmze+TQ6/99KjWt2d2yW3P9UljBy8fWrMcFLBBJr6Qhz9k4o9lJhSsBIopWJHelMhDr6XkxN92Z4rWhJ91yiX39cqba/rjmyMhy0EBG2TiC3n4Qyb+WGZCwUqglIKV7a21/XLplmKlBSsqW1q8tID1bo5vjVJYDgrYIBNfyMMfMvHHMhMKVgJJC1ZEXyLUlwr1JcOoaOlLifqSor60iNJZDgrYIBNfyMMfMvHHMhMKVgLlFqyInvT+zLsp5tQyYDkoYINMfCEPf8jEH8tMKFgJWBWsbMypVR7LQQEbZOILefhDJv5YZkLBSmAkClaEObWSsRwUsEEmvpCHP2Tij2UmFKwERrJgRZhTqzSWgwI2yMQX8vCHTPyxzISClUAlClY25tQanuWggA0y8YU8/CETfywzoWAlUOmCFWFOrcIsBwVskIkv5OEPmfhjmQkFK4HRKljZmFNrMMtBARtk4gt5+EMm/lhmQsFKwEPBijCn1icsBwVskIkv5OEPmfhjmQkFKwFPBStS73NqWQ4K2CATX8jDHzLxxzITClYCHgtWtnqcU8tyUMAGmfhCHv6QiT+WmVCwEvBesCL1NKeW5aCADTLxhTz8IRN/LDOhYCVQLQUrUg9zalkOCtggE1/Iwx8y8ccyEwpWAtVWsLLV6pxaloMCNsjEF/Lwh0z8scyEgpVANResSK3NqWU5KGCDTHwhD3/IxB/LTChYCdRCwcpWC3NqWQ4K2CATX8jDHzLxxzITClYCtVawItU8p5bloIANMvGFPPwhE38sM6FgJVCrBStSjXNqWQ4K2CATX8jDHzLxxzITClYCtV6wslXLnFqWgwI2yMQX8vCHTPyxzISClUA9FayI9zm1LAcFbJCJL+ThD5n4Y5kJBSuBeixYEa9zalkOCtggE1/Iwx8y8ccyEwpWAvVcsLJ5mlPLclDABpn4Qh7+kIk/lplQsBKgYA3mYU4ty0EBG2TiC3n4Qyb+WGZCwUqAglXYaM2pZTkoYINMfCEPf8jEH8tMKFgJULCGV+k5tSwHBWyQiS/k4Q+Z+GOZCQUrAQpW8So1p5bloIANMvGFPPwhE38sM6FgJUDBSmYk59SyHBSwQSa+kIc/ZOKPZSYUrAQoWOUZiTm1LAcFbJCJL+ThD5n4Y5kJBSsBCpYNyzm1LAcFbJCJL+ThD5n4Y5kJBSsBCpa9cufUshwUsEEmvpCHP2Tij2UmFKyYZ555RrbZZugfCwVr5CSdU8tyUMAGmfhCHv6QiT+WmQzdJOrQuHHjKFhOlDKnluWggA0y8YU8/CETfywzGbpJ1Bk9erXffvtRsJwpZk4ty0EBG2TiC3n4Qyb+WGYydJOoM3r06tlnn6VgOTXUnFp3PrrUbE4t2LD8RYXykYc/ZOKPZSZDN4k6Eh29UsMVrBkzZoQQWEZvmfvMO3LuHetk4s/aPz0p/hfN8os/rpQFC1/P2Z6FhYWFhaWYxcrQTaKOREev1HAFiyNYfkRzamm5sppTCzYsf1GhfOThD5n4Y5nJ0E2ijmipii+FULD8WbxlUFjNqQUblr+oUD7y8IdM/LHMpHCLqGNDlStFwfIne1CUO6cWbFj+okL5yMMfMvHHMpOhm0SdomBVn3yDIumcWrCRLxOMHvLwh0z8scxk6CaBvChY/gw3KEqZUws2hssElUUe/pCJP5aZULASoGD5U+ygKGZOLdgoNhNUBnn4Qyb+WGZCwUqAguVPqYNiqDm19GR5ztQqX6mZYGSRhz9k4o9lJhSsBChY/pQzKHQ6B53WQad3iMrWsTd2hekf2rupWkmVkwnskYc/ZOKPZSYUrAQoWP5YDIpoTi0tV8ypVT6LTGCHPPwhE38sM6FgJUDB8sdyUOgxK+bUKp9lJigfefhDJv5YZkLBSoCC5Y/loMjGnFrJjVQmSIY8/CETfywzoWAlQMHyx3JQ5MOcWqUb6UxQGvLwh0z8scyEgpUABcsfy0ExnHxzak1jTq0clcwEwyMPf8jEH8tMKFgJULD8sRwUxSo0p9aNOqdWEydqjUYmKIw8/CETfywzoWAlQMHyx3JQlGrYObXq9FSt0cwEucjDHzLxxzITClYCFCx/LAdFOfLNqfXdOp1Ty0sm+AR5+EMm/lhmQsFKgILlj+WgsFBoTq2rH66fObW8ZVLvyMMfMvHHMhMKVgIULH8sB4WlYefUquELEL1mUq/Iwx8y8ccyEwpWAhQsfywHxUiptzm1qiGTekIe/pCJP5aZULASoGD5YzkoRlq9zKlVTZnUA/Lwh0z8scyEgpUABcsfy0FRSbU8p1a1ZlKryMMfMvHHMhMKVgIULH8sB8VoqMU5tao9k1pDHv6QiT+WmVCwEqBg+WM5KEZTLc2pVSuZ1Ary8IdM/LHMhIKVAAXLH8tB4UW1z6lVi5lUM/Lwh0z8scyEgpUABcsfy0HhTbXOqVXLmVQj8vCHTPyxzISClQAFyx/LQeFVtc2pVQ+ZVBPy8IdM/LHMhIKVAAXLH8tBUQ2qYU6tesvEO/Lwh0z8scyEgpUABcsfy0FRTTzPqVWvmXhFHv6QiT+WmVCwEqBg+WM5KKqVtzm1yMQX8vCHTPyxzISClQAFyx/LQVHtvMypRSa+kIc/ZOKPZSYUrAQoWP5YDopaMdpzapGJL+ThD5n4Y5kJBSsBCpY/loOiFo3GnFpk4gt5+EMm/lhmQsFKgILlj+WgqGWVnFOLTHwhD3/IxB/LTChYCVCw/LEcFPWgEnNqkYkv5OEPmfhjmQkFKwEKlj+Wg6LejNScWmTiC3n4Qyb+WGZCwUqAguWP5aCoV9ZzapGJL+ThD5n4Y5kJBSsBCpY/loMCNnNqkYkv5OEPmfhjmQkFa6t33nlHxowZI9ttt134d+nSpfFNMihY/lgOCnyqnDm1yMQX8vCHTPyxzISCtdWuu+4qt956q7S1tcl1110XSlYhFCx/LAcFciWZU4tMfCEPf8jEH8tMKFh5dHR0hCNZhVCw/LEcFBhasXNqkYkv5OEPmfhjmQkFK6azs1MuvPBCOeyww+JfyqBg+WM5KFCc4ebUIhNfyMMfMvHHMhMKVpb29nb527/9W9l2223lwQcfjH85g4Llj+WgQGkKzal1wo0NZnNqoXyMEX/IxB/LTChYedx9993yT//0T/HVGTNmzAghsLCwDF4ee/5Nufj3a+Xgq9ozReuwq1vlintWy9N/eiNnexYWFhZvixUKVh56Dtb2228fX53BESx/LAcFyqdzat34wAdmc2qhfIwRf8jEH8tMKFhb7bLLLrJgwQLp6+uTOXPmyLe+9a34JhkULH8sBwVsRJlYzKmF8jFG/CETfywzoWBttWjRIvmv//ov2WGHHWTChAny4YcfxjfJoGD5YzkoYCOeSTlzaqF88Tww+sjEH8tMKFgJULD8sRwUsFEokyRzaqF8hfLA6CETfywzoWAlQMHyx3JQwEYxmRQ7pxbKV0weqCwy8ccyEwpWAhQsfywHBWyUkslwc2qhfKXkgcogE38sM6FgJUDB8sdyUMBGkkwKzan1ozt6mFOrTEnywMgiE38sM6FgJUDB8sdyUMBGuZmsax6QWfP7wonwUdHSE+T1RHk9YR6lKTcP2CMTfywzoWAlQMHyx3JQwIZVJjqnlk7pwJxa5bHKA3bIxB/LTChYCVCw/LEcFLAxEpkwp1ZyI5EHykMm/lhmQsFKgILlj+WggI2RzIQ5tUo3knkgGTLxxzITClYCFCx/LAcFbFQiE+bUKl4l8kBpyMQfy0woWAlQsPyxHBSwUelMmFNraJXOA8MjE38sM6FgJUDB8sdyUMDGaGXCnFr5jVYeKIxM/LHMhIKVAAXLH8tBARujnQlzag022nkgF5n4Y5kJBSsBCpY/loMCNjxlwpxavvLAJ8jEH8tMKFgJULD8sRwUsOExk3qeU8tjHvWOTPyxzISClQAFyx/LQQEb3jOptzm1vOdRj8jEH8tMKFgJULD8sRwUsFEtmdTLnFrVkkc9IRN/LDOhYCVAwfLHclDARrVlUutzalVbHvWATPyxzISClQAFyx/LQQEb1ZxJLc6pVc151Coy8ccyEwpWAhQsfywHBWzUQia1NKdWLeRRa8jEH8tMKFgJULD8sRwUsFFLmdTCnFq1lEetIBN/LDOhYCVAwfLHclDARq1mUq1zatVqHtWMTPyxzGRECtZbb70le+21l3zmM5+RfffdV9577734JlWNguWP5aCAjVrPpNrm1Kr1PKoRmfhjmcmIFKwxY8bIr3/9a+nq6pIrr7xSxo4dG9+kqlGw/LEcFLBRT5lUw5xa9ZRHtSATfywzGZGCte2228rmzZ/8Vuno6JDtttsutkV1o2D5YzkoYKMeM/E8p1Y95uEdmfhjmcmIFKxtthm82/jn1Y6C5Y/loICNes7E45xa9ZyHV2Tij2UmI9J84oUq/nm1o2D5YzkoYINMPuFlTi3y8IdM/LHMZESajxaq4ZZqRsHyx3JQwAaZDDbac2qRhz9k4o9lJtXddEYJBcsfy0EBG2SS32jNqUUe/pCJP5aZULASoGD5YzkoYINMhlfJObXIwx8y8ccyEwpWAhQsfywHBWyQSfEqMacWefhDJv5YZkLBSoCC5Y/loIANMklmpObUIg9/yMQfy0woWAlQsPyxHBSwQSblsZ5Tizz8IRN/LDOhYCVAwfLHclDABpnYsJpTizz8IRN/LDOhYCVAwfLHclDABpnYK2dOLfLwh0z8scyEgrXViy++KLvuuqtsv/324b0Uly5dGt8kg4Llj+WggA0yGTlJ5tQiD3/IxB/LTChYW+28884yd+5c6e7uliuuuEL22Wef+CYZFCx/LAcFbJDJyCtlTi3y8IdM/LHMhIKVR1dXl+ywww7x1RkULH8sBwVskEllDTenFnn4Qyb+WGZCwcpj7dq1svvuu8dXZ1Cw/LEcFLBBJqOj0Jxap8/+yGxOLdhgjPgx0NwkfYsXmmZCwcrj8ssvl4cffji+OmPGjBkhBBYWFhbPy5z578qPtxSrA6/o+PSk+Oub5MYHPpCFi17L2Z6FpdaX1557Rt6+5/ey7LqrZeUFZ8qHPzhKNk4eJ5u++fWw6DZWKFgxb731lpxxxhnx1YNwBMsfy0EBG2Tih75EeMU9q83m1IINxsjIGWhrlc1vvCLd998rHddfJS0/PlkaDx+fKVLxpWHKN6Xl9JNMM6FgZdGXBqdNmya9vb3xLw1CwfLHclDABpn4onlYzakFG4yR8qXb22Xz269L94NzpOOGq6XlrFOk8YgJOQUqU6QOO0BafvQD6Zh5pXTfd4/0vbpIBlqaM/uzzISCtZVO0zBp0qRwgvtwKFj+WA4K2CATX+J5lDOnFmzEM0Fh6c4O2fze29I993+l48ZrpXX6qdL47Yk5BSpTpCbvJy2nniDtv7hCuv94l/S9/KIMNDXGd5vDMhMK1lY77bSTbLPNNoOWQihY/lgOCtggE18K5ZFkTi3YKJRJPUt3dUlq6bvSM+8B6Zj1S2k97/+Txu8clFOgMkXqkHHS/N/HS/vVl0n3nD9I30svyMCmj+O7LZplJoVbBAqiYPljOShgg0x8GS6PUubUgo3hMqll6Z5uSS1bIj2PPSQdv5kpreefLo3HTM4pUJkiddC+0nzK/5H2Ky+WrnvvlL6FC6T/ow3x3ZbNMhMKVgIULH8sBwVskIkvpeQRzal1WIE5tWCjlEyqVbq3V1LLl0rP/Eek86brpfXCM6TpuCk5BSpTpCaNleb/e5y0XX6hdN3zO+n703PSv25tfLcjxjITClYCFCx/LAcFbJCJL0nyiObUOik2p9Yl9/Uyp5aBJJl4ld7cJ6kV70vv049L529vkLafnCVNxx+ZU6Ayy8S9pfnk70rbZedL1123Se8Lz0r/2lXx3VacZSYUrAQoWP5YDgrYIBNfys3jrbX9cumWYqUFKypb07YULy1gvZvjW6MY5WYyKlIpSa1cLr3PzpfOW2dJ28VnS9MJU2XT+D1yS5QuE8ZI84nHSNul50rXnbdI74KnpX/1yi2NzOf5fZaZULASoGD5YzkoYINMfLHKQ18ivP35Ppl6HXNqlcsqkxExMCCpVR9I73NPSucdN0vbjOnSPO0o2XTgnrklSpfxe4av63adt98UbpdatUKkv7qOdFpmQsFKgILlj+WggA0y8cU6D+bUKp91JolsCap/zapwZKnr97PDkSY94rRp4l65JWrrokes9MhV5+xZ4UhW6oPlW/5D1MZhTMtMKFgJULD8sRwUsEEmvoxkHjqdw7XMqVWykcwkn/61q8O5Tl133x7OfdJzoBq+NTanQGWK1PeOCOdS6TlVvU89JqkVyyTd1xffbU2xzISClQAFyx/LQQEbZOJLJfLQObXmbClVx8369KR45tQqbKQy6V//Ybj6Tq/C06vx9Kq8hoP2ySlQmSJ17GHh6j69yq/niXmSen+JpHt74rutC5aZULASoGD5YzkoYINMfKlkHsypVZxyM+nfuCHMB6XzQun8UDpPVMPB38gpUNHSePQhYb4pnXeq59G5klr2nqS7h3/3knpSbibZKFgJULD8sRwUsEEmvoxWHsypVVixmQw0bAozlOtM5Tpjuc5c3jB5XE6ByhSpqZPCDOg6E3rPvPslteQdSXd1xneLPIrNpBgUrAQoWP5YDgrYIBNfRjsP5tTKFc9koLlJ+hYvDO+dp++hp++l13Do/jkFKlOkjpwgreecGt6bT9+jT9+rL93RPmifKE08k3JQsBKgYPljOShgg0x88ZRHvc+pNdDaLH2vvSzLrrtaOmZeKS2nTZOGKQfkFKhMkTriQGk584fSccPV0v3gHNn89uuSbm+L7xYGLMcJBSsBCpY/loMCNsjEF4951PqcWgNtrbL5jVek+/57peP6q6TlxydL4+HjcwpUtDRM+aa0nH5S2FZvo7cdaG2J7xYjyHKcULASoGD5YzkoYINMfPGcR7XPqZVubw9HlfTokh5lajnrFGk8YkJOgcoUqcMOkJYf/UBWXnCmdN93j/S9ukgGWprju8UosBwnFKwEKFj+WA4K2CATX6olD89zaqU7O8J5Tnq+k5731Dr9VGn89sScApUpUpP3C+dR6flUel5V38svykBTY2Z/1ZJJPbHMhIKVAAXLH8tBARtk4ku15TGac2qlu7oktfRd6Zn3QLgST6/Ia/zOQTkFKlOkDhkXruzTK/z0Sj+94m9g08fx3eaotkzqgWUmFKwEKFj+WA4K2CATX6o1j5GcUyvd0y2pZUuk57GHwtxQOkdU4zGTcwpUpkgdtG+Ya0rnnNK5p3QOqv6PNsR3W7RqzaSWWWZCwUqAguWP5aCADTLxpRbySDqnVrq3V1LLl0rP/EfCbOU6a3nTcVNyClSmSE0aG2Y/11nQdTZ0nRW9f93a+G7LVguZ1BrLTChYCVCw/LEcFLBBJr7UUh6F5tS6bE67vPvCUul9+vHw/nn6PnpNxx+ZU6Ayy8S9w/vx6fvydd11W3ifvv61q+J3N2JqKZNaYZkJBSsBCpY/loMCNsjEl5rKI5WS1Mrl0vvsfFk580ZZdNKZ8vqhR8rH4/fILVG6TBgjzSceI22Xnitdd94ivQuelv7VK0XSI3su13BqKpMaYZkJBSsBCpY/loMCNsjEl6rMY2BAUqs+kN7nnpTOO26WthnTpXnaUbLpwD1zS9SW5ePxe8qbU6bKQ0efKb8+8Vdyydnz5M67l8i6TT5nL63KTGqcZSYUrAQoWP5YDgrYIBNfXOeRTkv/mlXhyFLX72eHI016xGnTxL1ySlS0NJ0wVdouPls6Z88KR7JSHywXSW2uqjm1XGdSpywzoWAlQMHyx3JQwAaZ+OIlj/61q8O5Tl133x7OfdJzoBq+NTanQGWK1PeOCOdS6TlVvU89JqkVyyTd1xffbV6e59RSXjLBpywzoWAlQMHyx3JQwAaZ+FLpPPrXfxiuvtOr8PRqPL0qr+GgfXIKVKZIHXtYuLpPr/LreWKepN5fIunenvhuExnNObWGUulMMDzLTChYCVCw/LEcFLBBJr6MVB79GzeE+aB0XiidH0rniWo4+Bs5BSpaGo8+JMw3pfNO9Tw6V1LL3pN0d1d8tyNiJOfUSmKkMkFylplQsBKgYPljOShgg0x8KTePgYZNYYZynalcZyzXmcsbJo/LKVCZIjV1UpgBXWdC75l3v6SWvCPprs74bkdN0jm1LJWbCexZZkLBSoCC5Y/loIANMvGl2DwGmpukb/HC8N55+h56+l56DYfun1OgMkXqyAnSes6p4b359D369L360h3t8d26VWhOrUvu65U314zsIa1iM0HlWGZCwUqAguWP5aCADTLxJZ7HQGuz9L32snTfd490zLxSWk6bJg1TDsgpUJkidcSB0nLmD6Xjhqul+8E5svnt1yXd3jZon9XurbX9cumWYqUFKypb07YULy1gvSMw00M8E4w+y0woWAlQsPyxHBSwQSY+DLS1yuY3XpFl118jHddfJS0/PlkaDx+fU6CipWHKN6Xl9JPCtt333xtuO9DaEt9tTdOXCG9/vk+mXvfpy4eHXtslN87vk3VNdifFM0b8scyEgpUABcsfy0EBG2RSWen29nBUSY8u6VGmlrNOkcYjJuQUqEyROuwAafnRD8LRKz2K1ffqIhloaY7vtq6N9JxajBF/LDOhYCVAwfLHclDABpmMjHRnRzjPSc930vOeWqefKo3fnphToDJFavJ+4TyqleefEc6r6nv5RRloaozvFsMYiTm1GCP+WGZCwUqAguWP5aCADTIpT7qrS1JL35WeeQ+EK/H0irzG7xyUU6AyReqQceHKPr3CT6/00yv+BjZ9nNkfediwnFOLTPyxzISClQAFyx/LQQEbZFKcdE+3pJYtkZ7HHgpzQ+kcUY3HTM4pUJkiddC+Ya4pnXNK557SOaj6P9oQ320O8rBlMacWmfhjmQkFK0tTU5N84QtfiK/OQcHyx3JQwAaZDJbu7ZXU8qXSM/+RMFu5zlredNyUnAKVKVKTxobZz3UWdJ0NXWdF71+3Nr7bopHHyEk6pxaZ+GOZCQVrq2XLlsluu+0m22wz/I+EguWP5aCAjXrNJL25T1Ir3pfepx8P75+n76PXdPyROQUqs0zcO7wfn74vX9ddt4X36etfuyq+27LVax6VVOqcWmTij2Umw7eJOrHjjjvK7NmzKVhVynJQwEbNZ5JKSWrlcul9dr503jpL2i4+W5pOmCqbxu+RW6J0mTBGmk88RtouPVe67rxFehc8Lf2rV25pZKWdt5NUzefhTDFzapGJP5aZDN8m6sTGjRvDvxSs6mQ5KGCjZjIZGJDUqg+k97knpfOOm6VtxnRpnnaUbDpwz9wSpcv4PcPXdbvO228Kt0utWiHSn3sEo5JqJo8qM9ScWo8992Z8c4wyy3EyfJuoMxSs6mQ5KGCj6jJJp6V/zapwZKnr97PDkSY94rRp4l65JWrrokes9MhV5+xZ4UhW6oPlIqkRmPLbQNXlUWNGek4t2LAcJ8O3iTpTTMGaMWNGCIGFhaU6lzcfnSfv3jFb3r/mcll9ximy/v8cHs6FiheoaNlw1MGy5kcnyorLLpAlt/xa3nroAXn1pZdy9svCUswy95l35Lw71snEn7VnytaRv2iWX/xxpSxY+HrO9iyVXawM3ybqTDEFiyNY/lgOCtjwkEn/+g/D1Xd6FZ5ejadX5TUctE9OgcockTr2sHB1n17l1/PEPEm9v0TSvT3x3VYlD3lgsOcXvmY2pxZsWI6T4dtEnaFgVSfLQQEblcykf+OGMB+Uzgul80PpPFENB38jp0BFS+PRh4T5pnTeqZ5H50pq2XuS7u6K77amVDIPFCfKxGJOLdiwHCfDt4k6Q8GqTpaDAjZGIpOBhk1hhnKdqVxnLNeZyxsmj8spUJkiNXVSmAFdZ0LvmXe/pJa8I+muzvhu68JI5IHy5Msk6ZxasJEvk6SGbxPIQcHyx3JQwEY5mQw0N0nf4oXhvfPaf3FFeC+9hkP3zylQmSJ15ARpPefU8N58+h59+l596Y72+G7rWjl5YGQMlUmpc2rBxlCZlIqClQAFyx/LQQEbxWQy0Nosfa+9LN333SMdM6+UltOmScOUA3IKVKZIHXGgtJz5Q+m44WrpfnCObH77dUm3t8V3izyKyQOVVWwmxcypBRvFZlIMClYCFCx/LAcFbGRnMtDWKpvfeEW6779XOq6/Slp+fLI0Hj4+p0BFS8OUb0rL6SeFbfU2etuB1pasvaNUjBF/Ss1kqDm11jVxUryFUjMZCgUrAQqWP5aDAsml29vDUSU9uvTBT86WlrNOkcYjJuQUqEyROuwAafnRD8LRKz2K1ffqIhloaY7vFgYYI/4kzYQ5tUZO0kzyoWAlQMHyx3JQYHjpzo5wnpOe76TnPbVOP1Uavz0xp0BlitTk/cJ5VHo+lZ5X1ffyizLQ1BjfLUYQY8Qfi0x0Oodr5/WG6R2isvXdG7vk/720Wdq7aVqlssgkQsFKgILlj+WgwKfSXV2SWvqu9Mx7IFyJp1fkNX7noJwClSlSh4wLV/bpFX7v//Ln4Yq/gU0fx3eLUcAY8ccyk/aeNHNqGbDMhIKVAAXLH8tBUY/SPd2SWrZEeh57KMwNpXNENR4zOadAZYrUQfuGuaZ0zimde0rnoOr/aMOgfZKJL+Thz0hkwpxa5bHMhIKVAAXLH8tBUcvSvb2SWr5UeuY/EmYr11nLm46bklOgMkVq0tgw+7nOgq6zoeus6P3r1sZ3mxeZ+EIe/ox0JsypVTrLTChYCVCw/LEcFLUgvblPUivel96nH5fO394gbT85S5qOPzKnQGWWiXtL88nflbbLzpeuu26T3heelf61q+K7LQmZ+EIe/lQqE+bUKp5lJhSsBChY/lgOiqqSSklq5XLpfXa+dN46S9ouPluaTpgqm8bvkVuidJkwRppPPEbaLj1Xuu68RXoXPC39q1duaWT252jUbSZOkYc/o5EJc2oNzTITClYCFCx/LAeFSwMDklr1gfQ+96R03nGztM2YLs3TjpJNB+6ZW6J0Gb9n+Lpu13n7TeF2qVUrRPor99dqzWdSZcjDn9HMhDm18rPMhIKVAAXLH8tBMarSaelfsyocWer6/exwpEmPOG2auFduidq66BErPXLVOXtWOJKV+mC5SGr0/xStmUxqBHn44yET5tQazDITClYCFCx/LAdFpfSvXR3Odeq6+/Zw7pOeA9XwrbE5BSpTpL53RDiXSs+p6n3qMUmtWCbpvr74bt2oxkxqGXn44y0T5tSyzYSClQAFyx/LQWGtf/2H4eo7vQpPr8bTq/IaDtonp0BlitSxh4Wr+/Qqv54n5knq/SWS7u2J79Y9z5nUI/Lwx2sm9TynlmUmFKwEKFj+WA6KpPo3bgjzQem8UDo/lM4T1XDwN3IKVLQ0Hn1ImG9K553qeXSupJa9J+nurvhuq5aHTPAp8vDHeyb1OKeWZSYUrAQoWP5YDorhDDRsCjOUd8/5Q5ixXGcub5g8LqdAZYrU1ElhBnSdCb1n3v2SWvKOpLs647utOZXMBMMjD3+qKZN6mVPLMhMKVgIULH8sB0VkoLlJ+hYvDO+dp++hp++l13Do/jkFKlOkvj1RWs85Nbw3n75Hn75XX7qjPb7bujESmSA58vCnGjOp9Tm1LDOhYCVAwfKnnEEx0Nosfa+9LN333SMdM6+UltOmScOUA3IKVKZIHTFBWs78oXTccLV0PzhHNr/9uqTb2+K7rXvlZAJ75OFPtWdSi3NqWWZCwUqAguVPMYNioK1VNr/xinTff690XH+VtPz4ZGk8fHxOgcoUqS1f0210W72N3nagtSW+WxRQTCaoHPLwp1YyqaU5tSwzoWAlQMHyJ3tQpNvbw1ElPbqkR5lazjolHHWKF6ho0aNVetRKj17pUay+VxfJQEtz1t6RhOUvKpSPPPyptUxqYU4ty0woWAlQsHxId3aE85z0fKcPLp4urdNPDedBxQtUpkgdun84j0rPp9LzqvpeflEGmhrju4URy19UKB95+FPLmVTrnFqWmVCwEqBgVVa6q0tSS9+VnnkPhCvx9Iq8xu8clFOgMkVq8rhwZZ9e4adX+ukVfwObPo7vFiPM8hcVykce/tRDJtU2p5ZlJhSsBChYIyPd0y2pZUuk57GHwtxQOkdU4zGTcwpUpkgd/I0w15TOObXs2p+FOaj6P9oQ3y1GieUvKpSPPPypp0yqZU4ty0woWAlQsMqT7u2V1PKl0jP/kTBbuc5a3nTclJwClSlSB+0TZj/XWdB1NnSdFb1/3dpB+7QcFLBBJr6Qhz/1monnObUsM6FgJUDBKk56c5+kVrwvvU8/Ht4/T99Hr+n4I3MKVKZIfWtseD8+fV++rrtuC+/T1792VXy3eVkOCtggE1/Iw596z8TjnFqWmVCwEqBgxaRSklq5XHqfnS+dt86StovPlqYTpsqm8XvklKiwTNxLmk88RtouPVe67rxFehc8Lf2rV25pZMlfj7ccFLBBJr6Qhz9k8ikvc2pZZkLBSqBuC9bAgKRWfSC9zz0pnXfcLG0zpkvztKNk04F75pYoXbas16/rdp233xRul1q1QqTf/i8Ty0EBG2TiC3n4Qya5RntOLctMKFgJ1HzBSqelf82qcGSp6/ezw5EmPeKkR55ySpQu4/cIR6z0yFXn7FnhSFbqg+Uiqcr92WE5KGCDTHwhD3/IpLDRmlPLMhMKVgK1VLD6164O5zp13X17OPdJz4HSc6FyStTWpel7R4RzqfScKj23KrVimaT7+uK7rTjLQQEbZOILefhDJsWp5JxalplQsBKoxoLVv/7DcPWdXoWnV+PpVXl6dV68QGWK1LGHhav79Co/vdov9f4SSff2xHfrhuWggA0y8YU8/CGT0lRiTi3LTChYCXguWP0bN4T5oLruvTPMD6XzROl8UfECFS2NRx8S5pvSead0/qnUsvck3d0V3617loMCNsjEF/Lwh0ySGck5tSwzoWAl4KFgDTRsCjOU60zlOmO5zlyuM5jHC1SmSE2dFGZA15nQdUb01JJ3JN3VGd9t1bIcFLBBJr6Qhz9kUj7rObUsM6FgJVDJgjXQ3BTeM0/fO0/fQ0/fS0/fUy9eoDJF6tsTpfWcU6XjxmvDe/Tpe/WlO9rju605loMCNsjEF/Lwh0zsWM2pZZkJBWurd955R3bZZRf5i7/4C/nqV78qL7/8cnyTjJEoWAOtzdL36iLpvu8e6Zh5pbScNk0aphyQU6AyReqICdJy5g+l44arpfvBObL57dcl3d4W323dsBwUsEEmvpCHP2QyMsqZU8syEwrWVscff7xceeWV0traKtOnT5fvfOc78U0yyilYA22tsvmNV6T7/nul4/qrpOXHJ0vj4eNzClSmSG35mm6j2+pt9LYDrS3x3dY9y0EBG2TiC3n4QyYjK8mcWpaZULC20qNXDQ0N4ePVq1fLl770pdgWnyqmYKXb28NRJT26pEeZWs46JRx1iheoaNGjVXrUSo9e6VEsPZo10NIc3y0KsBwUsEEmvpCHP2RSGaXMqWWZCQVrq8985jOSSqXCx729vfJXf/VXsS0+lV2w0p0d4TwnPd9Jz3tqnX5qOA8qXqAyRerQ/cN5VHo+lZ5XpedXDTQ1Zu0dSVgOCtggE1/Iwx8yqbzh5tSyzISCtdWf//mfZz5Ob6mzf/Znf5b11cG0YOkVeXplXrxAZYrU5HHhyj69wk+v9NMr/gY2fRzfFYxYDgrYIBNfyMMfMhk9hebUssyEgrXV3/3d38nmzZ+c/aZHsPSIViEnn3xyKFksLCwsLCwstbNcc8018af8xChYW335y1+WdevWhY/Xrl0r//Ef/xHbAgAAoDgUrK3+53/+Ry677DLp7OyUiy66SL7//e/HNwEAACgKBWurxYsXyxe/+EXZdtttwxWFOi8WAABAEhQsAAAAYxQsAAAAYxQsAAAAYxQsAAAAYxSsEpTyhtCojBdffFF23XVX2X777WXMmDGydOnS+CYYJc8884xssw2/YkZbf3+/nHLKKbLDDjuEC3meffbZ+CaoMP09tffee4dMvvGNb8iKFSvim6ACmpqa5Atf+EJ8tdlzPb/9SlDKG0KjMnbeeWeZO3eudHd3yxVXXCH77LNPfBOMknHjxlGwHLjhhhvkvPPOk66uLpkzZ04oWRhdY8eOlYcfflh6enrkgQcekP322y++CUbYsmXLZLfddsv7O8rquT53zyiolDeERuXpE4j+RYjRp0ev9Ekj3y8vVJY+mVu+/QfKt91224XfV0rnXtQj8KisHXfcUWbPnp33d5TVc33unlFQKW8IjcrTGfh33333+GqMAj16pS9F5fvlhcr6m7/5G7n88svlc5/7XBgfK1eujG+CCtt3331l3rx54XnkkUce4cj7KNi4cWP4N9/vKKvn+tw9o6BS3hAaladPInrYHaMrOnql8v3yQmXp76mzzjpLOjo6wkuEhxxySHwTVNiiRYvC+T06PnRy66Tn+KB8+X5HWT3X5+4ZBZXyhtCorLfeekvOOOOM+GqMgujolcr3ywuVpS9H6bkkqq+vLxzJwuj6+te/Ho5cRedgcQRr9OT7HWX1XJ+7ZxTEG0L7pFlMmzYtDASMPv2FFV8wevT3lI4RpU/of/3Xfx3bApWW/RIU52CNrny/n6ye63P3jIJ4Q2h/dJqGSZMmZU4YhS/5fnmhsvQqKL3CVv8Aufvuu+Xoo4+Ob4IK23///WXBggXh6mc9kqVTNmB05PsdZfVcn7tnFMQbQvuz0047cbTEMfIYffok/r3vfU8++9nPhisK169fH98EFRbNg6UnT+u/zN83evL9jrJ6rs/dMwAAAMpCwQIAADBGwQIAADBGwQIAADBGwQIAADBGwQIAADBGwQIAADBGwQIAADBGwQIAADBGwQIAADBGwQIAADBGwQIAADBGwQIAADBGwQIAADBGwQIAADBGwQIAADBGwQIAADBGwQIAADBGwQIAADBGwQIAADBGwQIAADBGwQIAADBGwQIAADBGwQKAPJ588kn52te+Jttvv33496mnnopvAgAFUbAAIOb111+Xz3/+8zJ37lzp6OiQRx55RHbcccewHgCKQcECgJijjz5abrrppkHrZs2aFdYDQDEoWAAQ8w//8A+ydu3aQevWr18f1gNAMShYABCz7bbbSm9v76B1+rmuB4BiULAAIEaPVK1Zs2bQuhUrVoTzsACgGBQsAIg56qij5MYbbwwfX3bZZXLppZfKzJkzZerUqbEtASA/ChYAxLzxxhvhaNWDDz4oixcvlj322CNcVfjaa6/FNwWAvChYAJDH/PnzZbfddgvzYP33f/+3LFy4UCZNmhTfDADyomABQJE4ggWgWBQsAAAAYxQsAAAAYxQsAAAAYxQsAAAAYxQsAAAAYxQsAAAAYxQsAAAAYxQsAAAAYxQsAAAAYxQsAAAAYxQsAAAAYxQsAAAAYxQsAAAAYxQsAAAAYxQsAAAAYxQsAAAAYxQsAAAAYxQsAAAAYxQsAAAAYxQsAAAAYxQsAAAAY/8/Yqlow9igzlUAAAAASUVORK5CYII=)"
      ],
      "metadata": {
        "id": "pXJBgqeMpYH-"
      }
    },
    {
      "cell_type": "markdown",
      "source": [
        "## There is a better way to set this up\n",
        "\n",
        "- never put numbers in the equation (This is true even when you use Excel for this)\n",
        "\n",
        "Our supply and demand system is\n",
        "\n",
        "Supply: $Q_S = 5 p$\n",
        "\n",
        "Demand: $Q_D = 10 - 2 p$\n",
        "\n",
        "which we can write as\n",
        "\n",
        "Supply: $Q_S = c p$\n",
        "\n",
        "Demand: $Q_D = a + b p$\n",
        "\n",
        "where $a = 10, b = - 2$ and $c = 5$.\n",
        "\n",
        "Then repeating the steps above"
      ],
      "metadata": {
        "id": "oXuT4PEQ1Kpe"
      }
    },
    {
      "cell_type": "code",
      "source": [
        "a,b,c,Q, p = symbols('a, b, c, Q, p') # note inside the symbols function don't use commas"
      ],
      "metadata": {
        "id": "CTX60n--1vA_"
      },
      "execution_count": null,
      "outputs": []
    },
    {
      "cell_type": "code",
      "source": [
        "system = [a + b*p - c*p] # Q_D - Q_S = 0\n",
        "sol = solve(system,p)\n",
        "sol #Notice the solution here is expressed purely symbolically - no numbers"
      ],
      "metadata": {
        "colab": {
          "base_uri": "https://localhost:8080/"
        },
        "id": "OzewSZWT12Fl",
        "outputId": "f8f9f12c-b455-4884-c935-7f77f31d297a"
      },
      "execution_count": null,
      "outputs": [
        {
          "output_type": "execute_result",
          "data": {
            "text/plain": [
              "{p: -a/(b - c)}"
            ]
          },
          "metadata": {},
          "execution_count": 9
        }
      ]
    },
    {
      "cell_type": "markdown",
      "source": [
        "Now we substitute in the values a,b, c\n",
        "\n",
        "doing it this is more accurate and allows us to vary the parameters a,b, and c."
      ],
      "metadata": {
        "id": "NNT6yICB2UBy"
      }
    },
    {
      "cell_type": "code",
      "source": [
        "sol[p].subs({a:10,b:-2,c:5}).n()"
      ],
      "metadata": {
        "colab": {
          "base_uri": "https://localhost:8080/",
          "height": 37
        },
        "id": "q1sUIpdA2fke",
        "outputId": "e8329986-908a-4d51-ff83-1c49649253aa"
      },
      "execution_count": null,
      "outputs": [
        {
          "output_type": "execute_result",
          "data": {
            "text/plain": [
              "1.42857142857143"
            ],
            "text/latex": "$\\displaystyle 1.42857142857143$"
          },
          "metadata": {},
          "execution_count": 10
        }
      ]
    },
    {
      "cell_type": "markdown",
      "source": [
        "Now change the values to a = 5, b = -1 and c = 2"
      ],
      "metadata": {
        "id": "CF6S4DLz2yMV"
      }
    },
    {
      "cell_type": "code",
      "source": [
        "sol[p].subs({a:5,b:-1,c:2}).n()"
      ],
      "metadata": {
        "colab": {
          "base_uri": "https://localhost:8080/",
          "height": 37
        },
        "id": "HScujTHD22VD",
        "outputId": "5a610cbf-ca2c-4814-8033-3c7b2e67f94b"
      },
      "execution_count": null,
      "outputs": [
        {
          "output_type": "execute_result",
          "data": {
            "text/plain": [
              "1.66666666666667"
            ],
            "text/latex": "$\\displaystyle 1.66666666666667$"
          },
          "metadata": {},
          "execution_count": 11
        }
      ]
    },
    {
      "cell_type": "markdown",
      "source": [
        "However the general solution doesn't change when you do this"
      ],
      "metadata": {
        "id": "4CX3KNWP6ugJ"
      }
    },
    {
      "cell_type": "code",
      "source": [
        "sol"
      ],
      "metadata": {
        "colab": {
          "base_uri": "https://localhost:8080/"
        },
        "id": "SC8m3DTP3EhL",
        "outputId": "4a5ab191-6460-4305-fe0a-9c8948f1be33"
      },
      "execution_count": null,
      "outputs": [
        {
          "output_type": "execute_result",
          "data": {
            "text/plain": [
              "{p: -a/(b - c)}"
            ]
          },
          "metadata": {},
          "execution_count": 12
        }
      ]
    },
    {
      "cell_type": "markdown",
      "source": [
        "Invert the function so that p is on the left and Q in the right. You will need tp do this no matter what tool you use because prices should be on the vertical axis.\n"
      ],
      "metadata": {
        "id": "MFL5RVxBYAWi"
      }
    },
    {
      "cell_type": "code",
      "source": [
        "p1 = solve(Q - c*p, p)\n",
        "p2 = solve(Q - (a + b*p),p)"
      ],
      "metadata": {
        "id": "l6hHcsIz7Uom"
      },
      "execution_count": null,
      "outputs": []
    },
    {
      "cell_type": "code",
      "source": [
        "print(p1)\n",
        "print(p2)"
      ],
      "metadata": {
        "colab": {
          "base_uri": "https://localhost:8080/"
        },
        "id": "qsmcDV8r7cn5",
        "outputId": "fe72cd59-80a4-41cf-af01-28c9df1a4a2e"
      },
      "execution_count": null,
      "outputs": [
        {
          "output_type": "stream",
          "name": "stdout",
          "text": [
            "[Q/c]\n",
            "[(Q - a)/b]\n"
          ]
        }
      ]
    },
    {
      "cell_type": "code",
      "source": [
        "newp1 = p1[0].subs({c:5})\n",
        "newp2 = p2[0].subs({a:10,b:-2})\n",
        "newp3 = p2[0].subs({a:5,b:-2}) #demand shift"
      ],
      "metadata": {
        "id": "DtWEWrRo7smu"
      },
      "execution_count": null,
      "outputs": []
    },
    {
      "cell_type": "code",
      "source": [
        "plot(newp1, newp2,newp3, (Q,0,10),ylabel ='p',legend=True,ylim=(0,5))"
      ],
      "metadata": {
        "colab": {
          "base_uri": "https://localhost:8080/",
          "height": 505
        },
        "id": "DwRkiUOr8jEt",
        "outputId": "bd5cab27-e618-4f82-8a18-a067c679b3d2"
      },
      "execution_count": null,
      "outputs": [
        {
          "output_type": "display_data",
          "data": {
            "text/plain": [
              "<Figure size 640x480 with 1 Axes>"
            ],
            "image/png": "[encoded data removed]"
          },
          "metadata": {}
        },
        {
          "output_type": "execute_result",
          "data": {
            "text/plain": [
              "<sympy.plotting.backends.matplotlibbackend.matplotlib.MatplotlibBackend at 0x7ac54a9aaf10>"
            ]
          },
          "metadata": {},
          "execution_count": 16
        }
      ]
    },
    {
      "cell_type": "markdown",
      "source": [
        "# Summary\n",
        "\n",
        "So you've seen how to solve and plot equations in Google colaboratory and how to plot equations in a spreadsheet.\n",
        "\n",
        "Spreadsheets can only solve equations numerically. They lack the ability to work with symbolic expressions.\n",
        "\n",
        "Notebooks on the other hand are a lot more powerful.\n",
        "\n",
        "Notebooks have two types of cells. A code cell and a text cell. In the text cell you can write equations in LaTeX format see my post in Brightspace on using the Brightspace equation editor. Also you will see that the same approach can be used in [Microsoft Word](https://support.microsoft.com/en-us/office/linear-format-equations-using-unicodemath-and-latex-in-word-2e00618d-b1fd-49d8-8cb4-8d17f25754f8).\n",
        "\n",
        "In the text cell you can also embed images as I did with the Google Sheets chart I created in the linked example above. You can also embed video.\n",
        "\n",
        "This notebook can be saved to Google Drive. You can also download it and send it to people (Be careful though the file should end in .ipynb not txt Windows will sometimes default to txt) . You can edit it, but only after you save it to Google drive. I've set the security setting to view only to prevent inadvertent editing and preserve the original copy.\n",
        "\n"
      ],
      "metadata": {
        "id": "37jmwZ_Xslka"
      }
    }
  ]
}