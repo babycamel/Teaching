{
 "cells": [
  {
   "cell_type": "markdown",
   "metadata": {},
   "source": [
    "# Farm and Agribusiness Management Notebook 1\n",
    "\n",
    "The following exercises are to be completed and submitted for grading.  Use pandas to dour calculations."
   ]
  },
  {
   "cell_type": "code",
   "execution_count": 4,
   "metadata": {
    "collapsed": true
   },
   "outputs": [],
   "source": [
    "import pandas as pd"
   ]
  },
  {
   "cell_type": "code",
   "execution_count": 5,
   "metadata": {
    "collapsed": true
   },
   "outputs": [],
   "source": [
    "data = {'Input level':[0,1,2,3,4,5,6,7,8],\n",
    "        'Nitrogen applied (lbs)': [0,25,50,75,100,125,150,175,200],\n",
    "        'TPP': [130,148,162,170,177,180,182,183,183],\n",
    "        'TC': [750,762.50,775,787.50,800,812.50,825,837.50,850],\n",
    "        'TR': [650,740,810,850,885,900,910,915,915],\n",
    "        'Profit': [(100),(22.50),35.00,62.50,85.00,87.50,85.00,77.50,65]}"
   ]
  },
  {
   "cell_type": "code",
   "execution_count": null,
   "metadata": {
    "collapsed": false
   },
   "outputs": [],
   "source": [
    "df=pd.DataFrame(data=data,columns=['Input level','Nitrogen applied (lbs)','TPP','TC','TR','Profit'])\n",
    "df"
   ]
  },
  {
   "cell_type": "markdown",
   "metadata": {},
   "source": [
    "Q.1. In the above table assume that the prices of both the input and the output have doubled . Calculate using pandas the new TC's and TR's and determine the profit maximizing input level for the new prices. Now assume that both prices have been cut in half and repeat the process.Explain your results.\n",
    "\n"
   ]
  },
  {
   "cell_type": "code",
   "execution_count": null,
   "metadata": {
    "collapsed": true
   },
   "outputs": [],
   "source": []
  },
  {
   "cell_type": "markdown",
   "metadata": {},
   "source": [
    "Q.2. Use several other price combinations for the production data contained in the new table created in Q.1. and find the profit maximizing input and output for each price combination. Pay close attention to what happens to these levels when the input price increases or decreases or when the output priceincreases or decreases."
   ]
  },
  {
   "cell_type": "code",
   "execution_count": null,
   "metadata": {
    "collapsed": true
   },
   "outputs": [],
   "source": []
  },
  {
   "cell_type": "markdown",
   "metadata": {},
   "source": [
    "Q.3. In the new table you created in Q.1. what would the profit maximizing input level be if the new price was $\\$ 0$? What would be true about TPP and MPP at this point?"
   ]
  },
  {
   "cell_type": "code",
   "execution_count": null,
   "metadata": {
    "collapsed": true
   },
   "outputs": [],
   "source": []
  },
  {
   "cell_type": "markdown",
   "metadata": {},
   "source": [
    "Q.4. How does the law of diminishing marginal returns cause MC to increase?"
   ]
  },
  {
   "cell_type": "code",
   "execution_count": null,
   "metadata": {
    "collapsed": true
   },
   "outputs": [],
   "source": []
  },
  {
   "cell_type": "markdown",
   "metadata": {},
   "source": [
    "Q.5. Does the equal marginal principle apply to personal decisions when you have lmited income and time? How do you allocate a limited amount of study time when faced with three exams on the same day?"
   ]
  },
  {
   "cell_type": "code",
   "execution_count": null,
   "metadata": {
    "collapsed": true
   },
   "outputs": [],
   "source": []
  },
  {
   "cell_type": "markdown",
   "metadata": {},
   "source": [
    "Q.6.Freda Farmer can invest capital in $\\$ 100$ increments and has three alternative uses for the capital, as shown in the following table . The values in the table are the marginal value products for each successive $\\$ 100$ of capital invested\n",
    "\n",
    "<TABLE>\n",
    "<TR><TD>Capital invested</TD><TD>Fertilizer $\\$ $</TD><TD>Seed ($\\$ $)</TD><TD>Chemicals ($\\$ $) </TD></TR>\n",
    "<HR>\n",
    "<TR><TD>First $\\$ 100$</TD><TD>400</TD><TD>250</TD><TD>350</TD></TR>\n",
    "<TR><TD>Second $\\$ 100 $</TD><TD>300</TD><TD>200</TD><TD>300</TD></TR>\n",
    "<TR><TD>Third $\\$ 100$</TD><TD>250</TD><TD>150</TD><TD>250</TD></TR>\n",
    "<TR><TD>Fourth $\\$ 100$</TD><TD>150</TD><TD>105</TD><TD>200</TD></TR>\n",
    "<TR><TD>Fifth $\\$ 100$</TD><TD>100</TD><TD>90</TD><TD>150</TD></TR>\n",
    "<HR>\n",
    "</TABLE>\n",
    "\n",
    "a. If Freda has an unlimited amount of capital available and no other alternative uses for it. how much should she allocation to each alternative?\n",
    "\n",
    "b. If Freda can borrow all the capital she needs for one year at 10 percent interest, how much should she borrowand how should it be used.?\n",
    "\n",
    "c. Assume that Freda has only $\\$ 700$ available. How should this limited amount of capital be allocated among the three uses? does your answer satisfy the equal marginal principle?\n",
    "\n",
    "d. Assuming that Freda has only $\\$ 1200$ available. How should this amount be allocated? What is the total income from using the $\\$ 1200$ this way? Would a different allocation increase the total income? The price of grain is $\\$ 0.09$ per pound and the rice of hay is $\\$ 0.06$ per pound."
   ]
  },
  {
   "cell_type": "code",
   "execution_count": null,
   "metadata": {
    "collapsed": true
   },
   "outputs": [],
   "source": []
  },
  {
   "cell_type": "code",
   "execution_count": 16,
   "metadata": {
    "collapsed": false
   },
   "outputs": [],
   "source": [
    "data2 = {'Feed ration': ['A','B','C','D','E','F','G'],\n",
    "        'Grain(lb)': [825,900,975,1050,1125,1200,1275],\n",
    "        'Hay': [1350,1130,935,770,625,525,445],\n",
    "        'Total cost of ration': [155.25,148.80,143.85,140.70,138.75,139.50,141.45]}"
   ]
  },
  {
   "cell_type": "code",
   "execution_count": 17,
   "metadata": {
    "collapsed": false,
    "scrolled": true
   },
   "outputs": [
    {
     "data": {
      "text/html": [
       "<div>\n",
       "<table border=\"1\" class=\"dataframe\">\n",
       "  <thead>\n",
       "    <tr style=\"text-align: right;\">\n",
       "      <th></th>\n",
       "      <th>Feed ration</th>\n",
       "      <th>Grain(lb)</th>\n",
       "      <th>Hay</th>\n",
       "      <th>Total cost of ration</th>\n",
       "    </tr>\n",
       "  </thead>\n",
       "  <tbody>\n",
       "    <tr>\n",
       "      <th>0</th>\n",
       "      <td>A</td>\n",
       "      <td>825</td>\n",
       "      <td>1350</td>\n",
       "      <td>155.25</td>\n",
       "    </tr>\n",
       "    <tr>\n",
       "      <th>1</th>\n",
       "      <td>B</td>\n",
       "      <td>900</td>\n",
       "      <td>1130</td>\n",
       "      <td>148.80</td>\n",
       "    </tr>\n",
       "    <tr>\n",
       "      <th>2</th>\n",
       "      <td>C</td>\n",
       "      <td>975</td>\n",
       "      <td>935</td>\n",
       "      <td>143.85</td>\n",
       "    </tr>\n",
       "    <tr>\n",
       "      <th>3</th>\n",
       "      <td>D</td>\n",
       "      <td>1050</td>\n",
       "      <td>770</td>\n",
       "      <td>140.70</td>\n",
       "    </tr>\n",
       "    <tr>\n",
       "      <th>4</th>\n",
       "      <td>E</td>\n",
       "      <td>1125</td>\n",
       "      <td>625</td>\n",
       "      <td>138.75</td>\n",
       "    </tr>\n",
       "    <tr>\n",
       "      <th>5</th>\n",
       "      <td>F</td>\n",
       "      <td>1200</td>\n",
       "      <td>525</td>\n",
       "      <td>139.50</td>\n",
       "    </tr>\n",
       "    <tr>\n",
       "      <th>6</th>\n",
       "      <td>G</td>\n",
       "      <td>1275</td>\n",
       "      <td>445</td>\n",
       "      <td>141.45</td>\n",
       "    </tr>\n",
       "  </tbody>\n",
       "</table>\n",
       "</div>"
      ],
      "text/plain": [
       "  Feed ration  Grain(lb)   Hay  Total cost of ration\n",
       "0           A        825  1350                155.25\n",
       "1           B        900  1130                148.80\n",
       "2           C        975   935                143.85\n",
       "3           D       1050   770                140.70\n",
       "4           E       1125   625                138.75\n",
       "5           F       1200   525                139.50\n",
       "6           G       1275   445                141.45"
      ]
     },
     "execution_count": 17,
     "metadata": {},
     "output_type": "execute_result"
    }
   ],
   "source": [
    "df2=pd.DataFrame(data=data2,columns=['Feed ration','Grain(lb)','Hay','Total cost of ration'])\n",
    "df2"
   ]
  },
  {
   "cell_type": "code",
   "execution_count": null,
   "metadata": {
    "collapsed": true
   },
   "outputs": [],
   "source": []
  }
 ],
 "metadata": {
  "anaconda-cloud": {},
  "kernelspec": {
   "display_name": "Python [Root]",
   "language": "python",
   "name": "Python [Root]"
  },
  "language_info": {
   "codemirror_mode": {
    "name": "ipython",
    "version": 3
   },
   "file_extension": ".py",
   "mimetype": "text/x-python",
   "name": "python",
   "nbconvert_exporter": "python",
   "pygments_lexer": "ipython3",
   "version": "3.5.1"
  }
 },
 "nbformat": 4,
 "nbformat_minor": 0
}
