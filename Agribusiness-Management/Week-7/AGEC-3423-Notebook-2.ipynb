{
 "cells": [
  {
   "cell_type": "markdown",
   "metadata": {
    "nbgrader": {
     "grade": false,
     "grade_id": "H-1",
     "locked": true,
     "solution": false
    }
   },
   "source": [
    "\n",
    "\n",
    "# AGEC 3423 Notebook 2\n",
    "\n",
    "This notebook is based on Chapter 8 and 9 of Kay, Edwards, Duffy.\n"
   ]
  },
  {
   "cell_type": "markdown",
   "metadata": {
    "nbgrader": {
     "grade": true,
     "grade_id": "Q-1",
     "locked": false,
     "points": 1,
     "solution": true
    }
   },
   "source": [
    "Q1. In the following table, first double and then halve both prices used in Table 8-1 and find the new least-cost \n",
    "input combination. in each case.Why is there no change? But what would happen to profit in each case?\n",
    "\n",
    "<table style=\"width:100%\">\n",
    " <tr>\n",
    " <th>Fixed ration</th>\n",
    " <th>Grain (lb)</th>\n",
    " <th>Hay (lb)</th>\n",
    " <th>Input substitution ratio</th>\n",
    " <th></th>\n",
    " <th>Input price ratio</th>\n",
    " <th>Total cost of ration</th>\n",
    " </tr>\n",
    " \n",
    " <tr>\n",
    " <td>A</td><td>825</td><td>1,350</td><td></td><td></td><td></td><td>$155.25</td>\n",
    " </tr>\n",
    " \n",
    " <tr>\n",
    " <td> </td><td> </td><td> </td><td>2.93</td><td>></td><td>1.50</td><td></td>\n",
    " </tr>\n",
    " \n",
    " <tr>\n",
    " <td>B</td><td>900</td><td>1,130</td><td> </td><td> </td><td> </td><td>$148.80</td>\n",
    " </tr>\n",
    " \n",
    " <tr>\n",
    " <td></td><td></td><td></td><td>2.60</td><td>></td><td>1.50</td><td></td>\n",
    " </tr>\n",
    " \n",
    " <tr>\n",
    " <td>C</td><td>975</td><td>935</td><td></td><td></td><td></td><td>$143.85</td>\n",
    " </tr>\n",
    " \n",
    " <tr>\n",
    " <td></td><td></td><td></td><td>2.20</td><td>></td><td>1.50</td><td></td>\n",
    " </tr>\n",
    " \n",
    " <tr>\n",
    " <td>D</td><td>1,050</td><td>770</td><td></td><td></td><td></td><td>$140.70</td>\n",
    " </tr>\n",
    " \n",
    " <tr>\n",
    " <td></td><td></td><td></td><td>1.93</td><td>></td><td>1.50</td><td></td>\n",
    " </tr>\n",
    " \n",
    " <tr>\n",
    " <td><b>E</b></td><td><b>1,125</b></td><td><b>625</b></td><td></td><td></td><td></td><td><b>$138.75</b></td>\n",
    " </tr>\n",
    " \n",
    " <tr>\n",
    " <td></td><td></td><td></td><td>1.33</td><td><</td><td>1.50</td><td></td>\n",
    " </tr>\n",
    " \n",
    " <tr>\n",
    " <td>F</td><td>1,200</td><td>525</td><td></td><td></td><td></td><td>$139.50</td>\n",
    " </tr>\n",
    " \n",
    " <tr>\n",
    " <td></td><td></td><td></td><td>1.07</td><td><</td><td>1.50</td><td></td>\n",
    " </tr>\n",
    " \n",
    " <tr>\n",
    " <td>G</td><td>1,275</td><td>445</td><td></td><td></td><td></td><td>$141.45</td>\n",
    " </tr>\n",
    " </table>"
   ]
  },
  {
   "cell_type": "code",
   "execution_count": null,
   "metadata": {
    "collapsed": true
   },
   "outputs": [],
   "source": []
  },
  {
   "cell_type": "markdown",
   "metadata": {
    "nbgrader": {
     "grade": true,
     "grade_id": "Q-2",
     "locked": false,
     "points": 1,
     "solution": true
    }
   },
   "source": [
    "Q2. Is there always one best livestock ration? Or does it depend on prices? Would you guess that feed manufactureres know about input substitution and least-cost input combinations?\n",
    "Explain how they might use this knowledge."
   ]
  },
  {
   "cell_type": "code",
   "execution_count": null,
   "metadata": {
    "collapsed": true
   },
   "outputs": [],
   "source": []
  },
  {
   "cell_type": "markdown",
   "metadata": {
    "nbgrader": {
     "grade": true,
     "grade_id": "Q-3",
     "locked": false,
     "points": 1,
     "solution": true
    }
   },
   "source": [
    "Q3. Explain how the slope of the isoquant affects the input substitution ratio."
   ]
  },
  {
   "cell_type": "code",
   "execution_count": null,
   "metadata": {
    "collapsed": true
   },
   "outputs": [],
   "source": []
  },
  {
   "cell_type": "markdown",
   "metadata": {
    "nbgrader": {
     "grade": true,
     "grade_id": "Q-4",
     "locked": false,
     "points": 1,
     "solution": true
    }
   },
   "source": [
    "Q4. Carefully explain the differences between an iso-quant and a production possibility curve."
   ]
  },
  {
   "cell_type": "code",
   "execution_count": null,
   "metadata": {
    "collapsed": true
   },
   "outputs": [],
   "source": []
  },
  {
   "cell_type": "markdown",
   "metadata": {
    "nbgrader": {
     "grade": true,
     "grade_id": "Q-5",
     "locked": false,
     "points": 1,
     "solution": true
    }
   },
   "source": [
    "Q5. Reduce the profit from alfalfa in the table below to \\$ 36 per acre, calculate the new output profit ratio., and fine the new profit-maximizing combination. \n",
    "Do you produce more of or less of the enterprisewith the now lower profit? Why?What would be the effectof doublingboth profits per acre? Halving both profits per acre?\n",
    "\n",
    "<table style=\"width:100%\">\n",
    "\n",
    "<tr>\n",
    "<th>\n",
    "Acres of Alfalfa\n",
    "</th>\n",
    "<th>\n",
    "Acres of grain sorghum\n",
    "</th>\n",
    "<th>\n",
    "Profit from Alfalfa (\\$)\n",
    "</th>\n",
    "<th>Profit from grain sorghum (\\$)\n",
    "</th>\n",
    "<th>Total profit (\\$)\n",
    "</th>\n",
    "</tr>\n",
    "\n",
    "<tr>\n",
    "<td>0</td><td>1000</td><td>0</td><td>30,000</td><td>30,000</td>\n",
    "</tr>\n",
    "\n",
    "<tr>\n",
    "<td>100</td><td>975</td><td>5,000</td><td>29,250</td><td>34,250</td>\n",
    "</tr>\n",
    "\n",
    "<tr>\n",
    "<td>200</td><td>925</td><td>10,0000</td><td>27,750</td><td>37,750</td>\n",
    "</tr>\n",
    "\n",
    "<tr>\n",
    "<td>300</td><td>845</td><td>15,000</td><td>25,350</td><td>40,350</td>\n",
    "</tr>\n",
    "\n",
    "<tr>\n",
    "<td>400</td><td>745</td><td>20,000</td><td>22,350</td><td>42,350</td>\n",
    "</tr>\n",
    "\n",
    "<tr>\n",
    "<td>500</td><td>620</td><td>25,000</td><td>18,600</td><td>43,600</td>\n",
    "</tr>\n",
    "\n",
    "<tr>\n",
    "<td><b>600</b></td><td><b>470</b></td><td><b>30,000</b></td><td><b>14,100</b></td><td><b>44,100</b></td>\n",
    "</tr>\n",
    "\n",
    "<tr>\n",
    "<td>700</td><td>270</td><td>35,000</td><td>8,100</td><td>43,100</td>\n",
    "</tr>\n",
    "\n",
    "<tr>\n",
    "<td>800</td><td>0</td><td>40,000</td><td>0</td><td>40,000</td>\n",
    "</tr>\n",
    "\n",
    "</table>"
   ]
  },
  {
   "cell_type": "code",
   "execution_count": null,
   "metadata": {
    "collapsed": true
   },
   "outputs": [],
   "source": []
  },
  {
   "cell_type": "markdown",
   "metadata": {
    "nbgrader": {
     "grade": true,
     "grade_id": "Q-6",
     "locked": false,
     "points": 1,
     "solution": true
    }
   },
   "source": [
    "Q6. Why is the profit maximizing combination of even supplementary and complementary enterprises generally in the competitive range?"
   ]
  },
  {
   "cell_type": "code",
   "execution_count": null,
   "metadata": {
    "collapsed": true
   },
   "outputs": [],
   "source": []
  },
  {
   "cell_type": "markdown",
   "metadata": {
    "nbgrader": {
     "grade": true,
     "grade_id": "Q-7",
     "locked": false,
     "points": 1,
     "solution": true
    }
   },
   "source": [
    "Q7. Where climate and rainfall permit most farms produce two or more crops. Explain the reason for this production practice in terms of the shape of the PPC and the output profit ratio."
   ]
  },
  {
   "cell_type": "code",
   "execution_count": null,
   "metadata": {
    "collapsed": true
   },
   "outputs": [],
   "source": []
  },
  {
   "cell_type": "markdown",
   "metadata": {
    "nbgrader": {
     "grade": true,
     "grade_id": "Q-8",
     "locked": false,
     "points": 1,
     "solution": true
    }
   },
   "source": [
    "Q8.For two similar inputs such as soybean oil mealand cottonseed oil mealin a livestock feed ration, would you expect the substitution ratio to be nearly constant or to decline sharplyas one inputis susbtituted for another? Why?"
   ]
  },
  {
   "cell_type": "code",
   "execution_count": null,
   "metadata": {
    "collapsed": true
   },
   "outputs": [],
   "source": []
  }
 ],
 "metadata": {
  "anaconda-cloud": {},
  "celltoolbar": "Create Assignment",
  "kernelspec": {
   "display_name": "Python [Root]",
   "language": "python",
   "name": "Python [Root]"
  },
  "language_info": {
   "codemirror_mode": {
    "name": "ipython",
    "version": 3
   },
   "file_extension": ".py",
   "mimetype": "text/x-python",
   "name": "python",
   "nbconvert_exporter": "python",
   "pygments_lexer": "ipython3",
   "version": "3.5.1"
  }
 },
 "nbformat": 4,
 "nbformat_minor": 0
}
