{
  "nbformat": 4,
  "nbformat_minor": 0,
  "metadata": {
    "colab": {
      "provenance": [],
      "authorship_tag": "ABX9TyMm21rr8DpBXKKMU3X/DaEK",
      "include_colab_link": true
    },
    "kernelspec": {
      "name": "python3",
      "display_name": "Python 3"
    },
    "language_info": {
      "name": "python"
    }
  },
  "cells": [
    {
      "cell_type": "markdown",
      "metadata": {
        "id": "view-in-github",
        "colab_type": "text"
      },
      "source": [
        "<a href=\"https://colab.research.google.com/github/babycamel/Teaching/blob/master/minimalcost.ipynb\" target=\"_parent\"><img src=\"https://colab.research.google.com/assets/colab-badge.svg\" alt=\"Open In Colab\"/></a>"
      ]
    },
    {
      "cell_type": "markdown",
      "source": [
        "# Minimal cost-combination"
      ],
      "metadata": {
        "id": "RPbRhQr-4L7i"
      }
    },
    {
      "cell_type": "code",
      "source": [
        "# Imports some things we will need\n",
        "from sympy import diff # This allows us to take derivatives (slopes) of functions/curves\n",
        "from sympy.solvers import solve #This lets us solve equations\n",
        "from sympy import symbols #This lets us define symbols\n",
        "from sympy.plotting import plot #This lets us plot graphs"
      ],
      "metadata": {
        "id": "lYbkTLZd4NFn"
      },
      "execution_count": null,
      "outputs": []
    },
    {
      "cell_type": "markdown",
      "source": [
        "Next define the symbols"
      ],
      "metadata": {
        "id": "hY37844Wsjf2"
      }
    },
    {
      "cell_type": "code",
      "source": [
        "x, y, p_x, p_y, C, Q = symbols('x y p_x p_y C Q')"
      ],
      "metadata": {
        "id": "6W9wEDaq4T4X"
      },
      "execution_count": null,
      "outputs": []
    },
    {
      "cell_type": "markdown",
      "source": [
        "Define iso-quants and total cost in implicit form so as a function $f(x,y) = 0$. This makes it easy to rearrange them using solve()."
      ],
      "metadata": {
        "id": "PjDtFBcyspd_"
      }
    },
    {
      "cell_type": "code",
      "source": [
        "quantity = [Q - x*y] # written in implicity form\n",
        "costs = [C - p_x*x - p_y*y] #written in implicit form"
      ],
      "metadata": {
        "id": "OLkRwCxN4zID"
      },
      "execution_count": null,
      "outputs": []
    },
    {
      "cell_type": "markdown",
      "source": [
        "Rearrange total cost and isoquant equations"
      ],
      "metadata": {
        "id": "DQFzp7Igs9C1"
      }
    },
    {
      "cell_type": "code",
      "source": [
        "isocost = solve(costs[0],y) #rearrange to the cost equation to ge ty on the left.\n",
        "isocost"
      ],
      "metadata": {
        "colab": {
          "base_uri": "https://localhost:8080/"
        },
        "id": "Rm5IzqTt5BY9",
        "outputId": "12492d06-981d-4d97-fcd9-8e4567457c7e"
      },
      "execution_count": null,
      "outputs": [
        {
          "output_type": "execute_result",
          "data": {
            "text/plain": [
              "[(C - p_x*x)/p_y]"
            ]
          },
          "metadata": {},
          "execution_count": 32
        }
      ]
    },
    {
      "cell_type": "code",
      "source": [
        "indifferencecurve = solve(quantity[0],y)\n",
        "indifferencecurve[0]"
      ],
      "metadata": {
        "colab": {
          "base_uri": "https://localhost:8080/",
          "height": 52
        },
        "id": "zC410xYH6HBH",
        "outputId": "dad17d45-6fe9-4e18-ef60-e2db4c374c6b"
      },
      "execution_count": null,
      "outputs": [
        {
          "output_type": "execute_result",
          "data": {
            "text/plain": [
              "Q/x"
            ],
            "text/latex": "$\\displaystyle \\frac{Q}{x}$"
          },
          "metadata": {},
          "execution_count": 33
        }
      ]
    },
    {
      "cell_type": "markdown",
      "source": [
        "AP - 3 Week 6\n",
        "\n",
        "$p_x = 0.5$ steel\n",
        "$p_y = 1$ aluminium\n",
        "\n",
        "$t_x^{\\prime} = 0.25$\n",
        "so add this to all prices\n",
        "\n",
        "$p_x = 0.75$ steel\n",
        "$p_y = 1.25$ aluminium\n",
        "\n",
        "\n",
        "So we need to plot some indifferenc curves for different values of U and two costs lines"
      ],
      "metadata": {
        "id": "0hMEgmCj6Yze"
      }
    },
    {
      "cell_type": "code",
      "source": [
        "ic240 = indifferencecurve[0].subs({Q:64})\n",
        "ic135 = indifferencecurve[0].subs({Q:135})\n",
        "print(ic240)\n",
        "print(ic135)"
      ],
      "metadata": {
        "colab": {
          "base_uri": "https://localhost:8080/"
        },
        "id": "AbnanOXC7EjO",
        "outputId": "88d02938-0714-4d2f-82da-fdae3fb166a0"
      },
      "execution_count": null,
      "outputs": [
        {
          "output_type": "stream",
          "name": "stdout",
          "text": [
            "64/x\n",
            "135/x\n"
          ]
        }
      ]
    },
    {
      "cell_type": "code",
      "source": [
        "isocost05 = isocost[0].subs({C:16,p_x:0.5,p_y:1}) #cost line\n",
        "isocost_tax = isocost[0].subs({C:16,p_x:0.75,p_y:1.25}) #cost line\n"
      ],
      "metadata": {
        "id": "8yHNwJqb6X7N"
      },
      "execution_count": null,
      "outputs": []
    },
    {
      "cell_type": "code",
      "source": [
        "plot(ic135, ic240, isocost05, isocost_tax,(x,0,25), xlabel = 'Steel',ylabel ='Aluminium',legend = True, ylim = [0,100],  label = ['ic Q 135','ic Q 64','Initial cost','After tax'])"
      ],
      "metadata": {
        "colab": {
          "base_uri": "https://localhost:8080/",
          "height": 505
        },
        "id": "qcEZtf-R8PlJ",
        "outputId": "7ee747ca-1f14-40a6-aeb6-140e3958bdcd"
      },
      "execution_count": null,
      "outputs": [
        {
          "output_type": "display_data",
          "data": {
            "text/plain": [
              "<Figure size 640x480 with 1 Axes>"
            ],
            "image/png": "[encoded data removed]"
          },
          "metadata": {}
        },
        {
          "output_type": "execute_result",
          "data": {
            "text/plain": [
              "<sympy.plotting.backends.matplotlibbackend.matplotlib.MatplotlibBackend at 0x7a84f3887f10>"
            ]
          },
          "metadata": {},
          "execution_count": 36
        }
      ]
    },
    {
      "cell_type": "markdown",
      "source": [
        "One can see from this that introducing a tax changes the relative cost of both goods and  decreases the input requirement for steel in the minimal cost combination (see points of tangency)"
      ],
      "metadata": {
        "id": "3Q-lQXq1BK45"
      }
    },
    {
      "cell_type": "code",
      "source": [],
      "metadata": {
        "id": "ixYsimmzBVKb"
      },
      "execution_count": null,
      "outputs": []
    }
  ]
}