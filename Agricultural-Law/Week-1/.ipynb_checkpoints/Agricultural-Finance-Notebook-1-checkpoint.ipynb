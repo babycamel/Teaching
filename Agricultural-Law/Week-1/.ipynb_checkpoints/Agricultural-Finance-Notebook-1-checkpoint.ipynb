{
 "cells": [
  {
   "cell_type": "markdown",
   "metadata": {},
   "source": [
    "# Agricultural Finance - Notebook 1\n",
    "\n",
    "Below you will fina series of exercises based on Charles moss' textbook Agricultural Finance, in this notebook exercises for Chapter 1 and Chapter 2 are included. The exercises for Chapter 1 are mostly verbal and the answer cell is set to Markdown by default. In the answer cell (below the question) you should write your answer using Markdown. You can change the cell format using the toolbar above. The exercises for chapter 2 are numerical and the answer cell is mostly set to Code by default. \n",
    "\n",
    "To start with as a warm up exercise go to the Markdown tutorial here http://www.markdowntutorial.com/ and complete the exercises.\n",
    "\n",
    "A markdown cheatsheet is avaialble here https://github.com/adam-p/markdown-here/wiki/Markdown-Cheatsheet if Github is currently firewalled either use VPN to access these or some other notes can be found here http://assemble.io/docs/Cheatsheet-Markdown.html"
   ]
  },
  {
   "cell_type": "markdown",
   "metadata": {},
   "source": [
    "## Chapter 1 -End of Chapter Exercises"
   ]
  },
  {
   "cell_type": "markdown",
   "metadata": {},
   "source": [
    "1-1 R Choose a crop or livestock enterprise. What imports must be purchased before the production process begins? What (if any) inputs must be \n",
    "inputs (if any) must be purchased after the production process begins?"
   ]
  },
  {
   "cell_type": "markdown",
   "metadata": {},
   "source": []
  },
  {
   "cell_type": "markdown",
   "metadata": {},
   "source": [
    "1-2 R Compare the sources of capital used in a farming enterprise (owner equity, debt, lease etc.). Which of these sources of capital are considered at risk and why?"
   ]
  },
  {
   "cell_type": "code",
   "execution_count": null,
   "metadata": {
    "collapsed": true
   },
   "outputs": [],
   "source": []
  },
  {
   "cell_type": "markdown",
   "metadata": {},
   "source": [
    "1-3 R Compare the inputs financed by the supplier (i.e. trade credit) with the use of third party credit \n",
    "(i.e. obtaining an operating loan from the bank to purchase inputs). Which mechanism is likely to yield the lowest input price? Which is likely to yield the lowest interest rate?\n",
    "                                                                                                         )"
   ]
  },
  {
   "cell_type": "markdown",
   "metadata": {},
   "source": []
  },
  {
   "cell_type": "markdown",
   "metadata": {},
   "source": [
    "1-4 R What is meant by \"barren money\"?"
   ]
  },
  {
   "cell_type": "markdown",
   "metadata": {},
   "source": []
  },
  {
   "cell_type": "markdown",
   "metadata": {},
   "source": [
    "1-5 R How do the legal instruments for agricultural credit change with the debt repayment period?"
   ]
  },
  {
   "cell_type": "markdown",
   "metadata": {},
   "source": []
  },
  {
   "cell_type": "markdown",
   "metadata": {},
   "source": [
    "## Chapter 2 - End of Chapter Exercises\n",
    "\n",
    "### 2.5 Review questions (These are verbal questions)"
   ]
  },
  {
   "cell_type": "markdown",
   "metadata": {},
   "source": [
    "2-1R what is financial intermediation and how does financial intermediation add value to the economy?"
   ]
  },
  {
   "cell_type": "markdown",
   "metadata": {},
   "source": []
  },
  {
   "cell_type": "markdown",
   "metadata": {},
   "source": [
    "2-2R Compare and contrast real capital and monetary capital."
   ]
  },
  {
   "cell_type": "markdown",
   "metadata": {},
   "source": []
  },
  {
   "cell_type": "markdown",
   "metadata": {},
   "source": [
    "2-3R What are the two largest sources of capital for agriculture?"
   ]
  },
  {
   "cell_type": "markdown",
   "metadata": {},
   "source": []
  },
  {
   "cell_type": "markdown",
   "metadata": {},
   "source": [
    "2-4R What is a collateralized loan?"
   ]
  },
  {
   "cell_type": "markdown",
   "metadata": {},
   "source": []
  },
  {
   "cell_type": "markdown",
   "metadata": {},
   "source": [
    "2-5R What is monitoring cost and how does it affect the firm's choice of capital structure?"
   ]
  },
  {
   "cell_type": "markdown",
   "metadata": {},
   "source": []
  },
  {
   "cell_type": "markdown",
   "metadata": {},
   "source": [
    "2-6R What advantage do financial intermediaries provide depositors (savers)?\n",
    "What advantages do financial intermediaries provide borrowers?"
   ]
  },
  {
   "cell_type": "markdown",
   "metadata": {},
   "source": []
  },
  {
   "cell_type": "markdown",
   "metadata": {},
   "source": [
    "2-7R What are the two components of banking regulations in the United States? Compare these to banking regulations in China. How are they similar? How are they different?"
   ]
  },
  {
   "cell_type": "markdown",
   "metadata": {},
   "source": []
  },
  {
   "cell_type": "markdown",
   "metadata": {},
   "source": [
    "2-8R what is a\"bank run\"? How does the current regulation prevent a run? What was the traditional mechanism for preventing a bank run?"
   ]
  },
  {
   "cell_type": "markdown",
   "metadata": {},
   "source": []
  },
  {
   "cell_type": "markdown",
   "metadata": {},
   "source": [
    "2-9R Which regulator charters national banks?"
   ]
  },
  {
   "cell_type": "markdown",
   "metadata": {},
   "source": []
  },
  {
   "cell_type": "markdown",
   "metadata": {},
   "source": [
    "2-10R What is the role of the Federal deposit Insurance Corporation?"
   ]
  },
  {
   "cell_type": "markdown",
   "metadata": {},
   "source": []
  },
  {
   "cell_type": "markdown",
   "metadata": {},
   "source": [
    "### 2.6 Numeric Exercises \n",
    "\n",
    "Note: You may cut and paste from the class example notebook to help you answer these questions. If you need to write a mixture of words and calculations you will need to insert extra cells using the toolbar and spread your answer over multiple cells.\n",
    "\n",
    "You need to show working using Python code in your answer. Some basic Python statistics functions are described here https://docs.python.org/3/library/statistics.html\n",
    "\n",
    "In this exercise I will begin to introduce you to using the Pandas module (http://pandas.pydata.org/pandas-docs/version/0.18.1/tutorials.html#tutorial-modern) for working with data. \n",
    "\n"
   ]
  },
  {
   "cell_type": "code",
   "execution_count": 10,
   "metadata": {
    "collapsed": false
   },
   "outputs": [],
   "source": [
    "# This is a comment: you will first need to import and configure the Pandas module (see below). \n",
    "# Note this is the first example of Python code you have seen.\n",
    "\n",
    "import pandas as pd #imports pandas\n",
    "import numpy as np #impports numpy\n",
    "import matplotlib.pyplot as plt #imports matplotlib\n",
    "pd.set_option('max_columns', 50) # sets the width of the data frame to a maximum of 50 columns\n",
    "%matplotlib inline \n",
    "# %matplotlib inline enables inline mode to plot figures within the notebook. Try switching this \n",
    "# n and off by placing # at the beginning of the line."
   ]
  },
  {
   "cell_type": "markdown",
   "metadata": {},
   "source": [
    "2-1E Assume that Robinson Crusoe is willing to trade 0.895 potatoes tomorrow for 1 potatoe today. What is the implied intertemporal preference (discount rate)? If the natives on the next island are willing to trade 0.923 potatoes tomorrow for a potatoe today, will Robinson Crusoe be a borrower or lender? "
   ]
  },
  {
   "cell_type": "code",
   "execution_count": null,
   "metadata": {
    "collapsed": false
   },
   "outputs": [],
   "source": [
    "\n"
   ]
  },
  {
   "cell_type": "markdown",
   "metadata": {},
   "source": [
    "2-2E Using the following example and assuming that all the bank's capital is tier 1 capita, does the bank meet the capital adequacy requirement? \n",
    "\n",
    "<u>Example</u>: \n",
    "\n",
    "assume that main street bank in Delhi, Oklahoma has total assets of $\\$216,116. $ This is comprised of cash of $\\$5,224 $, loans of $\\$ 199, 120 $, intangible assets of $\\$ 7, 159 $ and premises and fixed assets of $\\$ 5,613 $. The loans are comprised of real estate loans (collateralized by mortgages) of $\\$ 177,580 $, agricultural loans of $\\$ 8,010 $, and loans to individuals of $\\$15,535 $. In addition assume that the bank has established a reserve of $\\$2,005 $ for possible bad debts. Deposits are $\\$201,666 $ and common stock is $\\$1,000 $.\n",
    "\n",
    "\n",
    "\n",
    "\n",
    "\n"
   ]
  },
  {
   "cell_type": "code",
   "execution_count": null,
   "metadata": {
    "collapsed": true
   },
   "outputs": [],
   "source": []
  },
  {
   "cell_type": "markdown",
   "metadata": {},
   "source": [
    "2-3E Given the lending returns in the following table (Table 2.13, Moss) :"
   ]
  },
  {
   "cell_type": "code",
   "execution_count": 11,
   "metadata": {
    "collapsed": false,
    "scrolled": true
   },
   "outputs": [
    {
     "data": {
      "text/html": [
       "<div>\n",
       "<table border=\"1\" class=\"dataframe\">\n",
       "  <thead>\n",
       "    <tr style=\"text-align: right;\">\n",
       "      <th></th>\n",
       "      <th>Loan Amount</th>\n",
       "      <th>1</th>\n",
       "      <th>2</th>\n",
       "      <th>3</th>\n",
       "      <th>4</th>\n",
       "    </tr>\n",
       "  </thead>\n",
       "  <tbody>\n",
       "    <tr>\n",
       "      <th>0</th>\n",
       "      <td>93025</td>\n",
       "      <td>3492</td>\n",
       "      <td>3721</td>\n",
       "      <td>3721</td>\n",
       "      <td>3721</td>\n",
       "    </tr>\n",
       "    <tr>\n",
       "      <th>1</th>\n",
       "      <td>78539</td>\n",
       "      <td>3142</td>\n",
       "      <td>3142</td>\n",
       "      <td>2565</td>\n",
       "      <td>3142</td>\n",
       "    </tr>\n",
       "    <tr>\n",
       "      <th>2</th>\n",
       "      <td>76787</td>\n",
       "      <td>3071</td>\n",
       "      <td>3071</td>\n",
       "      <td>3071</td>\n",
       "      <td>3071</td>\n",
       "    </tr>\n",
       "    <tr>\n",
       "      <th>3</th>\n",
       "      <td>84290</td>\n",
       "      <td>3372</td>\n",
       "      <td>3372</td>\n",
       "      <td>2732</td>\n",
       "      <td>3372</td>\n",
       "    </tr>\n",
       "    <tr>\n",
       "      <th>4</th>\n",
       "      <td>99253</td>\n",
       "      <td>3074</td>\n",
       "      <td>3011</td>\n",
       "      <td>3970</td>\n",
       "      <td>3970</td>\n",
       "    </tr>\n",
       "    <tr>\n",
       "      <th>5</th>\n",
       "      <td>85280</td>\n",
       "      <td>3411</td>\n",
       "      <td>3411</td>\n",
       "      <td>3230</td>\n",
       "      <td>3411</td>\n",
       "    </tr>\n",
       "    <tr>\n",
       "      <th>6</th>\n",
       "      <td>83150</td>\n",
       "      <td>3326</td>\n",
       "      <td>3326</td>\n",
       "      <td>3326</td>\n",
       "      <td>3326</td>\n",
       "    </tr>\n",
       "    <tr>\n",
       "      <th>7</th>\n",
       "      <td>85617</td>\n",
       "      <td>3425</td>\n",
       "      <td>3425</td>\n",
       "      <td>3425</td>\n",
       "      <td>3425</td>\n",
       "    </tr>\n",
       "    <tr>\n",
       "      <th>8</th>\n",
       "      <td>98083</td>\n",
       "      <td>3923</td>\n",
       "      <td>3415</td>\n",
       "      <td>3923</td>\n",
       "      <td>3923</td>\n",
       "    </tr>\n",
       "    <tr>\n",
       "      <th>9</th>\n",
       "      <td>93707</td>\n",
       "      <td>3748</td>\n",
       "      <td>3748</td>\n",
       "      <td>3748</td>\n",
       "      <td>3464</td>\n",
       "    </tr>\n",
       "    <tr>\n",
       "      <th>10</th>\n",
       "      <td>94467</td>\n",
       "      <td>3779</td>\n",
       "      <td>2250</td>\n",
       "      <td>858</td>\n",
       "      <td>2342</td>\n",
       "    </tr>\n",
       "    <tr>\n",
       "      <th>11</th>\n",
       "      <td>95985</td>\n",
       "      <td>1608</td>\n",
       "      <td>3839</td>\n",
       "      <td>3839</td>\n",
       "      <td>3839</td>\n",
       "    </tr>\n",
       "    <tr>\n",
       "      <th>12</th>\n",
       "      <td>82640</td>\n",
       "      <td>3306</td>\n",
       "      <td>3306</td>\n",
       "      <td>2540</td>\n",
       "      <td>3306</td>\n",
       "    </tr>\n",
       "    <tr>\n",
       "      <th>13</th>\n",
       "      <td>87771</td>\n",
       "      <td>3511</td>\n",
       "      <td>3511</td>\n",
       "      <td>3511</td>\n",
       "      <td>3511</td>\n",
       "    </tr>\n",
       "    <tr>\n",
       "      <th>14</th>\n",
       "      <td>84307</td>\n",
       "      <td>2883</td>\n",
       "      <td>3372</td>\n",
       "      <td>3372</td>\n",
       "      <td>3372</td>\n",
       "    </tr>\n",
       "    <tr>\n",
       "      <th>15</th>\n",
       "      <td>99813</td>\n",
       "      <td>3993</td>\n",
       "      <td>3993</td>\n",
       "      <td>3599</td>\n",
       "      <td>3993</td>\n",
       "    </tr>\n",
       "    <tr>\n",
       "      <th>16</th>\n",
       "      <td>90260</td>\n",
       "      <td>3610</td>\n",
       "      <td>3610</td>\n",
       "      <td>3610</td>\n",
       "      <td>3610</td>\n",
       "    </tr>\n",
       "    <tr>\n",
       "      <th>17</th>\n",
       "      <td>87414</td>\n",
       "      <td>3497</td>\n",
       "      <td>3497</td>\n",
       "      <td>3497</td>\n",
       "      <td>3497</td>\n",
       "    </tr>\n",
       "    <tr>\n",
       "      <th>18</th>\n",
       "      <td>87414</td>\n",
       "      <td>3497</td>\n",
       "      <td>3497</td>\n",
       "      <td>3497</td>\n",
       "      <td>2347</td>\n",
       "    </tr>\n",
       "    <tr>\n",
       "      <th>19</th>\n",
       "      <td>87414</td>\n",
       "      <td>3497</td>\n",
       "      <td>3497</td>\n",
       "      <td>3497</td>\n",
       "      <td>3497</td>\n",
       "    </tr>\n",
       "  </tbody>\n",
       "</table>\n",
       "</div>"
      ],
      "text/plain": [
       "    Loan Amount     1     2     3     4\n",
       "0         93025  3492  3721  3721  3721\n",
       "1         78539  3142  3142  2565  3142\n",
       "2         76787  3071  3071  3071  3071\n",
       "3         84290  3372  3372  2732  3372\n",
       "4         99253  3074  3011  3970  3970\n",
       "5         85280  3411  3411  3230  3411\n",
       "6         83150  3326  3326  3326  3326\n",
       "7         85617  3425  3425  3425  3425\n",
       "8         98083  3923  3415  3923  3923\n",
       "9         93707  3748  3748  3748  3464\n",
       "10        94467  3779  2250   858  2342\n",
       "11        95985  1608  3839  3839  3839\n",
       "12        82640  3306  3306  2540  3306\n",
       "13        87771  3511  3511  3511  3511\n",
       "14        84307  2883  3372  3372  3372\n",
       "15        99813  3993  3993  3599  3993\n",
       "16        90260  3610  3610  3610  3610\n",
       "17        87414  3497  3497  3497  3497\n",
       "18        87414  3497  3497  3497  2347\n",
       "19        87414  3497  3497  3497  3497"
      ]
     },
     "execution_count": 11,
     "metadata": {},
     "output_type": "execute_result"
    }
   ],
   "source": [
    "\n",
    "data = {'borrower': [1,2,3,4,5,6,7,8,9,10,11,12,13,14,15,16,17,18,19,20],\n",
    "       'Loan Amount': [93025,78539,76787,84290,99253,85280,83150,85617,98083,93707,94467,95985,82640,87771,84307,99813,90260,87414,87414,87414],\n",
    "        '1': [3492,3142,3071,3372,3074,3411,3326,3425,3923,3748,3779,1608,3306,3511,2883,3993,3610,3497,3497,3497],\n",
    "        '2': [3721,3142,3071,3372,3011,3411,3326,3425,3415,3748,2250,3839,3306,3511,3372,3993,3610,3497,3497,3497],\n",
    "        '3': [3721,2565,3071,2732,3970,3230,3326,3425,3923,3748,858,3839,2540,3511,3372,3599,3610,3497,3497,3497],\n",
    "        '4': [3721,3142,3071,3372,3970,3411,3326,3425,3923,3464,2342,3839,3306,3511,3372,3993,3610,3497,2347,3497],\n",
    "        '5': [3721,3142,3071,3372,3362,3411,3326,3425,3428,3748,3779,1880,2144,3511,3372,3993,3610,3497,3497,3497],\n",
    "        '6': [3721,3142,3071,3372,3970,3411,3326,3425,3923,3748,3779,2225,3306,2868,3372,3993,3610,3497,3497,3497],\n",
    "        '7': [3721,2663,3071,3372,3970,3411,3326,3425,3923,3075,3779,3839,3306,3511,3372,3993,3610,3497,1209,3497]\n",
    "       }\n",
    "df=pd.DataFrame(data=data,columns=['Loan Amount','1','2','3','4',]) # This calls DataFrame() which is part of Pandasand converts the data list to a dataframe\n",
    "df"
   ]
  },
  {
   "cell_type": "markdown",
   "metadata": {},
   "source": [
    "compute the average and the variances of the returns on the bank's portfolio. What is the probability that the interest rate on the bank's portfolio is higher than 4.25%?\n"
   ]
  },
  {
   "cell_type": "code",
   "execution_count": null,
   "metadata": {
    "collapsed": true
   },
   "outputs": [],
   "source": []
  },
  {
   "cell_type": "markdown",
   "metadata": {},
   "source": [
    "2-4E Assume that a bank in north Florida has cash of $\\$ 12987 $, real estate loans of $\\$ 110,246 $, agricultural loans of $\\$ 14,1410 $, loans to individuals of $\\$ 10,077 $ and an allowance for loan loss of $\\$ 1,336 $. In addition, the bank has $\\$ 26,693 $ in intangible assets and $\\$8,079 $ in buildings. These assets are supported by $\\$125,597 $ of deeposits and $\\$18,950 $ of common stock. What is the retained earnings for this bank? Assuming that all the equity qualifies as tier 1 equity, does this bank meet capital adequacy requirements? Assuming that 75 percent of the retained earnings  qualifies as tier 1 does the bank meet the capital adequacy requirements? "
   ]
  },
  {
   "cell_type": "code",
   "execution_count": null,
   "metadata": {
    "collapsed": true
   },
   "outputs": [],
   "source": []
  }
 ],
 "metadata": {
  "anaconda-cloud": {},
  "kernelspec": {
   "display_name": "Python [Root]",
   "language": "python",
   "name": "Python [Root]"
  },
  "language_info": {
   "codemirror_mode": {
    "name": "ipython",
    "version": 3
   },
   "file_extension": ".py",
   "mimetype": "text/x-python",
   "name": "python",
   "nbconvert_exporter": "python",
   "pygments_lexer": "ipython3",
   "version": "3.5.1"
  }
 },
 "nbformat": 4,
 "nbformat_minor": 0
}
