{
 "cells": [
  {
   "cell_type": "markdown",
   "metadata": {},
   "source": [
    "# Agricultural Marketing and Price Analysis Notebook 2\n",
    "\n",
    "Due date: 28 October 2016, 17:00pm\n",
    "\n",
    "Name (in Pinyin and Chinese): \n",
    "\n",
    "Note: questions are taken from J. Vercammen, Agricultural Marketing, Ch. 3., Routledge, 2011."
   ]
  },
  {
   "cell_type": "markdown",
   "metadata": {},
   "source": [
    "Q.1.The intertemporal version of the LOP indicates that if storage is positive, then $\\delta E\\left\\{P_{t+1}\\right\\}-P_t = C$ where $\\delta$ is the discount rate and $C$ is the unit cost of storage between periods $t$ and $t+1$. Suppose time is measured in six-month intervals. Also supposethat $C$ is equal to $\\$ 10$ per year and the opportunitycost of of capital is 6 percent per year. Calculate values for equilibrium prices for the next 6 time periods assuming $P_0 = 120$ and positive storage."
   ]
  },
  {
   "cell_type": "code",
   "execution_count": null,
   "metadata": {
    "collapsed": true
   },
   "outputs": [],
   "source": []
  },
  {
   "cell_type": "markdown",
   "metadata": {},
   "source": [
    "Q.2. A region will operate for two periods. Production of wheat is 80 units in period 1 and 0 units in period 2. The demand for wheat is $Q^d = 100 - P$ for each of the two perios. The cost of storage is $C = 7.3$ per unit. The region's discount rate is $\\delta = 0.9$. Use two methods to calculate the LOP equilibrium level of storage and the associated commodity prices. For the first method , calculate directly the set of pricesthat result in the equilibrium condition, $\\delta E\\left\\{P_{t+1}\\right\\}-P_t = C$. For the second method, find the level of storage which maximizes market surplusin period 1 plus discounted market surplus in period 2 minus the discounted cost of storage. Ignorre period 1 production costs in the calculation of market surplus."
   ]
  },
  {
   "cell_type": "code",
   "execution_count": null,
   "metadata": {
    "collapsed": true
   },
   "outputs": [],
   "source": []
  },
  {
   "cell_type": "markdown",
   "metadata": {},
   "source": [
    "Q.3 (Question 4 in the textbook). Use the Bellman equation approach to analytically solve the following storage problem with the assumption that the unit cost of storage is $m = 0$, the discount rate is $\\delta = 1$ and annual production is equal to $1.5$ units with certainty. A region will operate for three years. At the beginning of years 1,2 and 3. the region will produce either one or two unitsof the commoditywith equal probability. Just prior to production at the beginningof year 1. the region has commodity stocks equal to 3 units. Assume that production is low in year 1. At the end of year 1 and 2 the region must decide how much of the available stocks to consume and how much to carry over to the next year (zero stocks should be carried over from year year 3). Carryover stocks are restricted to an integer value. Inverse demand for each year is given by $P = 10 - q$. \n",
    "\n",
    "a. Derive an expression for $V_3$, which is this expresssion should be a function of $q_3$.,combined producer and consumer surplus in year 3 assuming that all post-production inventory is consumed in year 3. This expression should be a function of $q_3$, which is post-production stocks for period 3. Substitute the equationof motion into the expression that you derived so that $V_3$ is a function of $S_2$, where $S_2$ is the amount stored from year 2 to year 3.\n",
    "\n",
    "b. Construct an expression for $V_2$ as a function of $S_2$.In this particular example $V_2$ is the  sum of producer and consumer surplus for year 2 plus $V_3$. Now maximizing the expression with respect to $S_2$, and assume the parameters are such that $S_2^{*}\\geq 0$. Substitute the optimized expression for $S_2$ into the $V_2$ expression to obtain an expression for $V_2^{*}$.\n",
    "\n",
    "c. Construct an expression for $V_1$ as a function of $S_1$. Now maximize the expression with respect to $S_1$ and assume the parameters are such that $S_{1}^{*}\\geq 0$. The derived value of $S_{1}^{*}$ is the desired solution to the problem."
   ]
  },
  {
   "cell_type": "code",
   "execution_count": null,
   "metadata": {
    "collapsed": true
   },
   "outputs": [],
   "source": []
  }
 ],
 "metadata": {
  "kernelspec": {
   "display_name": "Python [Root]",
   "language": "python",
   "name": "Python [Root]"
  },
  "language_info": {
   "codemirror_mode": {
    "name": "ipython",
    "version": 3
   },
   "file_extension": ".py",
   "mimetype": "text/x-python",
   "name": "python",
   "nbconvert_exporter": "python",
   "pygments_lexer": "ipython3",
   "version": "3.5.1"
  }
 },
 "nbformat": 4,
 "nbformat_minor": 0
}
