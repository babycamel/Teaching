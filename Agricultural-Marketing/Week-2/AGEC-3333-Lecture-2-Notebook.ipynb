{
 "cells": [
  {
   "cell_type": "markdown",
   "metadata": {
    "nbpresent": {
     "id": "bb62415a-bfb7-4f19-baa6-d01f9f3d8408"
    }
   },
   "source": [
    "\n",
    "# AGEC 3333 Agricultural Marketing and Price Analysis - Lecture\n",
    "\n",
    "\n",
    "<CENTER><H2>Rodney Beard</H2></CENTER>\n",
    "\n"
   ]
  },
  {
   "cell_type": "markdown",
   "metadata": {},
   "source": [
    "![title](Picture1.png)"
   ]
  },
  {
   "cell_type": "markdown",
   "metadata": {},
   "source": [
    "## Objective\n",
    "\n",
    "Explain how  the set of prices is connected over space?"
   ]
  },
  {
   "cell_type": "markdown",
   "metadata": {},
   "source": [
    "<table>\n",
    "<CAPTION ALIGN=\"TOP\">Ocean freight rates for grain</CAPTION>\n",
    "<tr>\n",
    "    <td></td><td colspan=\"5\">UD dollars per tonne</td></tr>\n",
    "  <tr>\n",
    "    <td>From/To</td>\n",
    "    <td>Algeria</td>\n",
    "    <td>Egypt </td>\n",
    "    <td>Iran</td>\n",
    "    <td>Korea</td>\n",
    "    <td>Morocco</td>\n",
    "    \n",
    "    </tr>\n",
    "    <tr>\n",
    "    <td> Australia </td><td> na </td><td> 32 </td><td> 29</td><td> 19</td><td>na</td>\n",
    "    </tr>\n",
    "    <tr>\n",
    "    <td> EU </td><td> 24 </td><td> 26</td><td> na</td><td> na</td><td>22</td>\n",
    "    </tr>\n",
    "    <tr>\n",
    "    <td> US Gulf</td><td> na</td><td> 35</td><td> na </td><td> 45 </td> <td>32</td>\n",
    "    </tr>\n",
    "  </tr>\n",
    "  </table>"
   ]
  },
  {
   "cell_type": "code",
   "execution_count": 59,
   "metadata": {
    "collapsed": true
   },
   "outputs": [],
   "source": [
    "import networkx as nx\n",
    "import matplotlib.pyplot as plt"
   ]
  },
  {
   "cell_type": "code",
   "execution_count": 60,
   "metadata": {
    "collapsed": false,
    "scrolled": false
   },
   "outputs": [
    {
     "data": {
      "text/plain": [
       "[]"
      ]
     },
     "execution_count": 60,
     "metadata": {},
     "output_type": "execute_result"
    },
    {
     "data": {
      "image/png": "[encoded data removed]",
      "text/plain": [
       "<matplotlib.figure.Figure at 0x11301b9b0>"
      ]
     },
     "metadata": {},
     "output_type": "display_data"
    }
   ],
   "source": [
    "G=nx.DiGraph()\n",
    " # positions for all nodes\n",
    "pos = nx.spring_layout(G)\n",
    "# nodes\n",
    "\n",
    "G.add_node('Egypt $200/t')\n",
    "G.add_node('Australia $168/t')\n",
    "G.add_node('S.Korea $187/t')\n",
    "G.add_node('US $165/t')\n",
    "\n",
    "#G['Egypt $200/t']['Australia $168/t']['weight'] = 32\n",
    "\n",
    "G.add_edges_from([('Australia $168/t','Egypt $200/t'),('Australia $168/t','S.Korea $187/t'),\n",
    "                  ('US $165/t','S.Korea $187/t'),('US $165/t','Egypt $200/t')])\n",
    "\n",
    "\n",
    "nx.draw(G,node_size=6000,node_color='w',with_labels=True,arrows=True)\n",
    "plt.plot()"
   ]
  },
  {
   "cell_type": "markdown",
   "metadata": {
    "collapsed": true
   },
   "source": [
    "![title](Picture2.png)"
   ]
  },
  {
   "cell_type": "markdown",
   "metadata": {
    "nbpresent": {
     "id": "c5b66901-e68a-4088-bfa7-96e82aa5a6e9"
    }
   },
   "source": [
    "We will review some necessary mathematics for understanding non-linear programming.  The topics covered will include:\n",
    "\n",
    "1. unconstrained optimization\n",
    "2. optimization with equality constraints\n",
    "3. linear optimization with inequality and posssibly also equality constraints (linear programming)\n",
    "4. non-linear optimization with inequality and posssibly also equality constraints (non-linear programming)"
   ]
  },
  {
   "cell_type": "markdown",
   "metadata": {
    "nbpresent": {
     "id": "1ba9c248-c1da-468b-b9ed-b0bad4991028"
    }
   },
   "source": [
    "## Unconstrained optimization\n",
    "This includes both maximization and minimization. To convert a maximization to a minimization function and vice versa  multiply the function to be maximized or minimized by -1. Let's consider the problem of a monopolist as this is closest in structure to the net aggregate welfare maximization problem that we are interested in.\n",
    "\n"
   ]
  },
  {
   "cell_type": "markdown",
   "metadata": {},
   "source": [
    "Profit = Revenue - Costs:\n",
    "\n",
    "$\\Pi= p(Q) Q - C(Q)$\n",
    "\n",
    "we will assume linear demand $p(Q) = a - b Q$ and linear constant marginal costs $C(Q)=cQ$ then our profit function becomes quadratic (verify this for yourself!).\n",
    "\n",
    "\n",
    "We will use the Python module SymPy to analyze this problem. First we need to import SymPy:"
   ]
  },
  {
   "cell_type": "code",
   "execution_count": 61,
   "metadata": {
    "collapsed": false,
    "nbpresent": {
     "id": "18fe6d3a-d023-4e1d-a393-5c1c303ec00d"
    }
   },
   "outputs": [],
   "source": [
    "%matplotlib inline\n",
    "from sympy import * #enable sympy for symbolic mathematics\n",
    "from sympy import symbols # probably don't need to do this this imports symbols\n",
    "import numpy as np # we will use this to create a graph\n",
    "import matplotlib.pyplot as plt #"
   ]
  },
  {
   "cell_type": "markdown",
   "metadata": {
    "nbpresent": {
     "id": "d886069c-ba56-4382-8224-5d67914d5bb6"
    }
   },
   "source": [
    "Then we need to define which variables are symbolic:"
   ]
  },
  {
   "cell_type": "code",
   "execution_count": 62,
   "metadata": {
    "collapsed": false,
    "nbpresent": {
     "id": "cd79774e-3fd6-416f-8f62-b89ae0af0257"
    }
   },
   "outputs": [],
   "source": [
    "a = 50\n",
    "b = 0.5\n",
    "c = 2\n",
    "\n",
    "Q = np.linspace(0,100,10) \n",
    "# This creates a Q-axis (X-axis) starting at 0 \n",
    "# and going to 100 in increment of 10.\n",
    "\n"
   ]
  },
  {
   "cell_type": "markdown",
   "metadata": {
    "nbpresent": {
     "id": "6913e20a-0e67-4ea0-affb-d76a904939eb"
    }
   },
   "source": [
    "Then we need to define profit:"
   ]
  },
  {
   "cell_type": "code",
   "execution_count": 63,
   "metadata": {
    "collapsed": false,
    "nbpresent": {
     "id": "961b9951-2e2d-41e3-95a3-c8e316152862"
    }
   },
   "outputs": [],
   "source": [
    "profit = (a - b*Q)*Q - c*Q\n",
    "    "
   ]
  },
  {
   "cell_type": "markdown",
   "metadata": {
    "nbpresent": {
     "id": "066be935-7277-4449-aa75-aca4bd13be0f"
    }
   },
   "source": [
    "Let's plot this to see what it looks like."
   ]
  },
  {
   "cell_type": "code",
   "execution_count": 64,
   "metadata": {
    "collapsed": false,
    "nbpresent": {
     "id": "bddf6d4b-cde0-4551-a4f0-e85cbf443430"
    },
    "scrolled": true
   },
   "outputs": [
    {
     "data": {
      "text/plain": [
       "[<matplotlib.lines.Line2D at 0x11358ff28>]"
      ]
     },
     "execution_count": 64,
     "metadata": {},
     "output_type": "execute_result"
    },
    {
     "data": {
      "image/png": "[encoded data removed]",
      "text/plain": [
       "<matplotlib.figure.Figure at 0x112fa3f28>"
      ]
     },
     "metadata": {},
     "output_type": "display_data"
    }
   ],
   "source": [
    "plt.plot(Q,profit)"
   ]
  },
  {
   "cell_type": "markdown",
   "metadata": {
    "nbpresent": {
     "id": "d8fa0984-bcb9-41b2-a043-0709bb08a1d1"
    }
   },
   "source": [
    "Where does this curve have a maximum?"
   ]
  },
  {
   "cell_type": "markdown",
   "metadata": {
    "nbpresent": {
     "id": "f7c983a9-0754-4831-9f27-1dfcf8d7db62"
    }
   },
   "source": [
    "So we need to differentiate profit symbolically. To do this we introduce symbols and define profit in terms of symblic expressions. We are going to SymPy's symbolic algebra abilities in what follows"
   ]
  },
  {
   "cell_type": "code",
   "execution_count": 65,
   "metadata": {
    "collapsed": true,
    "nbpresent": {
     "id": "d80347f6-6770-4845-b53e-cbeac5efd466"
    }
   },
   "outputs": [],
   "source": [
    "Q, a, b, c = symbols('Q a b c')\n",
    "profit = (a - b*Q)*Q - c*Q"
   ]
  },
  {
   "cell_type": "markdown",
   "metadata": {
    "nbpresent": {
     "id": "2351481b-9567-47d1-8c36-982f4d3a304f"
    }
   },
   "source": [
    "Then we need to differentiate this with respect to Q"
   ]
  },
  {
   "cell_type": "code",
   "execution_count": 66,
   "metadata": {
    "collapsed": false,
    "nbpresent": {
     "id": "1e984a22-cd7f-44d2-80ba-892316530fd0"
    }
   },
   "outputs": [
    {
     "data": {
      "text/plain": [
       "-2*Q*b + a - c"
      ]
     },
     "execution_count": 66,
     "metadata": {},
     "output_type": "execute_result"
    }
   ],
   "source": [
    "foc = diff(profit,Q) # foc stands for \"first order condition\"\n",
    "foc #Let's see the result"
   ]
  },
  {
   "cell_type": "markdown",
   "metadata": {
    "nbpresent": {
     "id": "f9e39c4f-d9c8-40f0-b736-3022c367624b"
    }
   },
   "source": [
    "Now let us solve for Q by setting the first-order condition equal to 0 and rearranging to get Q."
   ]
  },
  {
   "cell_type": "code",
   "execution_count": 67,
   "metadata": {
    "collapsed": false,
    "nbpresent": {
     "id": "ef13d072-b0f8-4ab1-b50d-9f0c5a72ac4b"
    }
   },
   "outputs": [
    {
     "data": {
      "text/plain": [
       "[(a - c)/(2*b)]"
      ]
     },
     "execution_count": 67,
     "metadata": {},
     "output_type": "execute_result"
    }
   ],
   "source": [
    "solve(foc,Q)\n"
   ]
  },
  {
   "cell_type": "markdown",
   "metadata": {
    "nbpresent": {
     "id": "10c97a33-9365-4715-bbb8-8e850664a6f2"
    }
   },
   "source": [
    "We should also check the second order conditions:"
   ]
  },
  {
   "cell_type": "code",
   "execution_count": 68,
   "metadata": {
    "collapsed": false,
    "nbpresent": {
     "id": "9f685970-e30b-4885-ab86-1c71df6886b3"
    }
   },
   "outputs": [
    {
     "data": {
      "text/plain": [
       "-2*b"
      ]
     },
     "execution_count": 68,
     "metadata": {},
     "output_type": "execute_result"
    }
   ],
   "source": [
    "soc = diff(profit,Q,Q)\n",
    "soc"
   ]
  },
  {
   "cell_type": "markdown",
   "metadata": {
    "nbpresent": {
     "id": "9e25b803-e416-4f6c-a3e4-313897b78495"
    }
   },
   "source": [
    "We can see that as long as $b > 0$ that the second  order condition for a maximum is satisfied.\n",
    "\n",
    "What we did was take a smooth function and differentiate it to find the slope, then setting that equal to zero. "
   ]
  },
  {
   "cell_type": "markdown",
   "metadata": {
    "nbpresent": {
     "id": "f7251ff6-6cfa-4a92-bfd9-42b8bc073a2e"
    }
   },
   "source": [
    "## Optimization with equality constraints"
   ]
  },
  {
   "cell_type": "markdown",
   "metadata": {
    "nbpresent": {
     "id": "304867ee-a09f-4340-b4ce-5663f5cbc739"
    }
   },
   "source": [
    "To maximize or minimize a function subject to equality constraints we introduce what is called a Lagrangian.\n",
    "\n",
    "Our problem is to maximize for example utility $U(x,y)$ subject to a budget constraint $ p_x x + p_y y = M$\n",
    "\n"
   ]
  },
  {
   "cell_type": "markdown",
   "metadata": {
    "collapsed": true
   },
   "source": [
    "To do this we construct the Lagrangian function \n",
    "\n",
    "$L(x,y,\\lambda) = U(x,y) +\\lambda [M - p_x x - p_y y]$ \n",
    "\n",
    "Then differentiate with respect to $x,y,\\lambda$"
   ]
  },
  {
   "cell_type": "markdown",
   "metadata": {},
   "source": [
    "$\\frac{\\partial L}{\\partial x} = \\frac{\\partial U}{\\partial x} -\\lambda p_x = 0$\n",
    "\n",
    "$\\frac{\\partial L}{\\partial y} = \\frac{\\partial U}{\\partial y} -\\lambda p_y = 0$\n",
    "\n",
    "$\\frac{\\partial L}{\\partial \\lambda} =M - p_x x - p_y y= 0$"
   ]
  },
  {
   "cell_type": "markdown",
   "metadata": {},
   "source": [
    "Then eliminate the Lagrange multiplier $\\lambda$\n",
    "\n",
    "$\\frac{\\frac{\\partial U}{\\partial x}}{\\frac{\\partial U}{\\partial y}} = \\frac{p_x}{p_y}$\n",
    "\n",
    "which leaves two equations to solve for $x$ and $y$ (the one above) and\n",
    "\n",
    "$M - p_x x- p_y y = 0$\n",
    "\n"
   ]
  },
  {
   "cell_type": "markdown",
   "metadata": {},
   "source": [
    "### Example\n",
    "\n",
    "$U =x y$\n",
    "\n",
    "$L(x,y,\\lambda) = x y +\\lambda [M - p_x x - p_y y]$ \n",
    "\n",
    "Now we solve this using SymPy"
   ]
  },
  {
   "cell_type": "code",
   "execution_count": 69,
   "metadata": {
    "collapsed": false
   },
   "outputs": [
    {
     "data": {
      "text/plain": [
       "{y: M/(2*py), x: M/(2*px), l: M/(2*px*py)}"
      ]
     },
     "execution_count": 69,
     "metadata": {},
     "output_type": "execute_result"
    }
   ],
   "source": [
    "x, y, l, M, px, py = symbols('x y l M px py')\n",
    "Lagr = x*y +l*(M - px*x - py*y)\n",
    "foc1 = diff(Lagr,x)\n",
    "foc2 = diff(Lagr,y)\n",
    "foc3 = diff(Lagr,l)\n",
    "solve([foc1,foc2,foc3],[x,y,l])"
   ]
  },
  {
   "cell_type": "markdown",
   "metadata": {},
   "source": [
    "## Linear programming\n",
    "\n",
    "This is just a brief introduction to linear programming. We will do more in the farm and agribusiness management class.\n",
    "\n",
    "Consider the following problem:\n",
    "\n",
    "$\\max 3 x_1 + 2 x_2$\n",
    "\n",
    "subject to \n",
    "\n",
    "$2 \\hspace{0.1cm} x_1 + 3\\hspace{0.1cm} x_2 \\leq 100 $\n",
    "\n",
    "$ x_1 + x_2 \\leq 80 $\n",
    "\n",
    "$ x_1 \\leq 40 $\n",
    "\n",
    "$ x_1 \\geq 0 $\n",
    "\n",
    "$ x_2 \\geq 0 $\n",
    "\n",
    "This is solved using Pulp below."
   ]
  },
  {
   "cell_type": "code",
   "execution_count": 70,
   "metadata": {
    "collapsed": false,
    "scrolled": true
   },
   "outputs": [],
   "source": [
    "import pulp\n",
    "from pulp import *\n",
    "# pulp.pulpTestAll() \n",
    "# This just tests that it installed and imported correctly"
   ]
  },
  {
   "cell_type": "code",
   "execution_count": 71,
   "metadata": {
    "collapsed": false
   },
   "outputs": [
    {
     "name": "stdout",
     "output_type": "stream",
     "text": [
      "40.0\n",
      "6.6666667\n"
     ]
    }
   ],
   "source": [
    "# declare your variables\n",
    "x1 = LpVariable(\"x1\", 0, 40)   # 0<= x1 <= 40\n",
    "x2 = LpVariable(\"x2\", 0, 1000) # 0<= x2 <= 1000\n",
    " \n",
    "# defines the problem\n",
    "prob = LpProblem(\"problem\", LpMaximize)\n",
    " \n",
    "# defines the constraints\n",
    "prob += 2*x1+3*x2 <= 100 \n",
    "prob += x1+x2 <= 80\n",
    "prob += x1<=40\n",
    "prob += x1>=0\n",
    "prob += x2>=0\n",
    " \n",
    "# defines the objective function to maximize\n",
    "prob += 3*x1+2*x2\n",
    " \n",
    "# solve the problem\n",
    "status = prob.solve()\n",
    "LpStatus[status]\n",
    " \n",
    "# print the results x1 = 20, x2 = 60\n",
    "sol1 = value(x1)\n",
    "sol2 = value(x2)\n",
    "print(sol1)\n",
    "print(sol2)"
   ]
  },
  {
   "cell_type": "markdown",
   "metadata": {},
   "source": [
    "## Transportation problem\n",
    "\n",
    "$ \\min \\sum_i \\sum_j c_{ij} x_{ij} $\n",
    "\n",
    "subject to\n",
    "\n",
    "$ \\sum_i x_{ij} = D_j,  \\hspace{0.1cm} \\forall j$ Demands\n",
    "\n",
    "$\\sum_j x_{ij} = S_i,  \\hspace{0.1cm} \\forall i$ Supplies\n",
    "\n",
    "$ x_{ij} \\geq 0 $ \n",
    "\n"
   ]
  },
  {
   "cell_type": "markdown",
   "metadata": {},
   "source": [
    "# Exercise\n",
    "\n",
    "Using the demand and supply estimates in Table 2.Q p. 33 of the Textbook solve for the equilibrium quantities in each country and then use Pulp to solve a transportation problem.  "
   ]
  },
  {
   "cell_type": "markdown",
   "metadata": {},
   "source": [
    "## Non-linear programming"
   ]
  },
  {
   "cell_type": "markdown",
   "metadata": {},
   "source": [
    "With non-linear proggramming we wish to maximimize (minimize) a possibly linear objective with either linear or non-linear constraints.\n",
    "\n",
    "$\\max f(\\vec{x})$\n",
    "\n",
    "st $g(\\vec{x}) \\leq 0 $\n",
    "\n",
    "$\\mbox{   } h(\\vec{x}) =0$\n",
    "\n",
    "\n",
    "\n",
    "   \n"
   ]
  },
  {
   "cell_type": "code",
   "execution_count": 80,
   "metadata": {
    "collapsed": false
   },
   "outputs": [
    {
     "name": "stdout",
     "output_type": "stream",
     "text": [
      "optimum at 0.333333334693 0.296296289403\n",
      "value =  0.5443310476200902\n",
      "result code =  4\n"
     ]
    }
   ],
   "source": [
    "import nlopt\n",
    "from numpy import *\n",
    "\n",
    "def myfunc(x, grad):\n",
    "    if grad.size > 0:\n",
    "        grad[0] = 0.0\n",
    "        grad[1] = 0.5 / sqrt(x[1])\n",
    "    return sqrt(x[1])\n",
    "\n",
    "def myconstraint(x, grad, a, b):\n",
    "    if grad.size > 0:\n",
    "        grad[0] = 3 * a * (a*x[0] + b)**2\n",
    "        grad[1] = -1.0\n",
    "    return (a*x[0] + b)**3 - x[1]\n",
    "\n",
    "opt = nlopt.opt(nlopt.LD_MMA, 2)\n",
    "opt.set_lower_bounds([-float('inf'), 0])\n",
    "opt.set_min_objective(myfunc)\n",
    "opt.add_inequality_constraint(lambda x,grad: myconstraint(x,grad,2,0), 1e-8)\n",
    "opt.add_inequality_constraint(lambda x,grad: myconstraint(x,grad,-1,1), 1e-8)\n",
    "opt.set_xtol_rel(1e-4)\n",
    "x = opt.optimize([1.234, 5.678])\n",
    "minf = opt.last_optimum_value()\n",
    "print(\"optimum at\", x[0],x[1])\n",
    "print(\"value = \", minf)\n",
    "print(\"result code = \", opt.last_optimize_result())\n",
    "\n",
    "#Source: http://jdj.mit.edu/wiki/index.php/NLopt_Tutorial#Example_in_Python.\n",
    "# verify that the solution obtained is the same as in the Tutorial."
   ]
  },
  {
   "cell_type": "markdown",
   "metadata": {},
   "source": [
    "## Application: Spatial equilibrium pricing\n",
    "\n",
    "\n",
    "- Assume a linear inverse demand for region i, $P_i = a_i -b_i Q_{i}^D$\n",
    "- Area under the demand curve  for a given price is the area of the consumerwelfare triangle $\\frac{1}{2}(a_i - P_i)Q_i^D $\n",
    "- Plus the area of the producer revenue $ P_i Q_i^D $\n",
    "- Simplifying this is $ (a_i - 0.5 b_i Q_i^D)Q_i^D $\n",
    "\n"
   ]
  },
  {
   "cell_type": "markdown",
   "metadata": {
    "collapsed": true
   },
   "source": [
    "## Net Aggregate Welfare\n",
    "\n",
    "We need to maximize either one of the following\n",
    "\n",
    "$NAW_V = \\sum_{i=1}^{n} (a_i - 0.5 b_i Q_i^D)Q_i^D -\\sum_{i=1}^n (\\alpha_i + 0.5 \\beta_i Q_i^S)Q_i^S - \\sum_{i=1}^n \\sum_{j=1}^{n}C_{ij}T_{ij}$ with vertical axis intercept\n",
    "\n",
    "$NAW_H = \\sum_{i=1}^{n}(a_i - 0.5 b_iQ_{i}^D)Q_i^D -\\sum_{i=1}^{n}0.5(\\alpha_i + \\beta_iQ_i^S)(Q_i^S +\\frac{\\alpha_i}{\\beta_i}) - \\sum_{j=1}^{n} \\sum_{j=1}^{n} C_{ij} T_{ij} $ with horizontal axis intercept\n",
    "\n",
    "subject to \n",
    "\n",
    "$\\sum_{j=1}^n T_{ji} \\geq Q_i^D, \\hspace{0.1cm} \\forall i$\n",
    "\n",
    "and\n",
    "\n",
    "$\\sum_{j=1}^n T_{ij} \\leq Q_i^S \\hspace{0.1cm} \\forall i$\n",
    "\n",
    "and\n",
    "\n",
    "$T_{ij}, Q_{i}^D, Q_{i}^S \\geq 0, \\forall i$"
   ]
  },
  {
   "cell_type": "markdown",
   "metadata": {},
   "source": [
    "## Lagrangian\n",
    "\n",
    "$ L =\\sum_{i=1}^n \\left[(a_i - 0.5 b_i Q_i^D) Q_i^D -(\\alpha_i + 0.5\\beta_iQ_i^S)Q_i^S\\right] - \\sum_{i=1}^n\\sum_{j=1}^n C_{ij} T_{ij} $ \n",
    "\n",
    "$+ \\sum_{i=1}^n \\lambda_i^D (\\sum_{j=1}^n T_{ji}-Q_i^D ) + \\sum_{i=1}^n \\lambda_i^S (Q_i^S - \\sum_{j=1}^n T_{ij}) - \\sum_{i=1}\\sum_{j=1} \\lambda_{ij}^T T_{ij}$\n",
    "\n"
   ]
  },
  {
   "cell_type": "markdown",
   "metadata": {},
   "source": [
    "## Karush-Kuhn-Tucker conditions (KKT)\n",
    "\n",
    "$\\frac{\\partial L}{\\partial Q_i^D} = a_i - b_i Q_i^D - \\lambda_i^D \\leq 0 $\n",
    "\n",
    "$ \\frac{\\partial L}{\\partial Q_i^D} Q_i^D = 0$ non-negativity condition \n",
    "\n",
    "$\\lambda_i^D (\\sum_{j=1}^n T_{ji} - Q_i^D) = 0$ complementary slackness condition\n",
    "\n",
    "$\\frac{\\partial L}{\\partial Q_i^S} = -(a_i + b_i Q_i^D) + \\lambda_i^S \\leq 0 $\n",
    "\n",
    "$ \\frac{\\partial L}{\\partial Q_i^S} Q_i^S = 0$ non-negativity condition \n",
    "\n",
    "$\\lambda_i^D (\\sum_{j=1}^n T_{ij} - Q_i^S) = 0$ complementary slackness condition\n",
    "\n",
    "$\\frac{\\partial L}{\\partial T_{ij}} = - C_{ij} + \\lambda_j^D - \\lambda_i^S - \\lambda_{ij}^T\\leq 0 $\n",
    "\n",
    "$ \\frac{\\partial L}{\\partial T_{ij}} T_{ij} = 0$ non-negativity condition \n",
    "\n",
    "$\\lambda_{ij}^T T_{ij} = 0, j=1,2,\\ldots,n$ complementary slackness condition"
   ]
  },
  {
   "cell_type": "markdown",
   "metadata": {},
   "source": [
    "## Spatial pricing case study\n",
    "\n",
    "<table>\n",
    "<CAPTION ALIGN=\"TOP\">Pre-scaled parameters for tomato case study: Supply and demand intercept and slope parameters</CAPTION>\n",
    "<tr>\n",
    "  <td colspan=\"5\">(a)</td>\n",
    "  </tr>\n",
    "  <tr>  \n",
    "  <td></td><td colspan=\"2\">Intercept parameters</td><td colspan=\"2\">Slope parameters</td>\n",
    "  </tr>  \n",
    "  <tr>\n",
    "    <td>Region</td>\n",
    "    <td>Supply ($\\alpha$)</td>\n",
    "    <td>Demand ($a$)</td>\n",
    "    <td>Supply ($\\beta$)</td>\n",
    "    <td>Demand ($b$)</td>\n",
    " \n",
    "    </tr>\n",
    "    <tr>\n",
    "    <td> Mexico </td><td> -2,532 </td><td> 8,732.3 </td><td> 0.00146</td><td> 0.00578</td>\n",
    "    </tr>\n",
    "    <tr>\n",
    "    <td> US </td><td> -1,279 </td><td> 2,217.1</td><td> 0.00021</td><td> 0.00011</td>\n",
    "    </tr>\n",
    "    <tr>\n",
    "    <td> Canada</td><td> -2,128</td><td> 5,131.1</td><td> 0.0059 </td><td> 0.00581 </td> \n",
    "    </tr>\n",
    "    <tr>\n",
    "    <td>EU</td><td> -5,337</td><td>4,258.7</td><td>0.00043</td><td>0.00022</td>\n",
    "    </tr>\n",
    "    <tr>\n",
    "    <td>L.Amer.</td><td>-3,306</td><td>2,806.5</td><td>0.00059</td><td>0.00036</td>\n",
    "    </tr>\n",
    " \n",
    "  </table>\n",
    "\n",
    "\n",
    "\n",
    "\n",
    "\n",
    "\n",
    "\n"
   ]
  },
  {
   "cell_type": "markdown",
   "metadata": {},
   "source": [
    "<table>\n",
    "<CAPTION ALIGN=\"TOP\">Pre-scaled parameters for tomato case study: Transportation cost parameters</CAPTION>\n",
    "<tr>\n",
    "  <td colspan=\"6\">(b)</td>\n",
    "  </tr>\n",
    "  <tr>  \n",
    "  <td></td><td colspan=\"5\">US Dollars per ton</td>\n",
    "  </tr>  \n",
    "  <tr>\n",
    "    <td>Region</td>\n",
    "    <td>Mexico($\\alpha$)</td>\n",
    "    <td>US($a$)</td>\n",
    "    <td>Canada ($\\beta$)</td>\n",
    "    <td>EU($b$)</td>\n",
    "    <td>L.Amer.</td>\n",
    " \n",
    "    </tr>\n",
    "    <tr>\n",
    "    <td> Mexico </td><td> 0.00 </td><td> 58.50 </td><td> 96.63</td><td> 155.55</td><td>161.88</td>\n",
    "    </tr>\n",
    "    <tr>\n",
    "    <td> US </td><td> 58.50 </td><td> 0.00 </td><td> 42.21</td><td> 106.98</td><td>142.05</td>\n",
    "    </tr>\n",
    "    <tr>\n",
    "    <td> Canada</td><td> 96.63</td><td> 42.21</td><td> 0.00 </td><td> 106.47 </td> <td>164.43</td>\n",
    "    </tr>\n",
    "    <tr>\n",
    "    <td>EU</td><td> 155.55</td><td>106.98</td><td>106.47</td><td>0.00</td><td>137.37</td>\n",
    "    </tr>\n",
    "    <tr>\n",
    "    <td>L.Amer.</td><td>161.88</td><td>142.05</td><td>164.43</td><td>137.37</td><td>0.00</td>\n",
    "    </tr>\n",
    " \n",
    "  </table>"
   ]
  },
  {
   "cell_type": "markdown",
   "metadata": {},
   "source": [
    "## Free-flow Equilibrium\n",
    "\n",
    "- Determining the fre-flow equilibrium can be used to find starting values for the NLP\n",
    "\n",
    "- Find the scaled demands and supplies across all regions\n",
    "\n",
    "- Then solve for the equilibrium price\n",
    "\n",
    "- The equilibrium price of the aggregate demand and supplies is the \"free-flow\" equilibrium price\n"
   ]
  },
  {
   "cell_type": "markdown",
   "metadata": {},
   "source": [
    "## Other spatial approaches to trade\n",
    "\n",
    "- Gravity models\n",
    "- Spatial general Equilibrium models\n",
    "- Regional input-output models"
   ]
  },
  {
   "cell_type": "code",
   "execution_count": null,
   "metadata": {
    "collapsed": true
   },
   "outputs": [],
   "source": []
  }
 ],
 "metadata": {
  "anaconda-cloud": {},
  "kernelspec": {
   "display_name": "Python [Root]",
   "language": "python",
   "name": "Python [Root]"
  },
  "language_info": {
   "codemirror_mode": {
    "name": "ipython",
    "version": 3
   },
   "file_extension": ".py",
   "mimetype": "text/x-python",
   "name": "python",
   "nbconvert_exporter": "python",
   "pygments_lexer": "ipython3",
   "version": "3.5.1"
  },
  "nbpresent": {
   "slides": {
    "014e4655-c67a-49ed-bbf4-0f08df95e320": {
     "id": "014e4655-c67a-49ed-bbf4-0f08df95e320",
     "prev": "27b43074-ca08-4c98-ad4a-e770eb692180",
     "regions": {
      "2e49c53d-a662-4ab7-b795-a1dd54f87313": {
       "attrs": {
        "height": 0.8,
        "width": 0.8,
        "x": 0.1,
        "y": 0.1
       },
       "content": {
        "cell": "304867ee-a09f-4340-b4ce-5663f5cbc739",
        "part": "whole"
       },
       "id": "2e49c53d-a662-4ab7-b795-a1dd54f87313"
      }
     }
    },
    "06ef1b57-0ba0-4b09-8a39-5e0a3a128395": {
     "id": "06ef1b57-0ba0-4b09-8a39-5e0a3a128395",
     "prev": "2b869307-8fcc-46a9-a191-931d113555b0",
     "regions": {
      "caee1545-d22c-4160-a793-03ab838a4c31": {
       "attrs": {
        "height": 0.8,
        "width": 0.8,
        "x": 0.1,
        "y": 0.1
       },
       "content": {
        "cell": "f52be7bc-068a-4342-b787-3a96cd521a15",
        "part": "whole"
       },
       "id": "caee1545-d22c-4160-a793-03ab838a4c31"
      }
     }
    },
    "0abfd6ff-ad1a-479e-bb30-287bdb6ec4ea": {
     "id": "0abfd6ff-ad1a-479e-bb30-287bdb6ec4ea",
     "prev": "637ce2ef-27a0-4d64-ad74-32070a93c6f2",
     "regions": {
      "2da07856-9246-48e0-ab30-b23afab103af": {
       "attrs": {
        "height": 0.8,
        "width": 0.8,
        "x": 0.1,
        "y": 0.1
       },
       "content": {
        "cell": "1e984a22-cd7f-44d2-80ba-892316530fd0",
        "part": "whole"
       },
       "id": "2da07856-9246-48e0-ab30-b23afab103af"
      }
     }
    },
    "11c16bb6-1580-468b-abb3-c6129368afca": {
     "id": "11c16bb6-1580-468b-abb3-c6129368afca",
     "prev": "aa547663-6cfd-49ed-86e8-fe4f3a9a550f",
     "regions": {
      "fd2ca497-19a4-40f7-82bb-59ac2e966415": {
       "attrs": {
        "height": 0.8,
        "width": 0.8,
        "x": 0.1,
        "y": 0.1
       },
       "content": {
        "cell": "c5b66901-e68a-4088-bfa7-96e82aa5a6e9",
        "part": "whole"
       },
       "id": "fd2ca497-19a4-40f7-82bb-59ac2e966415"
      }
     }
    },
    "1bbe5542-63f8-4559-9722-d7143de77b4a": {
     "id": "1bbe5542-63f8-4559-9722-d7143de77b4a",
     "layout": "grid",
     "prev": "11c16bb6-1580-468b-abb3-c6129368afca",
     "regions": {
      "99c148fd-0d21-4efd-b02d-7d04cb301f75": {
       "attrs": {
        "height": 0.6666666666666666,
        "pad": 0.01,
        "width": 0.6666666666666666,
        "x": 0.16666666666666666,
        "y": 0.16666666666666666
       },
       "content": {
        "cell": "1ba9c248-c1da-468b-b9ed-b0bad4991028",
        "part": "whole"
       },
       "id": "99c148fd-0d21-4efd-b02d-7d04cb301f75"
      }
     }
    },
    "1fc9fb7c-d343-4a60-b217-22e596530b06": {
     "id": "1fc9fb7c-d343-4a60-b217-22e596530b06",
     "prev": "d2cef571-8797-4f2e-9b78-849f535dcae2",
     "regions": {
      "5be2fa06-7061-4f87-9ae2-66546282d73d": {
       "attrs": {
        "height": 0.8,
        "width": 0.8,
        "x": 0.1,
        "y": 0.1
       },
       "content": {
        "cell": "066be935-7277-4449-aa75-aca4bd13be0f",
        "part": "whole"
       },
       "id": "5be2fa06-7061-4f87-9ae2-66546282d73d"
      }
     }
    },
    "1fea4d9e-1084-497c-9bfd-947c01364c1a": {
     "id": "1fea4d9e-1084-497c-9bfd-947c01364c1a",
     "prev": "ef3827b6-7fc0-4982-a80d-8f2e1f0d618d",
     "regions": {
      "240fe0d3-fe64-4265-98d0-b1bd81dc5d1c": {
       "attrs": {
        "height": 0.8,
        "width": 0.8,
        "x": 0.1,
        "y": 0.1
       },
       "content": {
        "cell": "10c97a33-9365-4715-bbb8-8e850664a6f2",
        "part": "whole"
       },
       "id": "240fe0d3-fe64-4265-98d0-b1bd81dc5d1c"
      }
     }
    },
    "27b43074-ca08-4c98-ad4a-e770eb692180": {
     "id": "27b43074-ca08-4c98-ad4a-e770eb692180",
     "prev": "f1ac19c2-0200-42b7-90f7-8e4f98d80f7c",
     "regions": {
      "1c275b48-0674-4d9a-8635-d6e8f7161560": {
       "attrs": {
        "height": 0.8,
        "width": 0.8,
        "x": 0.1,
        "y": 0.1
       },
       "content": {
        "cell": "f7251ff6-6cfa-4a92-bfd9-42b8bc073a2e",
        "part": "whole"
       },
       "id": "1c275b48-0674-4d9a-8635-d6e8f7161560"
      }
     }
    },
    "2b869307-8fcc-46a9-a191-931d113555b0": {
     "id": "2b869307-8fcc-46a9-a191-931d113555b0",
     "prev": "1fea4d9e-1084-497c-9bfd-947c01364c1a",
     "regions": {
      "dc085685-a86b-4005-a2a8-9b0bf1c361c5": {
       "attrs": {
        "height": 0.8,
        "width": 0.8,
        "x": 0.13,
        "y": 0.1
       },
       "content": {
        "cell": "9f685970-e30b-4885-ab86-1c71df6886b3",
        "part": "whole"
       },
       "id": "dc085685-a86b-4005-a2a8-9b0bf1c361c5"
      }
     }
    },
    "2ca6b690-6e9a-4bbc-8274-2a034b11b255": {
     "id": "2ca6b690-6e9a-4bbc-8274-2a034b11b255",
     "prev": "51a21064-9661-4c4d-98e7-0357f755d21b",
     "regions": {
      "05f4d9f2-dbdd-45c8-8596-899b71a8195d": {
       "attrs": {
        "height": 1,
        "width": 1,
        "x": 0,
        "y": 0
       },
       "id": "05f4d9f2-dbdd-45c8-8596-899b71a8195d"
      }
     }
    },
    "302605e0-dff8-4bb9-9ea9-7d9ee72fca73": {
     "id": "302605e0-dff8-4bb9-9ea9-7d9ee72fca73",
     "prev": "33342014-cf35-471d-9abf-381550b9d59e",
     "regions": {
      "d60c6536-af0b-44b2-885c-e38bfbebbcf8": {
       "attrs": {
        "height": 1,
        "width": 1,
        "x": 0,
        "y": 0
       },
       "id": "d60c6536-af0b-44b2-885c-e38bfbebbcf8"
      }
     }
    },
    "33342014-cf35-471d-9abf-381550b9d59e": {
     "id": "33342014-cf35-471d-9abf-381550b9d59e",
     "prev": "5ef1f23e-303f-4c3b-943a-ebcd22835463",
     "regions": {
      "0059b787-a669-42aa-82e2-c83493d10e10": {
       "attrs": {
        "height": 1,
        "width": 1,
        "x": 0,
        "y": 0
       },
       "id": "0059b787-a669-42aa-82e2-c83493d10e10"
      }
     }
    },
    "34b31bb1-11ec-43e5-91c5-51a667dc8c44": {
     "id": "34b31bb1-11ec-43e5-91c5-51a667dc8c44",
     "prev": "1bbe5542-63f8-4559-9722-d7143de77b4a",
     "regions": {
      "6dd80188-94ef-4d80-89a1-f6138422217c": {
       "attrs": {
        "height": 0.8,
        "width": 0.8,
        "x": 0.1,
        "y": 0.1
       },
       "content": {
        "cell": "18fe6d3a-d023-4e1d-a393-5c1c303ec00d",
        "part": "whole"
       },
       "id": "6dd80188-94ef-4d80-89a1-f6138422217c"
      }
     }
    },
    "51a21064-9661-4c4d-98e7-0357f755d21b": {
     "id": "51a21064-9661-4c4d-98e7-0357f755d21b",
     "prev": "55edad55-b606-43e0-a46d-a7f57d59d1a1",
     "regions": {
      "eae7f3a3-a211-4dec-a475-4044d432c589": {
       "attrs": {
        "height": 1,
        "width": 1,
        "x": 0,
        "y": 0
       },
       "id": "eae7f3a3-a211-4dec-a475-4044d432c589"
      }
     }
    },
    "55edad55-b606-43e0-a46d-a7f57d59d1a1": {
     "id": "55edad55-b606-43e0-a46d-a7f57d59d1a1",
     "prev": "cf6b14e2-dfca-46a6-995c-70f108ccd0e7",
     "regions": {
      "fc9fb1ed-48f1-4a3b-8cd2-22470be3909e": {
       "attrs": {
        "height": 1,
        "width": 1,
        "x": 0,
        "y": 0
       },
       "id": "fc9fb1ed-48f1-4a3b-8cd2-22470be3909e"
      }
     },
     "theme": "441cc351-6174-4ec7-8b1e-57a794188f7f"
    },
    "5b75d361-d3a5-42a0-92d1-3deb8771254f": {
     "id": "5b75d361-d3a5-42a0-92d1-3deb8771254f",
     "prev": "8d86dcc0-00bc-4081-b808-db458265c81d",
     "regions": {
      "3032443d-4295-408c-ac5e-add1fa2af6b1": {
       "attrs": {
        "height": 1,
        "width": 1,
        "x": 0,
        "y": 0
       },
       "id": "3032443d-4295-408c-ac5e-add1fa2af6b1"
      }
     }
    },
    "5ef1f23e-303f-4c3b-943a-ebcd22835463": {
     "id": "5ef1f23e-303f-4c3b-943a-ebcd22835463",
     "prev": "702038c8-d838-4641-abe4-b00ffdf03449",
     "regions": {
      "a8d0d62e-2834-4abe-a57a-971f6e9204b8": {
       "attrs": {
        "height": 1,
        "width": 1,
        "x": 0,
        "y": 0
       },
       "id": "a8d0d62e-2834-4abe-a57a-971f6e9204b8"
      }
     }
    },
    "630ecd15-fbef-4a7a-b5dd-c164265353d6": {
     "id": "630ecd15-fbef-4a7a-b5dd-c164265353d6",
     "prev": "aeac804b-257e-4855-886b-f1d3c4a1cb7b",
     "regions": {
      "a552187c-a894-4460-86c7-3932105eb3f2": {
       "attrs": {
        "height": 0.8,
        "width": 0.8,
        "x": 0.1,
        "y": 0.1
       },
       "content": {
        "cell": "cd79774e-3fd6-416f-8f62-b89ae0af0257",
        "part": "whole"
       },
       "id": "a552187c-a894-4460-86c7-3932105eb3f2"
      }
     }
    },
    "637ce2ef-27a0-4d64-ad74-32070a93c6f2": {
     "id": "637ce2ef-27a0-4d64-ad74-32070a93c6f2",
     "prev": "c0b21c1d-5bd1-49c3-88c0-d7ff606205a8",
     "regions": {
      "2c875c80-c794-4599-8f8d-35ee9cddeb0e": {
       "attrs": {
        "height": 0.8,
        "width": 0.8,
        "x": 0.1,
        "y": 0.1
       },
       "content": {
        "cell": "2351481b-9567-47d1-8c36-982f4d3a304f",
        "part": "whole"
       },
       "id": "2c875c80-c794-4599-8f8d-35ee9cddeb0e"
      }
     }
    },
    "702038c8-d838-4641-abe4-b00ffdf03449": {
     "id": "702038c8-d838-4641-abe4-b00ffdf03449",
     "prev": "2ca6b690-6e9a-4bbc-8274-2a034b11b255",
     "regions": {
      "88eba864-4401-498f-9c1a-9753a4f94d05": {
       "attrs": {
        "height": 1,
        "width": 1,
        "x": 0,
        "y": 0
       },
       "id": "88eba864-4401-498f-9c1a-9753a4f94d05"
      }
     }
    },
    "7c3ceb3d-ae97-4013-87c5-27be1e9907cb": {
     "id": "7c3ceb3d-ae97-4013-87c5-27be1e9907cb",
     "prev": "014e4655-c67a-49ed-bbf4-0f08df95e320",
     "regions": {
      "3193f884-56fb-4f94-a72c-7c215359c771": {
       "attrs": {
        "height": 1,
        "width": 1,
        "x": 0,
        "y": 0
       },
       "id": "3193f884-56fb-4f94-a72c-7c215359c771"
      }
     }
    },
    "87a4e976-a8fb-4ed4-8ab3-407aa13b8ec1": {
     "id": "87a4e976-a8fb-4ed4-8ab3-407aa13b8ec1",
     "prev": "1fc9fb7c-d343-4a60-b217-22e596530b06",
     "regions": {
      "7356fa1c-c8bd-4575-a19d-6041f147445d": {
       "attrs": {
        "height": 0.8,
        "width": 0.8,
        "x": 0.1,
        "y": 0.1
       },
       "content": {
        "cell": "bddf6d4b-cde0-4551-a4f0-e85cbf443430",
        "part": "whole"
       },
       "id": "7356fa1c-c8bd-4575-a19d-6041f147445d"
      }
     }
    },
    "8d86dcc0-00bc-4081-b808-db458265c81d": {
     "id": "8d86dcc0-00bc-4081-b808-db458265c81d",
     "prev": "302605e0-dff8-4bb9-9ea9-7d9ee72fca73",
     "regions": {
      "995a6381-f739-4670-80eb-02732a3b0fbf": {
       "attrs": {
        "height": 1,
        "width": 1,
        "x": 0,
        "y": 0
       },
       "id": "995a6381-f739-4670-80eb-02732a3b0fbf"
      }
     }
    },
    "970c900c-b299-4be9-9de3-577176367b00": {
     "id": "970c900c-b299-4be9-9de3-577176367b00",
     "prev": "630ecd15-fbef-4a7a-b5dd-c164265353d6",
     "regions": {
      "4634edfa-eda5-4850-912b-d203f01ed152": {
       "attrs": {
        "height": 0.8,
        "width": 0.8,
        "x": 0.1,
        "y": 0.1
       },
       "content": {
        "cell": "6913e20a-0e67-4ea0-affb-d76a904939eb",
        "part": "whole"
       },
       "id": "4634edfa-eda5-4850-912b-d203f01ed152"
      }
     }
    },
    "a76e9b4e-a439-481e-8a15-d4e6ffd9bd97": {
     "id": "a76e9b4e-a439-481e-8a15-d4e6ffd9bd97",
     "prev": "87a4e976-a8fb-4ed4-8ab3-407aa13b8ec1",
     "regions": {
      "69f69b95-6f77-40bc-9da6-2cad6942a2c0": {
       "attrs": {
        "height": 0.8,
        "width": 0.8,
        "x": 0.1,
        "y": 0.1
       },
       "content": {
        "cell": "d8fa0984-bcb9-41b2-a043-0709bb08a1d1",
        "part": "whole"
       },
       "id": "69f69b95-6f77-40bc-9da6-2cad6942a2c0"
      }
     }
    },
    "aa547663-6cfd-49ed-86e8-fe4f3a9a550f": {
     "id": "aa547663-6cfd-49ed-86e8-fe4f3a9a550f",
     "prev": null,
     "regions": {
      "de43bc8f-dd34-4bd3-be6e-9b7f792fd0c9": {
       "attrs": {
        "height": 0.8,
        "width": 0.8,
        "x": 0.1,
        "y": 0.1
       },
       "content": {
        "cell": "bb62415a-bfb7-4f19-baa6-d01f9f3d8408",
        "part": "whole"
       },
       "id": "de43bc8f-dd34-4bd3-be6e-9b7f792fd0c9"
      }
     }
    },
    "ad64386c-9de4-4cd1-9fc6-1d0bad1a68d3": {
     "id": "ad64386c-9de4-4cd1-9fc6-1d0bad1a68d3",
     "prev": "dc234e3f-9f71-4ad1-80ae-02998d8b620b",
     "regions": {
      "2bd51639-535d-43d3-8f43-5623c04bb733": {
       "attrs": {
        "height": 0.8,
        "width": 0.8,
        "x": 0.1,
        "y": 0.1
       },
       "content": {
        "cell": "03635780-b27d-4371-a2bd-03bd5812ea73",
        "part": "whole"
       },
       "id": "2bd51639-535d-43d3-8f43-5623c04bb733"
      }
     }
    },
    "aeac804b-257e-4855-886b-f1d3c4a1cb7b": {
     "id": "aeac804b-257e-4855-886b-f1d3c4a1cb7b",
     "prev": "34b31bb1-11ec-43e5-91c5-51a667dc8c44",
     "regions": {
      "198369c1-01f1-435a-a17f-53f8a04df63a": {
       "attrs": {
        "height": 0.8,
        "width": 0.8,
        "x": 0.1,
        "y": 0.1
       },
       "content": {
        "cell": "d886069c-ba56-4382-8224-5d67914d5bb6",
        "part": "whole"
       },
       "id": "198369c1-01f1-435a-a17f-53f8a04df63a"
      }
     }
    },
    "c0b21c1d-5bd1-49c3-88c0-d7ff606205a8": {
     "id": "c0b21c1d-5bd1-49c3-88c0-d7ff606205a8",
     "prev": "e04275b2-ce8d-4150-a530-8f2c3f06b120",
     "regions": {
      "4db87ed7-ed3f-41b9-be0e-84344f080b29": {
       "attrs": {
        "height": 0.8,
        "width": 0.8,
        "x": 0.1,
        "y": 0.1
       },
       "content": {
        "cell": "d80347f6-6770-4845-b53e-cbeac5efd466",
        "part": "whole"
       },
       "id": "4db87ed7-ed3f-41b9-be0e-84344f080b29"
      }
     }
    },
    "cf6b14e2-dfca-46a6-995c-70f108ccd0e7": {
     "id": "cf6b14e2-dfca-46a6-995c-70f108ccd0e7",
     "prev": "7c3ceb3d-ae97-4013-87c5-27be1e9907cb",
     "regions": {
      "237aec24-3631-4335-bfb2-42e8ac28854d": {
       "attrs": {
        "height": 1,
        "width": 1,
        "x": 0,
        "y": 0
       },
       "id": "237aec24-3631-4335-bfb2-42e8ac28854d"
      }
     }
    },
    "d2cef571-8797-4f2e-9b78-849f535dcae2": {
     "id": "d2cef571-8797-4f2e-9b78-849f535dcae2",
     "prev": "970c900c-b299-4be9-9de3-577176367b00",
     "regions": {
      "4f3fbe3e-f581-4ac6-bf6d-2e75b714f019": {
       "attrs": {
        "height": 0.8,
        "width": 0.8,
        "x": 0.1,
        "y": 0.1
       },
       "content": {
        "cell": "961b9951-2e2d-41e3-95a3-c8e316152862",
        "part": "whole"
       },
       "id": "4f3fbe3e-f581-4ac6-bf6d-2e75b714f019"
      }
     }
    },
    "dc234e3f-9f71-4ad1-80ae-02998d8b620b": {
     "id": "dc234e3f-9f71-4ad1-80ae-02998d8b620b",
     "prev": "5b75d361-d3a5-42a0-92d1-3deb8771254f",
     "regions": {
      "09390a55-3458-418e-9285-749a47293362": {
       "attrs": {
        "height": 1,
        "width": 1,
        "x": 0,
        "y": 0
       },
       "id": "09390a55-3458-418e-9285-749a47293362"
      }
     }
    },
    "e04275b2-ce8d-4150-a530-8f2c3f06b120": {
     "id": "e04275b2-ce8d-4150-a530-8f2c3f06b120",
     "prev": "a76e9b4e-a439-481e-8a15-d4e6ffd9bd97",
     "regions": {
      "eb4b67aa-df97-4d32-b57c-873ac2f020e7": {
       "attrs": {
        "height": 0.8,
        "width": 0.8,
        "x": 0.1,
        "y": 0.1
       },
       "content": {
        "cell": "f7c983a9-0754-4831-9f27-1dfcf8d7db62",
        "part": "whole"
       },
       "id": "eb4b67aa-df97-4d32-b57c-873ac2f020e7"
      }
     }
    },
    "e9101189-9c87-4626-864f-dac691f08f2f": {
     "id": "e9101189-9c87-4626-864f-dac691f08f2f",
     "prev": "0abfd6ff-ad1a-479e-bb30-287bdb6ec4ea",
     "regions": {
      "a0b80a84-7bfa-49c0-b4d0-8876e8e21f6f": {
       "attrs": {
        "height": 0.8,
        "width": 0.8,
        "x": 0.1,
        "y": 0.1
       },
       "content": {
        "cell": "f9e39c4f-d9c8-40f0-b736-3022c367624b",
        "part": "whole"
       },
       "id": "a0b80a84-7bfa-49c0-b4d0-8876e8e21f6f"
      }
     }
    },
    "ef3827b6-7fc0-4982-a80d-8f2e1f0d618d": {
     "id": "ef3827b6-7fc0-4982-a80d-8f2e1f0d618d",
     "prev": "e9101189-9c87-4626-864f-dac691f08f2f",
     "regions": {
      "e7735f3d-f2e6-4ab0-9774-6067e2fab019": {
       "attrs": {
        "height": 0.8,
        "width": 0.8,
        "x": 0.1,
        "y": 0.1
       },
       "content": {
        "cell": "ef13d072-b0f8-4ab1-b50d-9f0c5a72ac4b",
        "part": "whole"
       },
       "id": "e7735f3d-f2e6-4ab0-9774-6067e2fab019"
      }
     }
    },
    "f1ac19c2-0200-42b7-90f7-8e4f98d80f7c": {
     "id": "f1ac19c2-0200-42b7-90f7-8e4f98d80f7c",
     "prev": "06ef1b57-0ba0-4b09-8a39-5e0a3a128395",
     "regions": {
      "c2d7ac5d-820f-401b-91de-7c471bfd65ef": {
       "attrs": {
        "height": 0.8,
        "width": 0.8,
        "x": 0.1,
        "y": 0.1
       },
       "content": {
        "cell": "9e25b803-e416-4f6c-a3e4-313897b78495",
        "part": "whole"
       },
       "id": "c2d7ac5d-820f-401b-91de-7c471bfd65ef"
      }
     }
    }
   },
   "themes": {
    "default": "441cc351-6174-4ec7-8b1e-57a794188f7f",
    "theme": {
     "441cc351-6174-4ec7-8b1e-57a794188f7f": {
      "id": "441cc351-6174-4ec7-8b1e-57a794188f7f",
      "palette": {
       "19cc588f-0593-49c9-9f4b-e4d7cc113b1c": {
        "id": "19cc588f-0593-49c9-9f4b-e4d7cc113b1c",
        "rgb": [
         252,
         252,
         252
        ]
       },
       "31af15d2-7e15-44c5-ab5e-e04b16a89eff": {
        "id": "31af15d2-7e15-44c5-ab5e-e04b16a89eff",
        "rgb": [
         68,
         68,
         68
        ]
       },
       "50f92c45-a630-455b-aec3-788680ec7410": {
        "id": "50f92c45-a630-455b-aec3-788680ec7410",
        "rgb": [
         155,
         177,
         192
        ]
       },
       "c5cc3653-2ee1-402a-aba2-7caae1da4f6c": {
        "id": "c5cc3653-2ee1-402a-aba2-7caae1da4f6c",
        "rgb": [
         43,
         126,
         184
        ]
       },
       "efa7f048-9acb-414c-8b04-a26811511a21": {
        "id": "efa7f048-9acb-414c-8b04-a26811511a21",
        "rgb": [
         25.118061674008803,
         73.60176211453744,
         107.4819383259912
        ]
       }
      },
      "rules": {
       "blockquote": {
        "color": "50f92c45-a630-455b-aec3-788680ec7410"
       },
       "code": {
        "font-family": "Anonymous Pro"
       },
       "h1": {
        "color": "c5cc3653-2ee1-402a-aba2-7caae1da4f6c",
        "font-family": "Lato",
        "font-size": 8
       },
       "h2": {
        "color": "c5cc3653-2ee1-402a-aba2-7caae1da4f6c",
        "font-family": "Lato",
        "font-size": 6
       },
       "h3": {
        "color": "50f92c45-a630-455b-aec3-788680ec7410",
        "font-family": "Lato",
        "font-size": 5.5
       },
       "h4": {
        "color": "c5cc3653-2ee1-402a-aba2-7caae1da4f6c",
        "font-family": "Lato",
        "font-size": 5
       },
       "h5": {
        "font-family": "Lato"
       },
       "h6": {
        "font-family": "Lato"
       },
       "h7": {
        "font-family": "Lato"
       },
       "pre": {
        "font-family": "Anonymous Pro",
        "font-size": 4
       }
      },
      "text-base": {
       "font-family": "Merriweather",
       "font-size": 4
      }
     },
     "c2ceba74-0c6e-46ac-b699-87faf8877ac1": {
      "id": "c2ceba74-0c6e-46ac-b699-87faf8877ac1",
      "palette": {
       "19cc588f-0593-49c9-9f4b-e4d7cc113b1c": {
        "id": "19cc588f-0593-49c9-9f4b-e4d7cc113b1c",
        "rgb": [
         252,
         252,
         252
        ]
       },
       "31af15d2-7e15-44c5-ab5e-e04b16a89eff": {
        "id": "31af15d2-7e15-44c5-ab5e-e04b16a89eff",
        "rgb": [
         68,
         68,
         68
        ]
       },
       "50f92c45-a630-455b-aec3-788680ec7410": {
        "id": "50f92c45-a630-455b-aec3-788680ec7410",
        "rgb": [
         155,
         177,
         192
        ]
       },
       "c5cc3653-2ee1-402a-aba2-7caae1da4f6c": {
        "id": "c5cc3653-2ee1-402a-aba2-7caae1da4f6c",
        "rgb": [
         43,
         126,
         184
        ]
       },
       "efa7f048-9acb-414c-8b04-a26811511a21": {
        "id": "efa7f048-9acb-414c-8b04-a26811511a21",
        "rgb": [
         25.118061674008803,
         73.60176211453744,
         107.4819383259912
        ]
       }
      },
      "rules": {
       "blockquote": {
        "color": "50f92c45-a630-455b-aec3-788680ec7410"
       },
       "code": {
        "font-family": "Anonymous Pro"
       },
       "h1": {
        "color": "c5cc3653-2ee1-402a-aba2-7caae1da4f6c",
        "font-family": "Lato",
        "font-size": 8
       },
       "h2": {
        "color": "c5cc3653-2ee1-402a-aba2-7caae1da4f6c",
        "font-family": "Lato",
        "font-size": 6
       },
       "h3": {
        "color": "50f92c45-a630-455b-aec3-788680ec7410",
        "font-family": "Lato",
        "font-size": 5.5
       },
       "h4": {
        "color": "c5cc3653-2ee1-402a-aba2-7caae1da4f6c",
        "font-family": "Lato",
        "font-size": 5
       },
       "h5": {
        "font-family": "Lato"
       },
       "h6": {
        "font-family": "Lato"
       },
       "h7": {
        "font-family": "Lato"
       },
       "pre": {
        "font-family": "Anonymous Pro",
        "font-size": 4
       }
      },
      "text-base": {
       "font-family": "Merriweather",
       "font-size": 4
      }
     },
     "d5f0340e-0f8f-4770-bd6c-6f0ab931e46e": {
      "id": "d5f0340e-0f8f-4770-bd6c-6f0ab931e46e",
      "palette": {
       "19cc588f-0593-49c9-9f4b-e4d7cc113b1c": {
        "id": "19cc588f-0593-49c9-9f4b-e4d7cc113b1c",
        "rgb": [
         252,
         252,
         252
        ]
       },
       "31af15d2-7e15-44c5-ab5e-e04b16a89eff": {
        "id": "31af15d2-7e15-44c5-ab5e-e04b16a89eff",
        "rgb": [
         68,
         68,
         68
        ]
       },
       "50f92c45-a630-455b-aec3-788680ec7410": {
        "id": "50f92c45-a630-455b-aec3-788680ec7410",
        "rgb": [
         155,
         177,
         192
        ]
       },
       "c5cc3653-2ee1-402a-aba2-7caae1da4f6c": {
        "id": "c5cc3653-2ee1-402a-aba2-7caae1da4f6c",
        "rgb": [
         43,
         126,
         184
        ]
       },
       "efa7f048-9acb-414c-8b04-a26811511a21": {
        "id": "efa7f048-9acb-414c-8b04-a26811511a21",
        "rgb": [
         25.118061674008803,
         73.60176211453744,
         107.4819383259912
        ]
       }
      },
      "rules": {
       "blockquote": {
        "color": "50f92c45-a630-455b-aec3-788680ec7410"
       },
       "code": {
        "font-family": "Anonymous Pro"
       },
       "h1": {
        "color": "c5cc3653-2ee1-402a-aba2-7caae1da4f6c",
        "font-family": "Lato",
        "font-size": 8
       },
       "h2": {
        "color": "c5cc3653-2ee1-402a-aba2-7caae1da4f6c",
        "font-family": "Lato",
        "font-size": 6
       },
       "h3": {
        "color": "50f92c45-a630-455b-aec3-788680ec7410",
        "font-family": "Lato",
        "font-size": 5.5
       },
       "h4": {
        "color": "c5cc3653-2ee1-402a-aba2-7caae1da4f6c",
        "font-family": "Lato",
        "font-size": 5
       },
       "h5": {
        "font-family": "Lato"
       },
       "h6": {
        "font-family": "Lato"
       },
       "h7": {
        "font-family": "Lato"
       },
       "pre": {
        "font-family": "Anonymous Pro",
        "font-size": 4
       }
      },
      "text-base": {
       "font-family": "Merriweather",
       "font-size": 4
      }
     },
     "eddc5295-dd5e-4179-985b-39e844f915c9": {
      "id": "eddc5295-dd5e-4179-985b-39e844f915c9",
      "palette": {
       "19cc588f-0593-49c9-9f4b-e4d7cc113b1c": {
        "id": "19cc588f-0593-49c9-9f4b-e4d7cc113b1c",
        "rgb": [
         252,
         252,
         252
        ]
       },
       "31af15d2-7e15-44c5-ab5e-e04b16a89eff": {
        "id": "31af15d2-7e15-44c5-ab5e-e04b16a89eff",
        "rgb": [
         68,
         68,
         68
        ]
       },
       "50f92c45-a630-455b-aec3-788680ec7410": {
        "id": "50f92c45-a630-455b-aec3-788680ec7410",
        "rgb": [
         155,
         177,
         192
        ]
       },
       "c5cc3653-2ee1-402a-aba2-7caae1da4f6c": {
        "id": "c5cc3653-2ee1-402a-aba2-7caae1da4f6c",
        "rgb": [
         43,
         126,
         184
        ]
       },
       "efa7f048-9acb-414c-8b04-a26811511a21": {
        "id": "efa7f048-9acb-414c-8b04-a26811511a21",
        "rgb": [
         25.118061674008803,
         73.60176211453744,
         107.4819383259912
        ]
       }
      },
      "rules": {
       "blockquote": {
        "color": "50f92c45-a630-455b-aec3-788680ec7410"
       },
       "code": {
        "font-family": "Anonymous Pro"
       },
       "h1": {
        "color": "c5cc3653-2ee1-402a-aba2-7caae1da4f6c",
        "font-family": "Lato",
        "font-size": 8
       },
       "h2": {
        "color": "c5cc3653-2ee1-402a-aba2-7caae1da4f6c",
        "font-family": "Lato",
        "font-size": 6
       },
       "h3": {
        "color": "50f92c45-a630-455b-aec3-788680ec7410",
        "font-family": "Lato",
        "font-size": 5.5
       },
       "h4": {
        "color": "c5cc3653-2ee1-402a-aba2-7caae1da4f6c",
        "font-family": "Lato",
        "font-size": 5
       },
       "h5": {
        "font-family": "Lato"
       },
       "h6": {
        "font-family": "Lato"
       },
       "h7": {
        "font-family": "Lato"
       },
       "pre": {
        "font-family": "Anonymous Pro",
        "font-size": 4
       }
      },
      "text-base": {
       "font-family": "Merriweather",
       "font-size": 4
      }
     }
    }
   }
  }
 },
 "nbformat": 4,
 "nbformat_minor": 0
}
