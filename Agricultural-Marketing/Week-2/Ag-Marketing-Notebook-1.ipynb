{
 "cells": [
  {
   "cell_type": "markdown",
   "metadata": {},
   "source": [
    "# AGEC 3333 Agricultural Marketing and Price Analysis\n",
    "\n",
    "(based on Chapter 2 of Vercammen, Agricultural Marketing and Price analysis, Rouledge 2011)"
   ]
  },
  {
   "cell_type": "markdown",
   "metadata": {},
   "source": [
    "Q1. Countries A and B both produce coffee and export all of it to Country C. The export price is $0.03/lb higher in A than in B. What can you conclude about the transportation costs that are associated with these threee countries?"
   ]
  },
  {
   "cell_type": "code",
   "execution_count": null,
   "metadata": {
    "collapsed": true
   },
   "outputs": [],
   "source": []
  },
  {
   "cell_type": "markdown",
   "metadata": {},
   "source": [
    " Q2. Countries A and B are net exporters of maize and countries C and D are net importers of maize. Assuming that \n",
    "the marketconsists of these four countries, demonstrate that only in a special case will A export to both C and D and a t the same time B will exportto both C and D. Assume that the transportation cost between each pair of countries has a unique vale."
   ]
  },
  {
   "cell_type": "code",
   "execution_count": null,
   "metadata": {
    "collapsed": true
   },
   "outputs": [],
   "source": []
  },
  {
   "cell_type": "markdown",
   "metadata": {},
   "source": [
    "Q3. Countries, A, B and C produce, consume and trade apples. last year wholesale prices in Countries A, B and C were $\\$0.56/kg$, $\\$0.59/kg$ and $\\$0.52/kg$, respectively. During that period two pairs of countries traded apples with each other (e.g. A export to B and C). Describe two possible trading scenarios that are consistent with the spatial version of the LOP. For each scenario, what is the set of transportation costs?  "
   ]
  },
  {
   "cell_type": "code",
   "execution_count": null,
   "metadata": {
    "collapsed": true
   },
   "outputs": [],
   "source": []
  },
  {
   "cell_type": "markdown",
   "metadata": {},
   "source": [
    "Q4. Referring back to question 3, suppose that for the current year supply and demand conditions are the same as in the previous year except now production in Country C is significantly lower. As a result of the lower production, Country C is now importing from Country B and Country A is not trading. What can you definitely conclude about the transportation costs between these threee countries? "
   ]
  },
  {
   "cell_type": "code",
   "execution_count": null,
   "metadata": {
    "collapsed": true
   },
   "outputs": [],
   "source": []
  },
  {
   "cell_type": "markdown",
   "metadata": {},
   "source": [
    "Q5. The sugar demand and supply parameters for three regions (A,B and C), as well as the grid transportation costs, are listed in Table 2.Q. Notice that A exports \n",
    "\n",
    "\n",
    "\n",
    "<table>\n",
    "<CAPTION ALIGN=\"TOP\">Table 2.Q Demand, supply and unit transportation cost parameters for Question 5</CAPTION>\n",
    "<tr>\n",
    "    <td></td><td colspan=\"2\">Demand</td><td colspan=\"2\">Supply</td><td colspan=\"4\"> Unit transport costs ($/tonne)</td>\n",
    "  </tr>\n",
    "  <tr>\n",
    "    <td>Country</td>\n",
    "    <td>Intercept</td>\n",
    "    <td>Slope </td>\n",
    "    <td>Intercept</td>\n",
    "    <td>Slope</td>\n",
    "    <td>Country</td>\n",
    "    <td> A</td>\n",
    "    <td> B</td>\n",
    "    <td> C</td>\n",
    "    </tr>\n",
    "    <tr>\n",
    "    <td> A </td><td> 0 </td><td> 0 </td><td> 2</td><td> 0.5</td><td> A</td><td> 0 </td><td> 2</td><td> 3</td>\n",
    "    </tr>\n",
    "    <tr>\n",
    "    <td> B </td><td> 100 </td><td> 2 </td><td> 0 </td><td> 0</td><td> B</td><td> 2 </td><td> 0</td><td> 4</td>\n",
    "    </tr>\n",
    "    <tr>\n",
    "    <td> A </td><td> 75 </td><td> 1 </td><td> 5 </td><td> 0.75 </td><td> C </td><td> 3 </td><td> 4</td><td> 0</td>\n",
    "    </tr>\n",
    "  </tr>\n",
    "  </table>\n",
    "\n",
    "\n",
    "everything that it produces because it has no domestic consumers. Conversely, B importseverything that it consumes because it has no domestic producers. Region C, which both produces and consumes, may be a net importer or a net exporter, depending on the particular valuesassumed for the parameters.\n",
    "\n",
    "    a. Solve for the LOP spatial pricing equilibrium using the NLOPT module in Jupyter (you will first need to install this. The easiest way is probably to type on the command line: conda install -c dhirschfeld nlopt=2.2.4 (this assumes you ahve a 64bit computer)). You should solve this in two ways. firstly, solve for the equilibrium prices directly and secondly, assuming LOP holds and total exports equals total imports, secondly solve for the interregional apple shipments and then recover the prices by substituting these into the inverse demand and supply equations.\n",
    "    b. Without using your Nlopt/Python model predict and explain the impact on price in the three countries from the following events.\n",
    "        i. The supply intercept in region A and C increases from 3 to 10 due to the problems.\n",
    "        ii. The transport cost between A and C increases from 3 to 10 due to the imposition of a tariff by region C.\n",
    "        iii. The demand intercept in region C decreases from 75 to 40 as a result of health concerns about the commodity in region C."
   ]
  },
  {
   "cell_type": "code",
   "execution_count": null,
   "metadata": {
    "collapsed": true
   },
   "outputs": [],
   "source": []
  }
 ],
 "metadata": {
  "anaconda-cloud": {},
  "kernelspec": {
   "display_name": "Python [Root]",
   "language": "python",
   "name": "Python [Root]"
  },
  "language_info": {
   "codemirror_mode": {
    "name": "ipython",
    "version": 3
   },
   "file_extension": ".py",
   "mimetype": "text/x-python",
   "name": "python",
   "nbconvert_exporter": "python",
   "pygments_lexer": "ipython3",
   "version": "3.5.1"
  }
 },
 "nbformat": 4,
 "nbformat_minor": 0
}
