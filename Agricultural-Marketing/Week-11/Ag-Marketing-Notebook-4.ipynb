{
 "cells": [
  {
   "cell_type": "markdown",
   "metadata": {},
   "source": [
    "# Agricultural Marketing and Price Analysis - Notebook 4\n",
    "\n",
    "Based on Vercammen, Chapter 5.\n",
    "\n",
    "Prices over form (quality)"
   ]
  },
  {
   "cell_type": "markdown",
   "metadata": {},
   "source": [
    "Q1.There are two quality versions of cocoa beans: low (L) and high (H) . The top grade of cocoa beans (A) allows a \n",
    "maximum of 25 percent L in the blend. The bottom grade of cocoa beans (B) allows a maximum of 100 percent L in the blend. The price of grade A beans is $\\$3,250$/tonne and the price of grade B beans is $\\$2,900$/tonne. There are 200 tonnes of L quality beans and 500 tonnes of H qualitybeans avaialable in the market. Assume that blending is performedby competitive traders and the blending process is costless.\n",
    "\n",
    "a. Use the zero arbitrage profits (LOP) approach to calculate the anount of quality (L) beans that will be blended with quality H beans. Then calculate the equilibrium price of the L and H quality cocoa beans.\n",
    "\n",
    "b. Demonstrate that the quantity solution to part a) maximizes the aggregate value of the cocoa beans. Calculate the shadow value of the quality H beans by measuring the increase in the aggregate valueof the beans if one more unitof H quality beans was available for blending. Does the calculated shadow price of the qualityH bean correspond to the equilibrium price that you calculated in part a)?\n",
    "\n",
    "c. Identify the blending rents within the equilibrium prices. Explain the relationship between the equilibrium price of H quality cocoa beans and the market price of grade B beans."
   ]
  },
  {
   "cell_type": "code",
   "execution_count": null,
   "metadata": {
    "collapsed": true
   },
   "outputs": [],
   "source": []
  },
  {
   "cell_type": "markdown",
   "metadata": {},
   "source": [
    "Q 2. In a stock of 500 tonnesof wheat, protein is uniformly distributed between 11 and 15 percent. High protein wheat has a proteincontent between 14 and 15 percent, and low protein wheat has a protein content between 11 and 14 percent. The selling price of high protein wheat is $\\$450$/tonne and the selling price of low protein wheat is $\\$420$/tonne. What is the market value of the wheat stock with and without blending? Assume that blending decisions are made by competitive traders and that the blending process is costless. "
   ]
  },
  {
   "cell_type": "code",
   "execution_count": null,
   "metadata": {
    "collapsed": true
   },
   "outputs": [],
   "source": []
  },
  {
   "cell_type": "markdown",
   "metadata": {},
   "source": [
    "Q3. Inverse market demand is given by $P = 150-2Q$ for fresh potatoes and $P = 100 - Q$ for processing potatoes, where $Q$ is quantity measured in tonnes and $P$is price \n",
    "measured in dollars per tonne. The supply side of the market consists of 100 tonnes of potatoes with individual potatoe weightuniformly distributed between 200 and 400 grams. A producer association that is a single desk seller of the potatoes sorts the potatoes into two piles: Those weighing less than or equal to $m$ grams and those weighing more than $m$ grams. The low weight potatoes are sold for processing and the high weight potatoes are sold into the fresh market. When answering the following questions assume that potato prices are set competitively and sorting potatoes is costless.\n",
    "\n",
    "a. what value will the producer association set for $m$ if they wish to maximize the aggregate market value of the stock of potatoes?\n",
    "\n",
    "b. With the optimal value for $m$, what is the pair of equilibrium prices for the fresh and processing potatoes?"
   ]
  },
  {
   "cell_type": "code",
   "execution_count": null,
   "metadata": {
    "collapsed": true
   },
   "outputs": [],
   "source": []
  },
  {
   "cell_type": "markdown",
   "metadata": {},
   "source": [
    "Q 4. Devlop a linear programming model to resolve Q 1. with the added assumption that a third $A^{minus}$ grade exists. The $A^{minus}$ allows a maximum of 40 percent quality $L$ cocoa beans. The selling price of the $A^{minus}$ grade is $\\$ 3190$/tonne. Be sure to incorporate the two grade restrictions. $\\frac{Q_L}{Q_L + Q_H} \\leq 0.25$ and $\\frac{Q_L}{Q_L + Q_H} \\leq 0.4$. Because scipy optimize does not automatically produce shadow prices you will neeed tos et-up and solve the dual problem to obtain these.\n",
    "\n",
    "a. In a competitive equilibrium, how are the stocks of the L and H quality cocoa beans allocated to each of the three grades?\n",
    "\n",
    "b. What is the equilibrium price of the L and H quality beans (i.e. what are the shadow prices)? \n",
    "\n",
    "c. By how much can the stock of H quality beans increase before H quality beans are in surplus and blending rents therefore vanish from the price of the H quality beans?\n",
    "\n",
    "d. Explain why the equilibrium price of the quality H beans decreases when the new grade category is added."
   ]
  },
  {
   "cell_type": "code",
   "execution_count": null,
   "metadata": {
    "collapsed": true
   },
   "outputs": [],
   "source": []
  }
 ],
 "metadata": {
  "kernelspec": {
   "display_name": "Python [Root]",
   "language": "python",
   "name": "Python [Root]"
  },
  "language_info": {
   "codemirror_mode": {
    "name": "ipython",
    "version": 3
   },
   "file_extension": ".py",
   "mimetype": "text/x-python",
   "name": "python",
   "nbconvert_exporter": "python",
   "pygments_lexer": "ipython3",
   "version": "3.5.1"
  }
 },
 "nbformat": 4,
 "nbformat_minor": 0
}
