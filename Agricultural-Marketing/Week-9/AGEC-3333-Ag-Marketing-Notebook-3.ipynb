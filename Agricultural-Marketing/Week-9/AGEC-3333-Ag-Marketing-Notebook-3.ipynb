{
 "cells": [
  {
   "cell_type": "markdown",
   "metadata": {},
   "source": [
    "# AGEC 3333 Agricultural Marketing and Price Analysis Notebook 3"
   ]
  },
  {
   "cell_type": "markdown",
   "metadata": {},
   "source": [
    "1. A Trader has access to grain storage capcity in Chicago. The monthly cost of storage is $0.04/bushel and the trader's cost of capital is 0.5\\% per month. The trader's main business is to purchasegrain in the spot market and deliver it against a short futures contract, or to accept delivery of  grain via long futures contract and then sell the grain in the spot market (assume that these activities can be done at zero cost). In the set of pricing scenarios listed below identify those that can be arbitraged (be sure to describe the specific arbitrage strategy). As well, explain what will happen to market prices if a larger number of traderspursue similar arbitrage activities. To simplify the discussion, assume that the commodity can only be delivered against a futures contract on the last day of the contract's expiry month.\n",
    "\n",
    "a. On 1 August the Chicago spot price of oats is \\$ 2.60/bushel and the CBOT price for December oat futures is \\$2.05/bushel.\n",
    "\n",
    "b. On 1 September the Chicago spot price of cornis $3.80/bushel and the CBOT price for marchcorn futures is \\$ 4.20/bushel.\n",
    "\n",
    "c. On 1 Decemeber wheat futuresfor the following Marcha nd July are trading at \\$5.50/bushel and \\$ 5.80/bushel, respectively.\n",
    "\n",
    "d. On 1 August local farmers are willing to commit to deliver soybeans to the trader's Chicago warehouse on the last day of December. The contract stipulates that when delivery is made the trader must pay the farmer \\$9.20/bushel. On 1 August soybean futuresfor the following January are trading at \\$9.30/bushel."
   ]
  },
  {
   "cell_type": "code",
   "execution_count": null,
   "metadata": {
    "collapsed": true
   },
   "outputs": [],
   "source": []
  },
  {
   "cell_type": "markdown",
   "metadata": {},
   "source": [
    "2.Hedging converts price risk into basis risk through offsetting positions in the spot and futures markets. A trader who owns the commodity (now or in the future) and plans to later sell the commodity in the spot market will initiate a hedge by taking a short futures position and will terminate the hedge when the commodity is sold in the spot market by \n",
    "taking an offsetting long futures position. A trader who plans on purchasing the commodity in the spot market at some future date will initiate the hedge with a long futures position and terminate it when the commodity is urchased in the spot marketwith an offsetting short future position. If the aniticpatedsize of the spot market transaction is the same size as the size of the futures market transaction, then the profit or loss on the hedge will depend only on the change in the basis net of the commodity's carrying cost over the hedging period.\n",
    "\n",
    "a. On 1 september the spot price of wheat is \\$ 5.25/bushel and CBOT wheat futures for the following March are trading at \\$ 5.55 /bushel. A trader owns wheat on 1 September and plans on selling the wheat on 31 January. The trader's cost of storage is \\$ 0.04/bushel and cost of capital is 0.05\\% per month.\n",
    "    i. Explain how the trader can hedge in order to convert price risk into basis risk.\n",
    "    \n",
    "    ii. Ignoring trading costs, what is the net loss or gain for the hedger relative to the 1 september spot price if the 31 January price of a March CBOT wheat futures contract turns out to be \\$ 7.25 /bushel?\n",
    "    \n",
    "    iii. How would your answer change if the 31 January spot price was \\$ 3.90 /bushel instead of \\$ 7.15/bushel and if the CBOT price for March wheat was \\$ 4.00/bushel instead of \\$7.25/bushel?\n",
    "\n",
    "b. An important reason why farmers are reluctant to ledger is they may not be able to finance large margin calls. With reference to part (a) of this question, calculate the change in the trader's margin account over the 1 September to 31 January period for the scenario where the March futures contract for wheat rosefrom \\$ 5.55/bushel to \\$ 7.25/bushel over this period and the trader hedged 10,000 bushels.\n",
    "\n",
    "c. A grain merchant purchases corn from farmers in the lcoal spot market and plans to later resell the corn to a local processor sometime in January or February. Suppose it costs \\$ 0.15/bushel to transport the commodity from the local market to the delivery point specified in the futures contract. The trader's cost of storage is \\$ 0.04/bushel per month and the trader's cost of capital is 0.5\\% per month. On 1 October CBOT corn futures for March of the following year are trading at \\$ 4.05/bushel.\n",
    "\n",
    "    i. What local spot price will the trader set for 1 october if the trader prices accoridng to an arbitrage strategy? Arbitrage involves delivering the corn that is purchased from the farmer against a March futures contract and just breaking even on the transaction.\n",
    "    \n",
    "    ii. Suppose on 1 October the trder takes a short March futures position at \\$ 4.05/bushel, pays the spot price calculated in part (i) to acquire the corn and later resells to the processor on 31 January for \\$ 4.25/bushel. Assuming the trader realizes a net gain of \\$0.07/bushel after offsetting the short futures position, calculate the 31 January futures price for the March wheat contract.\n",
    "    \n",
    "d. An exporter has committed to sell soybeans at a pre-negotiated price to an overseas buyer with a delivery date set threee months in the future. The exporter intends to purchase the beans in the spot market two months in the future and use those purchased beans to fulfill the requirements of the export contract. Describe a possible hedging strategy for the crusher. How do net profitsfrom the ehdge fund depnd on the movement in the basis over the three-month period that begins 1 september.? "
   ]
  },
  {
   "cell_type": "code",
   "execution_count": null,
   "metadata": {
    "collapsed": true
   },
   "outputs": [],
   "source": []
  },
  {
   "cell_type": "markdown",
   "metadata": {},
   "source": [
    "3.The market for a storable commodity consists of two periods. Inverse market demand is constant. in each period and is equal to \n",
    "$$P = 10-Q $$. Production in period 2 is equal to 5 units with certainty. Post harvest stocks in period 1 are equal to K units. The cost of \n",
    "storage from period 1 to period 2 is \\$ 1/unit, and the opportunity costof capital is zero. A zero cost of capital implies that the discount factor is equal to 1.\n",
    "\n",
    "a. Derive the equilibrium price for each period as a function of K accounting for the non-negative storage constraint. Now assume that K is a random variable, in which case equilibrium price in period 2and the price spread across the two periods are also random. Use your simple \n",
    "model to describe why the price spreads fluctuate over time and occasionally invert in response to changes in the market's exectations about the size of K.\n",
    "\n",
    "b. In this chapter two theories were developed to explain why prices are sometimes inverted in a commodity futures \n",
    "market'(i.e. nearby contracts trade at a higher price than more distant contracts). In both the stock \n",
    "outtheory and the convenience yield theorythere is a connection between the likelihood of price inversion \n",
    "and the level of stocks in the market. For this pair of theories, does the conection between stock levels and inversion work in the same direction or the opposite direction (ie. are the effects offsetting or reinforcing)?"
   ]
  },
  {
   "cell_type": "code",
   "execution_count": null,
   "metadata": {
    "collapsed": true
   },
   "outputs": [],
   "source": []
  }
 ],
 "metadata": {
  "anaconda-cloud": {},
  "kernelspec": {
   "display_name": "Python [Root]",
   "language": "python",
   "name": "Python [Root]"
  },
  "language_info": {
   "codemirror_mode": {
    "name": "ipython",
    "version": 3
   },
   "file_extension": ".py",
   "mimetype": "text/x-python",
   "name": "python",
   "nbconvert_exporter": "python",
   "pygments_lexer": "ipython3",
   "version": "3.5.1"
  }
 },
 "nbformat": 4,
 "nbformat_minor": 0
}
