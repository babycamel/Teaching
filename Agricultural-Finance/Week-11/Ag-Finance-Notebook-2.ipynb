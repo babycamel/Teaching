{
 "cells": [
  {
   "cell_type": "markdown",
   "metadata": {},
   "source": [
    "# Agricultural Finance Notebook 2\n",
    "\n",
    "Based on Moss Chapter 5"
   ]
  },
  {
   "cell_type": "markdown",
   "metadata": {},
   "source": [
    "5-1R What is capital budgeting?"
   ]
  },
  {
   "cell_type": "code",
   "execution_count": null,
   "metadata": {
    "collapsed": true
   },
   "outputs": [],
   "source": []
  },
  {
   "cell_type": "markdown",
   "metadata": {},
   "source": [
    "5-2R Why would the term structure of the interest rate be increasing?"
   ]
  },
  {
   "cell_type": "code",
   "execution_count": null,
   "metadata": {
    "collapsed": true
   },
   "outputs": [],
   "source": []
  },
  {
   "cell_type": "markdown",
   "metadata": {},
   "source": [
    "5-3R Demonstrate how net present value depicts changes in the decision makers wealth."
   ]
  },
  {
   "cell_type": "code",
   "execution_count": null,
   "metadata": {
    "collapsed": true
   },
   "outputs": [],
   "source": []
  },
  {
   "cell_type": "markdown",
   "metadata": {},
   "source": [
    "5-1E Based on the expression $$NPV = -100 + \\frac{25}{1.06} + \\frac{50}{1.12625} + \\frac{65}{1.197767} $$\n",
    "\n",
    "what is the net present value? What does this expression imply about the term structure of the interest rate?"
   ]
  },
  {
   "cell_type": "code",
   "execution_count": null,
   "metadata": {
    "collapsed": true
   },
   "outputs": [],
   "source": []
  },
  {
   "cell_type": "markdown",
   "metadata": {},
   "source": [
    "5-2E You have a dairy cow that produces $\\$ 3200$ of milk per year for 10 years (realized at the end of the year). In the 11th she becomes infertileso you sell her for $1000. What is the present value of the dairy cow assuming a weighted average cost of capital of 4.75 percent? "
   ]
  },
  {
   "cell_type": "code",
   "execution_count": null,
   "metadata": {
    "collapsed": true
   },
   "outputs": [],
   "source": []
  },
  {
   "cell_type": "markdown",
   "metadata": {},
   "source": [
    "5-3E Assume that the producer is considering planting an alfalfa meadow which will pay  $\\$ 600$ over the next 7 years. If the net investment (machinery and planting cost) will cost $\\$1450$, is this investment profitable? What happens if the meadow will last another year?"
   ]
  },
  {
   "cell_type": "code",
   "execution_count": null,
   "metadata": {
    "collapsed": true
   },
   "outputs": [],
   "source": []
  },
  {
   "cell_type": "markdown",
   "metadata": {},
   "source": [
    "5-4E Given the data below for the replacement decision of an asset. The question is whether to continue to use the old asset or to replace it with a new asset. Assuming a weighted average cost of capital of 6 percent, should the asset be replaced? What f the new asset is a 5 year MARC asset which does not qualify for additional first-year depreciation while the old asset has been completely depreciated out? Assuming a tax rate of 25 percent, does the decision change? "
   ]
  },
  {
   "cell_type": "code",
   "execution_count": 5,
   "metadata": {
    "collapsed": false,
    "scrolled": true
   },
   "outputs": [],
   "source": [
    "data = { \n",
    "       'Year': [2013,2014,2015,2017,2018,2019],\n",
    "       'old machine price': [14268,13573,12911,12281,11682,11112],\n",
    "       'old machine repairs': [2424,2626,2845,3082,3338,3616],\n",
    "       'new machine price':  [23781,22621,21518,20468,19470,18520],\n",
    "       'new machine repairs': [120,240,360,480,600,720]\n",
    "       }"
   ]
  },
  {
   "cell_type": "code",
   "execution_count": null,
   "metadata": {
    "collapsed": true
   },
   "outputs": [],
   "source": []
  },
  {
   "cell_type": "markdown",
   "metadata": {},
   "source": [
    "5-5E Assuming a weighted average cost of capital of 7.5 percent, which investment listed in the data below is more profitable?"
   ]
  },
  {
   "cell_type": "code",
   "execution_count": 6,
   "metadata": {
    "collapsed": true
   },
   "outputs": [],
   "source": [
    "#This should be answered in this cell although you may need to add a markdown cell to add some writing\n",
    "A = [-15000, 2000,3000,4000,5000,6000]\n",
    "B = -25000,7000,6000,5000,4000,3000,2000,1000"
   ]
  },
  {
   "cell_type": "markdown",
   "metadata": {},
   "source": [
    "5-6E Consider the cashflows for the purchase of a new tractor. In table 5-23 of the textbook , assuming that the new tractor costs $\\$ 15000$ is it better to trade the tractor in year 22 or year 23. You will have to enter the dat yourselves for this one."
   ]
  },
  {
   "cell_type": "code",
   "execution_count": null,
   "metadata": {
    "collapsed": true
   },
   "outputs": [],
   "source": []
  }
 ],
 "metadata": {
  "anaconda-cloud": {},
  "kernelspec": {
   "display_name": "Python [Root]",
   "language": "python",
   "name": "Python [Root]"
  },
  "language_info": {
   "codemirror_mode": {
    "name": "ipython",
    "version": 3
   },
   "file_extension": ".py",
   "mimetype": "text/x-python",
   "name": "python",
   "nbconvert_exporter": "python",
   "pygments_lexer": "ipython3",
   "version": "3.5.1"
  }
 },
 "nbformat": 4,
 "nbformat_minor": 0
}
